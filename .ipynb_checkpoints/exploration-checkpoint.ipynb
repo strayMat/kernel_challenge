{
 "cells": [
  {
   "cell_type": "code",
   "execution_count": 1,
   "metadata": {},
   "outputs": [],
   "source": [
    "import pandas as pd\n",
    "import numpy as np\n",
    "from kernel_utils import *\n",
    "\n",
    "import matplotlib.pyplot as plt\n",
    "from matplotlib import cm\n",
    "from numpy import linalg as LA\n",
    "from tqdm import tqdm\n",
    "\n",
    "from matplotlib import rc\n",
    "rc('font',**{'family':'sans-serif','sans-serif':['Helvetica']})\n",
    "rc('text', usetex=True)"
   ]
  },
  {
   "cell_type": "code",
   "execution_count": 2,
   "metadata": {},
   "outputs": [],
   "source": [
    "X = pd.read_csv('data/Xtr1_mat50.csv', sep=' ', header=None)\n",
    "Y = pd.read_csv('data/Ytr1.csv', sep=',', header=0)\n",
    "X_t = pd.read_csv('data/Xte1_mat50.csv', sep=' ', header=None)\n",
    "# Y_test = pd.read_csv('data/Yte0.csv', sep=',', header=0)\n",
    "Y.columns = [\"idx\", \"bound\"]\n",
    "Y = Y.drop([\"idx\"], axis=1)\n",
    "# Y_test.columns = [\"idx\", \"bound\"]\n",
    "# Y_test = Y_test.drop([\"idx\"], axis=1)\n",
    "\n",
    "X_raw = pd.read_csv('data/Xtr1.csv', sep=' ', header=None)\n",
    "\n",
    "\n",
    "\n"
   ]
  },
  {
   "cell_type": "code",
   "execution_count": 3,
   "metadata": {
    "scrolled": true
   },
   "outputs": [
    {
     "name": "stdout",
     "output_type": "stream",
     "text": [
      "['AAA', 'AAC', 'AAT', 'AAG', 'ACA', 'ACC', 'ACT', 'ACG', 'ATA', 'ATC', 'ATT', 'ATG', 'AGA', 'AGC', 'AGT', 'AGG', 'CAA', 'CAC', 'CAT', 'CAG', 'CCA', 'CCC', 'CCT', 'CCG', 'CTA', 'CTC', 'CTT', 'CTG', 'CGA', 'CGC', 'CGT', 'CGG', 'TAA', 'TAC', 'TAT', 'TAG', 'TCA', 'TCC', 'TCT', 'TCG', 'TTA', 'TTC', 'TTT', 'TTG', 'TGA', 'TGC', 'TGT', 'TGG', 'GAA', 'GAC', 'GAT', 'GAG', 'GCA', 'GCC', 'GCT', 'GCG', 'GTA', 'GTC', 'GTT', 'GTG', 'GGA', 'GGC', 'GGT', 'GGG']\n"
     ]
    }
   ],
   "source": [
    "# Construction of the proteine\n",
    "\n",
    "from itertools import product\n",
    "from string import ascii_lowercase\n",
    "base_azote = ['A', 'C', 'T', 'G']\n",
    "\n",
    "# Creation of all possible combinations\n",
    "dic_prot = [''.join(i) for i in product(base_azote, repeat = 3)]\n",
    "nb_feat = len(dic_prot)\n",
    "print(dic_prot)"
   ]
  },
  {
   "cell_type": "code",
   "execution_count": 4,
   "metadata": {
    "scrolled": true
   },
   "outputs": [
    {
     "name": "stderr",
     "output_type": "stream",
     "text": [
      "100%|██████████| 100/100 [00:04<00:00, 22.30it/s]"
     ]
    },
    {
     "name": "stdout",
     "output_type": "stream",
     "text": [
      "[[ 1.  1.  1. ...,  4.  0.  1.]\n",
      " [ 3.  1.  0. ...,  3.  2.  3.]\n",
      " [ 0.  0.  0. ...,  0.  2.  0.]\n",
      " ..., \n",
      " [ 1.  0.  0. ...,  4.  5.  7.]\n",
      " [ 1.  1.  1. ...,  3.  0.  4.]\n",
      " [ 0.  0.  0. ...,  4.  2.  7.]]\n"
     ]
    },
    {
     "name": "stderr",
     "output_type": "stream",
     "text": [
      "\n"
     ]
    }
   ],
   "source": [
    "from tqdm import tqdm\n",
    "\n",
    "k=3\n",
    "def k_spectre(seq, k=3):\n",
    "    \"\"\"\n",
    "    Combine all the k-successive\n",
    "    \"\"\"\n",
    "    k_seq = []\n",
    "    for i in range(len(seq)-k+1):\n",
    "        tmp = ''\n",
    "        for j in range(k):\n",
    "            tmp += seq[i+j]\n",
    "        k_seq.append(tmp)\n",
    "    return k_seq\n",
    "\n",
    "init_feat = pd.DataFrame(0, index=[0], columns=dic_prot)\n",
    "# init_feat.append(np.zeros(4**k))\n",
    "\n",
    "def count_kuplet(k_seq):\n",
    "    k = len(k_seq[0])\n",
    "    new_feat = init_feat.copy()\n",
    "    for kuplet in k_seq:\n",
    "        new_feat[kuplet] += 1.\n",
    "    return np.array(new_feat).reshape(4**k)\n",
    "\n",
    "def feature_exractor(X, k=3):\n",
    "    X_processed = []\n",
    "    for seq in tqdm(X[0]):\n",
    "        X_processed.append(count_kuplet(k_spectre(seq)))\n",
    "    \n",
    "    return np.array(X_processed)\n",
    "\n",
    "    \n",
    "test = feature_exractor(X_raw[:100])    \n",
    "print(test)"
   ]
  },
  {
   "cell_type": "code",
   "execution_count": 7,
   "metadata": {},
   "outputs": [
    {
     "data": {
      "text/plain": [
       "(100, 64)"
      ]
     },
     "execution_count": 7,
     "metadata": {},
     "output_type": "execute_result"
    }
   ],
   "source": [
    "test.shape"
   ]
  },
  {
   "cell_type": "code",
   "execution_count": 8,
   "metadata": {},
   "outputs": [
    {
     "data": {
      "text/plain": [
       "(100,)"
      ]
     },
     "execution_count": 8,
     "metadata": {},
     "output_type": "execute_result"
    }
   ],
   "source": []
  },
  {
   "cell_type": "code",
   "execution_count": 10,
   "metadata": {
    "scrolled": true
   },
   "outputs": [],
   "source": [
    "X_train, Y_train, X_test, Y_test = preprocessing(test, np.transpose(np.matrix(Y['bound'][:100])))"
   ]
  },
  {
   "cell_type": "code",
   "execution_count": 11,
   "metadata": {},
   "outputs": [
    {
     "data": {
      "text/plain": [
       "matrix([[  1.,   0.,   2., ...,   2.,   2.,   1.],\n",
       "        [  0.,   2.,   3., ...,   0.,   1.,   1.],\n",
       "        [  3.,   3.,   0., ...,   0.,   4.,   1.],\n",
       "        ..., \n",
       "        [  0.,   0.,   0., ...,   1.,  11.,   1.],\n",
       "        [  2.,   0.,   0., ...,   1.,   5.,   1.],\n",
       "        [  0.,   0.,   0., ...,   1.,   1.,   1.]])"
      ]
     },
     "execution_count": 11,
     "metadata": {},
     "output_type": "execute_result"
    }
   ],
   "source": [
    "X_train"
   ]
  },
  {
   "cell_type": "code",
   "execution_count": 104,
   "metadata": {},
   "outputs": [
    {
     "name": "stdout",
     "output_type": "stream",
     "text": [
      "accuracy for testing : 0.4975\n",
      "accuracy for training : 0.575\n"
     ]
    }
   ],
   "source": [
    "from sklearn import svm\n",
    "\n",
    "clf = svm.SVC(C=.001, kernel='poly', degree=3)\n",
    "\n",
    "clf.fit(X_train, Y_train['bound'])\n",
    "Y_pred = clf.predict(X_test)\n",
    "Y_train_pred = clf.predict(X_train)\n",
    "print(\"accuracy for testing : {}\".format(np.sum(Y_test['bound'] == Y_pred)/len(Y_test)))\n",
    "print(\"accuracy for training : {}\".format(np.sum(Y_train_pred == Y_train['bound'])/len(Y_train)))\n",
    "# print(Y_train_pred.shape)"
   ]
  },
  {
   "cell_type": "code",
   "execution_count": 78,
   "metadata": {},
   "outputs": [
    {
     "name": "stdout",
     "output_type": "stream",
     "text": [
      "accuracy for testing : 0.5325\n",
      "accuracy for training : 0.584375\n"
     ]
    }
   ],
   "source": [
    "from sklearn.kernel_ridge import KernelRidge\n",
    "\n",
    "clf = KernelRidge(alpha=.1)\n",
    "clf.fit(X_train, Y_train['bound'])\n",
    "Y_pred = clf.predict(X_test) > 0.5\n",
    "Y_train_pred = clf.predict(X_train) > 0.5\n",
    "print(\"accuracy for testing : {}\".format(np.sum(Y_test['bound'] == Y_pred)/len(Y_test)))\n",
    "print(\"accuracy for training : {}\".format(np.sum(Y_train_pred == Y_train['bound'])/len(Y_train)))\n"
   ]
  },
  {
   "cell_type": "code",
   "execution_count": 79,
   "metadata": {},
   "outputs": [
    {
     "name": "stdout",
     "output_type": "stream",
     "text": [
      "accuracy for testing : 0.495\n",
      "accuracy for training : 0.9175\n"
     ]
    }
   ],
   "source": [
    "from sklearn.ensemble import RandomForestClassifier\n",
    "\n",
    "clf = RandomForestClassifier(n_estimators=5, max_depth=None, min_samples_split=4, random_state=0)\n",
    "clf.fit(X_train, Y_train['bound'])\n",
    "Y_pred = clf.predict(X_test)\n",
    "Y_train_pred = clf.predict(X_train)\n",
    "print(\"accuracy for testing : {}\".format(np.sum(Y_test['bound'] == Y_pred)/len(Y_test)))\n",
    "print(\"accuracy for training : {}\".format(np.sum(Y_train_pred == Y_train['bound'])/len(Y_train)))\n"
   ]
  },
  {
   "cell_type": "code",
   "execution_count": 80,
   "metadata": {},
   "outputs": [
    {
     "name": "stdout",
     "output_type": "stream",
     "text": [
      "accuracy for testing : 0.4775\n",
      "accuracy for training : 0.731875\n"
     ]
    }
   ],
   "source": [
    "from sklearn.ensemble import GradientBoostingClassifier\n",
    "\n",
    "clf = GradientBoostingClassifier(n_estimators=5, learning_rate=.1, max_depth=5, random_state=0)\n",
    "clf.fit(X_train, Y_train['bound'])\n",
    "Y_pred = clf.predict(X_test)\n",
    "Y_train_pred = clf.predict(X_train)\n",
    "print(\"accuracy for testing : {}\".format(np.sum(Y_test['bound'] == Y_pred)/len(Y_test)))\n",
    "print(\"accuracy for training : {}\".format(np.sum(Y_train_pred == Y_train['bound'])/len(Y_train)))"
   ]
  },
  {
   "cell_type": "code",
   "execution_count": 87,
   "metadata": {
    "scrolled": true
   },
   "outputs": [
    {
     "name": "stdout",
     "output_type": "stream",
     "text": [
      "Epoch 1/20\n",
      "1600/1600 [==============================] - 1s 691us/step - loss: 0.7011 - acc: 0.4806\n",
      "Epoch 2/20\n",
      "1600/1600 [==============================] - 1s 359us/step - loss: 0.6986 - acc: 0.4881\n",
      "Epoch 3/20\n",
      "1600/1600 [==============================] - 1s 376us/step - loss: 0.6984 - acc: 0.5119\n",
      "Epoch 4/20\n",
      "1600/1600 [==============================] - 1s 376us/step - loss: 0.6970 - acc: 0.4963\n",
      "Epoch 5/20\n",
      "1600/1600 [==============================] - 1s 391us/step - loss: 0.6964 - acc: 0.5144 0s - loss: 0.6940 -\n",
      "Epoch 6/20\n",
      "1600/1600 [==============================] - 1s 370us/step - loss: 0.6972 - acc: 0.4838\n",
      "Epoch 7/20\n",
      "1600/1600 [==============================] - 1s 376us/step - loss: 0.6965 - acc: 0.4988\n",
      "Epoch 8/20\n",
      "1600/1600 [==============================] - 1s 413us/step - loss: 0.6959 - acc: 0.5113 0s - loss: 0.6950 - \n",
      "Epoch 9/20\n",
      "1600/1600 [==============================] - 1s 381us/step - loss: 0.6959 - acc: 0.5019\n",
      "Epoch 10/20\n",
      "1600/1600 [==============================] - 1s 450us/step - loss: 0.6946 - acc: 0.5200\n",
      "Epoch 11/20\n",
      "1600/1600 [==============================] - 1s 510us/step - loss: 0.6960 - acc: 0.4963\n",
      "Epoch 12/20\n",
      "1600/1600 [==============================] - 1s 571us/step - loss: 0.6959 - acc: 0.5069\n",
      "Epoch 13/20\n",
      "1600/1600 [==============================] - 1s 471us/step - loss: 0.6956 - acc: 0.4875\n",
      "Epoch 14/20\n",
      "1600/1600 [==============================] - 1s 414us/step - loss: 0.6966 - acc: 0.4950\n",
      "Epoch 15/20\n",
      "1600/1600 [==============================] - 1s 407us/step - loss: 0.6936 - acc: 0.5188\n",
      "Epoch 16/20\n",
      "1600/1600 [==============================] - 1s 424us/step - loss: 0.6950 - acc: 0.4988\n",
      "Epoch 17/20\n",
      "1600/1600 [==============================] - 1s 399us/step - loss: 0.6947 - acc: 0.5044\n",
      "Epoch 18/20\n",
      "1600/1600 [==============================] - 1s 526us/step - loss: 0.6952 - acc: 0.5113\n",
      "Epoch 19/20\n",
      "1600/1600 [==============================] - 1s 675us/step - loss: 0.6940 - acc: 0.5031\n",
      "Epoch 20/20\n",
      "1600/1600 [==============================] - 1s 422us/step - loss: 0.6962 - acc: 0.4756\n",
      "accuracy for testing : bound    0.5\n",
      "dtype: float64\n",
      "accuracy for training : bound    0.5\n",
      "dtype: float64\n"
     ]
    }
   ],
   "source": [
    "from keras.models import Sequential\n",
    "from keras.layers import Dense\n",
    "from keras.optimizers import Adam\n",
    "\n",
    "model = Sequential()\n",
    "model.add(Dense(100, input_dim=50, activation='sigmoid', kernel_initializer='random_uniform'))\n",
    "model.add(Dense(50, activation='sigmoid', kernel_initializer='random_uniform'))\n",
    "# model.add(Dense(8, activation='relu'))\n",
    "model.add(Dense(1, activation='sigmoid'))\n",
    "# am = Adam(lr=0.01)\n",
    "model.compile(loss='binary_crossentropy', optimizer='adam', metrics=['accuracy'])\n",
    "model.fit(X_train, Y_train['bound'], epochs=20, batch_size=5)\n",
    "\n",
    "# clf.fit(X_train, )\n",
    "Y_pred = model.predict(X_test)>0.5\n",
    "Y_train_pred = model.predict(X_train)>0.5\n",
    "print(\"accuracy for testing : {}\".format(np.sum(Y_test == Y_pred)/len(Y_test)))\n",
    "print(\"accuracy for training : {}\".format(np.sum(Y_train_pred == Y_train)/len(Y_train)))"
   ]
  },
  {
   "cell_type": "code",
   "execution_count": 12,
   "metadata": {},
   "outputs": [
    {
     "data": {
      "text/plain": [
       "(400, 1)"
      ]
     },
     "execution_count": 12,
     "metadata": {},
     "output_type": "execute_result"
    }
   ],
   "source": [
    "Y_pred.shape"
   ]
  },
  {
   "cell_type": "markdown",
   "metadata": {},
   "source": [
    "Bon en fait j'ai l'impression que a marche pas de ouf cette représentation des ACTG... Faut qu'on trouve notre propre truc.\n"
   ]
  },
  {
   "cell_type": "code",
   "execution_count": 92,
   "metadata": {},
   "outputs": [
    {
     "name": "stdout",
     "output_type": "stream",
     "text": [
      "['AAA', 'AAC', 'AAT', 'AAG', 'ACA', 'ACC', 'ACT', 'ACG', 'ATA', 'ATC', 'ATT', 'ATG', 'AGA', 'AGC', 'AGT', 'AGG', 'CAA', 'CAC', 'CAT', 'CAG', 'CCA', 'CCC', 'CCT', 'CCG', 'CTA', 'CTC', 'CTT', 'CTG', 'CGA', 'CGC', 'CGT', 'CGG', 'TAA', 'TAC', 'TAT', 'TAG', 'TCA', 'TCC', 'TCT', 'TCG', 'TTA', 'TTC', 'TTT', 'TTG', 'TGA', 'TGC', 'TGT', 'TGG', 'GAA', 'GAC', 'GAT', 'GAG', 'GCA', 'GCC', 'GCT', 'GCG', 'GTA', 'GTC', 'GTT', 'GTG', 'GGA', 'GGC', 'GGT', 'GGG']\n"
     ]
    }
   ],
   "source": [
    "# Construction of the proteine\n",
    "\n",
    "from itertools import product\n",
    "from string import ascii_lowercase\n",
    "base_azote = ['A', 'C', 'T', 'G']\n",
    "\n",
    "# Creation of all possible combinations\n",
    "dic_prot = [''.join(i) for i in product(base_azote, repeat = 3)]\n",
    "nb_feat = len(dic_prot)\n",
    "print(dic_prot)"
   ]
  },
  {
   "cell_type": "code",
   "execution_count": 5,
   "metadata": {},
   "outputs": [
    {
     "name": "stdout",
     "output_type": "stream",
     "text": [
      "0    CGGGCCTCCTCCAGGCTCAGAATCGACCCCCCCCCATCCTGATAGA...\n",
      "1    CTCCGCCCGCACTTCCGTCTGGACGCGAAGGCGTCACCGGGCGCGC...\n",
      "2    GGTGTCTAGTCACATTACCTGAGATCTGACATTTTTATCCGTCTGA...\n",
      "3    CGGCCTCCCTACCCCAGCCTCGCTCTGGGCGCCGTGACGTCACCTC...\n",
      "4    GTTTGAATGGTGATCACGTGACGGGGCGGTGACGTCACCCGCCCTG...\n",
      "Name: 0, dtype: object\n"
     ]
    }
   ],
   "source": [
    "X_raw = pd.read_csv('data/Xtr1.csv', sep=' ', header=None)\n",
    "# test on one sequence\n",
    "seq = X_raw[0][:5]\n",
    "# print(len(seq))\n",
    "print(seq)\n",
    "# print(Y['bound'][:10])"
   ]
  },
  {
   "cell_type": "code",
   "execution_count": 106,
   "metadata": {
    "scrolled": true
   },
   "outputs": [
    {
     "name": "stderr",
     "output_type": "stream",
     "text": [
      "  3%|▎         | 59/2000 [00:02<01:29, 21.61it/s]\n"
     ]
    },
    {
     "ename": "KeyboardInterrupt",
     "evalue": "",
     "output_type": "error",
     "traceback": [
      "\u001b[0;31m---------------------------------------------------------------------------\u001b[0m",
      "\u001b[0;31mKeyboardInterrupt\u001b[0m                         Traceback (most recent call last)",
      "\u001b[0;32m<ipython-input-106-30aa6334f00d>\u001b[0m in \u001b[0;36m<module>\u001b[0;34m()\u001b[0m\n\u001b[1;32m     33\u001b[0m \u001b[0;34m\u001b[0m\u001b[0m\n\u001b[1;32m     34\u001b[0m \u001b[0;34m\u001b[0m\u001b[0m\n\u001b[0;32m---> 35\u001b[0;31m \u001b[0mtest\u001b[0m \u001b[0;34m=\u001b[0m \u001b[0mfeature_exractor\u001b[0m\u001b[0;34m(\u001b[0m\u001b[0mX_raw\u001b[0m\u001b[0;34m)\u001b[0m\u001b[0;34m\u001b[0m\u001b[0m\n\u001b[0m",
      "\u001b[0;32m<ipython-input-106-30aa6334f00d>\u001b[0m in \u001b[0;36mfeature_exractor\u001b[0;34m(X, k)\u001b[0m\n\u001b[1;32m     28\u001b[0m     \u001b[0mX_processed\u001b[0m \u001b[0;34m=\u001b[0m \u001b[0;34m[\u001b[0m\u001b[0;34m]\u001b[0m\u001b[0;34m\u001b[0m\u001b[0m\n\u001b[1;32m     29\u001b[0m     \u001b[0;32mfor\u001b[0m \u001b[0mseq\u001b[0m \u001b[0;32min\u001b[0m \u001b[0mtqdm\u001b[0m\u001b[0;34m(\u001b[0m\u001b[0mX\u001b[0m\u001b[0;34m[\u001b[0m\u001b[0;36m0\u001b[0m\u001b[0;34m]\u001b[0m\u001b[0;34m)\u001b[0m\u001b[0;34m:\u001b[0m\u001b[0;34m\u001b[0m\u001b[0m\n\u001b[0;32m---> 30\u001b[0;31m         \u001b[0mX_processed\u001b[0m\u001b[0;34m.\u001b[0m\u001b[0mappend\u001b[0m\u001b[0;34m(\u001b[0m\u001b[0mcount_kuplet\u001b[0m\u001b[0;34m(\u001b[0m\u001b[0mk_spectre\u001b[0m\u001b[0;34m(\u001b[0m\u001b[0mseq\u001b[0m\u001b[0;34m)\u001b[0m\u001b[0;34m)\u001b[0m\u001b[0;34m)\u001b[0m\u001b[0;34m\u001b[0m\u001b[0m\n\u001b[0m\u001b[1;32m     31\u001b[0m \u001b[0;34m\u001b[0m\u001b[0m\n\u001b[1;32m     32\u001b[0m     \u001b[0;32mreturn\u001b[0m \u001b[0mX_processed\u001b[0m\u001b[0;34m\u001b[0m\u001b[0m\n",
      "\u001b[0;32m<ipython-input-106-30aa6334f00d>\u001b[0m in \u001b[0;36mcount_kuplet\u001b[0;34m(k_seq)\u001b[0m\n\u001b[1;32m     22\u001b[0m     \u001b[0mnew_feat\u001b[0m \u001b[0;34m=\u001b[0m \u001b[0minit_feat\u001b[0m\u001b[0;34m.\u001b[0m\u001b[0mcopy\u001b[0m\u001b[0;34m(\u001b[0m\u001b[0;34m)\u001b[0m\u001b[0;34m\u001b[0m\u001b[0m\n\u001b[1;32m     23\u001b[0m     \u001b[0;32mfor\u001b[0m \u001b[0mkuplet\u001b[0m \u001b[0;32min\u001b[0m \u001b[0mk_seq\u001b[0m\u001b[0;34m:\u001b[0m\u001b[0;34m\u001b[0m\u001b[0m\n\u001b[0;32m---> 24\u001b[0;31m         \u001b[0mnew_feat\u001b[0m\u001b[0;34m[\u001b[0m\u001b[0mkuplet\u001b[0m\u001b[0;34m]\u001b[0m \u001b[0;34m+=\u001b[0m \u001b[0;36m1.\u001b[0m\u001b[0;34m\u001b[0m\u001b[0m\n\u001b[0m\u001b[1;32m     25\u001b[0m     \u001b[0;32mreturn\u001b[0m \u001b[0mnp\u001b[0m\u001b[0;34m.\u001b[0m\u001b[0marray\u001b[0m\u001b[0;34m(\u001b[0m\u001b[0mnew_feat\u001b[0m\u001b[0;34m)\u001b[0m\u001b[0;34m.\u001b[0m\u001b[0mreshape\u001b[0m\u001b[0;34m(\u001b[0m\u001b[0;36m4\u001b[0m\u001b[0;34m**\u001b[0m\u001b[0mk\u001b[0m\u001b[0;34m)\u001b[0m\u001b[0;34m\u001b[0m\u001b[0m\n\u001b[1;32m     26\u001b[0m \u001b[0;34m\u001b[0m\u001b[0m\n",
      "\u001b[0;32m~/anaconda/envs/hackathon/lib/python3.4/site-packages/pandas/core/ops.py\u001b[0m in \u001b[0;36mf\u001b[0;34m(self, other)\u001b[0m\n\u001b[1;32m    221\u001b[0m \u001b[0;34m\u001b[0m\u001b[0m\n\u001b[1;32m    222\u001b[0m         \u001b[0;32mdef\u001b[0m \u001b[0mf\u001b[0m\u001b[0;34m(\u001b[0m\u001b[0mself\u001b[0m\u001b[0;34m,\u001b[0m \u001b[0mother\u001b[0m\u001b[0;34m)\u001b[0m\u001b[0;34m:\u001b[0m\u001b[0;34m\u001b[0m\u001b[0m\n\u001b[0;32m--> 223\u001b[0;31m             \u001b[0mresult\u001b[0m \u001b[0;34m=\u001b[0m \u001b[0mmethod\u001b[0m\u001b[0;34m(\u001b[0m\u001b[0mself\u001b[0m\u001b[0;34m,\u001b[0m \u001b[0mother\u001b[0m\u001b[0;34m)\u001b[0m\u001b[0;34m\u001b[0m\u001b[0m\n\u001b[0m\u001b[1;32m    224\u001b[0m \u001b[0;34m\u001b[0m\u001b[0m\n\u001b[1;32m    225\u001b[0m             \u001b[0;31m# this makes sure that we are aligned like the input\u001b[0m\u001b[0;34m\u001b[0m\u001b[0;34m\u001b[0m\u001b[0m\n",
      "\u001b[0;32m~/anaconda/envs/hackathon/lib/python3.4/site-packages/pandas/core/ops.py\u001b[0m in \u001b[0;36mwrapper\u001b[0;34m(left, right, name, na_op)\u001b[0m\n\u001b[1;32m    737\u001b[0m                 \u001b[0mlvalues\u001b[0m \u001b[0;34m=\u001b[0m \u001b[0mlvalues\u001b[0m\u001b[0;34m.\u001b[0m\u001b[0mvalues\u001b[0m\u001b[0;34m\u001b[0m\u001b[0m\n\u001b[1;32m    738\u001b[0m \u001b[0;34m\u001b[0m\u001b[0m\n\u001b[0;32m--> 739\u001b[0;31m         \u001b[0mresult\u001b[0m \u001b[0;34m=\u001b[0m \u001b[0mwrap_results\u001b[0m\u001b[0;34m(\u001b[0m\u001b[0msafe_na_op\u001b[0m\u001b[0;34m(\u001b[0m\u001b[0mlvalues\u001b[0m\u001b[0;34m,\u001b[0m \u001b[0mrvalues\u001b[0m\u001b[0;34m)\u001b[0m\u001b[0;34m)\u001b[0m\u001b[0;34m\u001b[0m\u001b[0m\n\u001b[0m\u001b[1;32m    740\u001b[0m         return construct_result(\n\u001b[1;32m    741\u001b[0m             \u001b[0mleft\u001b[0m\u001b[0;34m,\u001b[0m\u001b[0;34m\u001b[0m\u001b[0m\n",
      "\u001b[0;32m~/anaconda/envs/hackathon/lib/python3.4/site-packages/pandas/core/ops.py\u001b[0m in \u001b[0;36msafe_na_op\u001b[0;34m(lvalues, rvalues)\u001b[0m\n\u001b[1;32m    698\u001b[0m         \u001b[0;32mtry\u001b[0m\u001b[0;34m:\u001b[0m\u001b[0;34m\u001b[0m\u001b[0m\n\u001b[1;32m    699\u001b[0m             \u001b[0;32mwith\u001b[0m \u001b[0mnp\u001b[0m\u001b[0;34m.\u001b[0m\u001b[0merrstate\u001b[0m\u001b[0;34m(\u001b[0m\u001b[0mall\u001b[0m\u001b[0;34m=\u001b[0m\u001b[0;34m'ignore'\u001b[0m\u001b[0;34m)\u001b[0m\u001b[0;34m:\u001b[0m\u001b[0;34m\u001b[0m\u001b[0m\n\u001b[0;32m--> 700\u001b[0;31m                 \u001b[0;32mreturn\u001b[0m \u001b[0mna_op\u001b[0m\u001b[0;34m(\u001b[0m\u001b[0mlvalues\u001b[0m\u001b[0;34m,\u001b[0m \u001b[0mrvalues\u001b[0m\u001b[0;34m)\u001b[0m\u001b[0;34m\u001b[0m\u001b[0m\n\u001b[0m\u001b[1;32m    701\u001b[0m         \u001b[0;32mexcept\u001b[0m \u001b[0mException\u001b[0m\u001b[0;34m:\u001b[0m\u001b[0;34m\u001b[0m\u001b[0m\n\u001b[1;32m    702\u001b[0m             \u001b[0;32mif\u001b[0m \u001b[0misinstance\u001b[0m\u001b[0;34m(\u001b[0m\u001b[0mrvalues\u001b[0m\u001b[0;34m,\u001b[0m \u001b[0mABCSeries\u001b[0m\u001b[0;34m)\u001b[0m\u001b[0;34m:\u001b[0m\u001b[0;34m\u001b[0m\u001b[0m\n",
      "\u001b[0;32m~/anaconda/envs/hackathon/lib/python3.4/site-packages/pandas/core/ops.py\u001b[0m in \u001b[0;36mna_op\u001b[0;34m(x, y)\u001b[0m\n\u001b[1;32m    674\u001b[0m \u001b[0;34m\u001b[0m\u001b[0m\n\u001b[1;32m    675\u001b[0m         \u001b[0;32mtry\u001b[0m\u001b[0;34m:\u001b[0m\u001b[0;34m\u001b[0m\u001b[0m\n\u001b[0;32m--> 676\u001b[0;31m             \u001b[0mresult\u001b[0m \u001b[0;34m=\u001b[0m \u001b[0mexpressions\u001b[0m\u001b[0;34m.\u001b[0m\u001b[0mevaluate\u001b[0m\u001b[0;34m(\u001b[0m\u001b[0mop\u001b[0m\u001b[0;34m,\u001b[0m \u001b[0mstr_rep\u001b[0m\u001b[0;34m,\u001b[0m \u001b[0mx\u001b[0m\u001b[0;34m,\u001b[0m \u001b[0my\u001b[0m\u001b[0;34m,\u001b[0m \u001b[0;34m**\u001b[0m\u001b[0meval_kwargs\u001b[0m\u001b[0;34m)\u001b[0m\u001b[0;34m\u001b[0m\u001b[0m\n\u001b[0m\u001b[1;32m    677\u001b[0m         \u001b[0;32mexcept\u001b[0m \u001b[0mTypeError\u001b[0m\u001b[0;34m:\u001b[0m\u001b[0;34m\u001b[0m\u001b[0m\n\u001b[1;32m    678\u001b[0m             \u001b[0;32mif\u001b[0m \u001b[0misinstance\u001b[0m\u001b[0;34m(\u001b[0m\u001b[0my\u001b[0m\u001b[0;34m,\u001b[0m \u001b[0;34m(\u001b[0m\u001b[0mnp\u001b[0m\u001b[0;34m.\u001b[0m\u001b[0mndarray\u001b[0m\u001b[0;34m,\u001b[0m \u001b[0mABCSeries\u001b[0m\u001b[0;34m,\u001b[0m \u001b[0mpd\u001b[0m\u001b[0;34m.\u001b[0m\u001b[0mIndex\u001b[0m\u001b[0;34m)\u001b[0m\u001b[0;34m)\u001b[0m\u001b[0;34m:\u001b[0m\u001b[0;34m\u001b[0m\u001b[0m\n",
      "\u001b[0;32m~/anaconda/envs/hackathon/lib/python3.4/site-packages/pandas/core/computation/expressions.py\u001b[0m in \u001b[0;36mevaluate\u001b[0;34m(op, op_str, a, b, use_numexpr, **eval_kwargs)\u001b[0m\n\u001b[1;32m    202\u001b[0m     \u001b[0muse_numexpr\u001b[0m \u001b[0;34m=\u001b[0m \u001b[0muse_numexpr\u001b[0m \u001b[0;32mand\u001b[0m \u001b[0m_bool_arith_check\u001b[0m\u001b[0;34m(\u001b[0m\u001b[0mop_str\u001b[0m\u001b[0;34m,\u001b[0m \u001b[0ma\u001b[0m\u001b[0;34m,\u001b[0m \u001b[0mb\u001b[0m\u001b[0;34m)\u001b[0m\u001b[0;34m\u001b[0m\u001b[0m\n\u001b[1;32m    203\u001b[0m     \u001b[0;32mif\u001b[0m \u001b[0muse_numexpr\u001b[0m\u001b[0;34m:\u001b[0m\u001b[0;34m\u001b[0m\u001b[0m\n\u001b[0;32m--> 204\u001b[0;31m         \u001b[0;32mreturn\u001b[0m \u001b[0m_evaluate\u001b[0m\u001b[0;34m(\u001b[0m\u001b[0mop\u001b[0m\u001b[0;34m,\u001b[0m \u001b[0mop_str\u001b[0m\u001b[0;34m,\u001b[0m \u001b[0ma\u001b[0m\u001b[0;34m,\u001b[0m \u001b[0mb\u001b[0m\u001b[0;34m,\u001b[0m \u001b[0;34m**\u001b[0m\u001b[0meval_kwargs\u001b[0m\u001b[0;34m)\u001b[0m\u001b[0;34m\u001b[0m\u001b[0m\n\u001b[0m\u001b[1;32m    205\u001b[0m     \u001b[0;32mreturn\u001b[0m \u001b[0m_evaluate_standard\u001b[0m\u001b[0;34m(\u001b[0m\u001b[0mop\u001b[0m\u001b[0;34m,\u001b[0m \u001b[0mop_str\u001b[0m\u001b[0;34m,\u001b[0m \u001b[0ma\u001b[0m\u001b[0;34m,\u001b[0m \u001b[0mb\u001b[0m\u001b[0;34m)\u001b[0m\u001b[0;34m\u001b[0m\u001b[0m\n\u001b[1;32m    206\u001b[0m \u001b[0;34m\u001b[0m\u001b[0m\n",
      "\u001b[0;32m~/anaconda/envs/hackathon/lib/python3.4/site-packages/pandas/core/computation/expressions.py\u001b[0m in \u001b[0;36m_evaluate_standard\u001b[0;34m(op, op_str, a, b, **eval_kwargs)\u001b[0m\n\u001b[1;32m     62\u001b[0m         \u001b[0m_store_test_result\u001b[0m\u001b[0;34m(\u001b[0m\u001b[0;32mFalse\u001b[0m\u001b[0;34m)\u001b[0m\u001b[0;34m\u001b[0m\u001b[0m\n\u001b[1;32m     63\u001b[0m     \u001b[0;32mwith\u001b[0m \u001b[0mnp\u001b[0m\u001b[0;34m.\u001b[0m\u001b[0merrstate\u001b[0m\u001b[0;34m(\u001b[0m\u001b[0mall\u001b[0m\u001b[0;34m=\u001b[0m\u001b[0;34m'ignore'\u001b[0m\u001b[0;34m)\u001b[0m\u001b[0;34m:\u001b[0m\u001b[0;34m\u001b[0m\u001b[0m\n\u001b[0;32m---> 64\u001b[0;31m         \u001b[0;32mreturn\u001b[0m \u001b[0mop\u001b[0m\u001b[0;34m(\u001b[0m\u001b[0ma\u001b[0m\u001b[0;34m,\u001b[0m \u001b[0mb\u001b[0m\u001b[0;34m)\u001b[0m\u001b[0;34m\u001b[0m\u001b[0m\n\u001b[0m\u001b[1;32m     65\u001b[0m \u001b[0;34m\u001b[0m\u001b[0m\n\u001b[1;32m     66\u001b[0m \u001b[0;34m\u001b[0m\u001b[0m\n",
      "\u001b[0;31mKeyboardInterrupt\u001b[0m: "
     ]
    }
   ],
   "source": [
    "from tqdm import tqdm\n",
    "\n",
    "k=3\n",
    "\n",
    "def k_spectre(seq, k=3):\n",
    "    \"\"\"\n",
    "    Combine all the k-successive\n",
    "    \"\"\"\n",
    "    k_seq = []\n",
    "    for i in range(len(seq)-k+1):\n",
    "        tmp = ''\n",
    "        for j in range(k):\n",
    "            tmp += seq[i+j]\n",
    "        k_seq.append(tmp)\n",
    "    return k_seq\n",
    "\n",
    "init_feat = pd.DataFrame(0, index=[0], columns=dic_prot)\n",
    "# init_feat.append(np.zeros(4**k))\n",
    "\n",
    "def count_kuplet(k_seq):\n",
    "    k = len(k_seq[0])\n",
    "    new_feat = init_feat.copy()\n",
    "    for kuplet in k_seq:\n",
    "        new_feat[kuplet] += 1.\n",
    "    return np.array(new_feat).reshape(4**k)\n",
    "\n",
    "def feature_exractor(X, k=3):\n",
    "    X_processed = []\n",
    "    for seq in tqdm(X[0]):\n",
    "        X_processed.append(count_kuplet(k_spectre(seq)))\n",
    "    \n",
    "    return X_processed\n",
    "\n",
    "    \n",
    "test = feature_exractor(X_raw)    \n",
    "test = np.array(test)\n"
   ]
  },
  {
   "cell_type": "code",
   "execution_count": 121,
   "metadata": {},
   "outputs": [
    {
     "data": {
      "text/plain": [
       "(2000, 2000)"
      ]
     },
     "execution_count": 121,
     "metadata": {},
     "output_type": "execute_result"
    }
   ],
   "source": [
    "test = np.asarray(test)\n",
    "K = np.dot(test, test.T)\n",
    "K.shape"
   ]
  },
  {
   "cell_type": "code",
   "execution_count": 130,
   "metadata": {},
   "outputs": [],
   "source": [
    "N, d = test.shape\n",
    "lamb = 0.5\n",
    "\n",
    "test2 = np.matrix(test)\n",
    "\n",
    "A1 = np.concatenate((-K, -np.eye(N)), axis=1)\n",
    "A2 = np.concatenate((np.zeros((N,N)), -np.eye(N)), axis=1)\n",
    "A = np.concatenate((A1, A2), axis=0)\n",
    "\n",
    "Q1 = np.concatenate((K, np.zeros((N,N))), axis=1)\n",
    "Q2 = np.zeros((N, 2*N))\n",
    "Q = np.concatenate((Q1, Q2), axis=0)\n",
    "\n",
    "p = np.concatenate((np.zeros(N), np.ones(N)), axis=0) / lamb\n",
    "\n",
    "b = np.concatenate((-np.ones(N), np.zeros(N)), axis=0) \n"
   ]
  },
  {
   "cell_type": "code",
   "execution_count": 145,
   "metadata": {},
   "outputs": [],
   "source": [
    "# np.multiply(K,)\n",
    "Y_tmp = np.array(Y['bound'])\n",
    "Y_tmp = (Y_tmp - 0.5) * 2\n",
    "tmp_test = np.multiply(Y_tmp,K)"
   ]
  },
  {
   "cell_type": "code",
   "execution_count": 146,
   "metadata": {
    "scrolled": true
   },
   "outputs": [
    {
     "data": {
      "text/plain": [
       "array([[-321.,  199.,  -95., ...,  157., -176., -179.],\n",
       "       [-199.,  323., -106., ...,  205., -167., -159.],\n",
       "       [ -95.,  106., -299., ...,  132., -153., -132.],\n",
       "       ..., \n",
       "       [-157.,  205., -132., ...,  249., -141., -152.],\n",
       "       [-176.,  167., -153., ...,  141., -283., -128.],\n",
       "       [-179.,  159., -132., ...,  152., -128., -297.]])"
      ]
     },
     "execution_count": 146,
     "metadata": {},
     "output_type": "execute_result"
    }
   ],
   "source": [
    "tmp_test"
   ]
  },
  {
   "cell_type": "code",
   "execution_count": 140,
   "metadata": {},
   "outputs": [
    {
     "data": {
      "text/plain": [
       "array([0, 1, 0, ..., 1, 0, 0])"
      ]
     },
     "execution_count": 140,
     "metadata": {},
     "output_type": "execute_result"
    }
   ],
   "source": [
    "Y_tmp"
   ]
  },
  {
   "cell_type": "code",
   "execution_count": 125,
   "metadata": {},
   "outputs": [
    {
     "name": "stdout",
     "output_type": "stream",
     "text": [
      "(4000, 4000)\n"
     ]
    }
   ],
   "source": [
    "print(Q.shape)"
   ]
  },
  {
   "cell_type": "code",
   "execution_count": 119,
   "metadata": {},
   "outputs": [
    {
     "name": "stdout",
     "output_type": "stream",
     "text": [
      "2000\n"
     ]
    }
   ],
   "source": [
    "print(N)"
   ]
  },
  {
   "cell_type": "code",
   "execution_count": 105,
   "metadata": {},
   "outputs": [
    {
     "name": "stdout",
     "output_type": "stream",
     "text": [
      "we want 1.0 to be less than 0.3\n",
      "we want 0.9090909090909091 to be less than 0.3\n",
      "we want 0.8264462809917353 to be less than 0.3\n",
      "we want 0.7513148009015775 to be less than 0.3\n",
      "we want 0.6830134553650704 to be less than 0.3\n",
      "we want 0.6209213230591548 to be less than 0.3\n",
      "we want 0.5644739300537771 to be less than 0.3\n",
      "we want 0.5131581182307065 to be less than 0.3\n",
      "we want 0.4665073802097331 to be less than 0.3\n",
      "we want 0.42409761837248455 to be less than 0.3\n",
      "we want 0.38554328942953137 to be less than 0.3\n",
      "we want 0.35049389948139215 to be less than 0.3\n",
      "we want 0.31863081771035645 to be less than 0.3\n",
      "etape3\n"
     ]
    }
   ],
   "source": [
    "w_value_hist = []\n",
    "ac_range = []\n",
    "ac_range2 = []\n",
    "# for tau = 0.0001 et tol = 0.1 on obtient acc = 59.5\n",
    "# for tau = [0.005, 0.01, 0.05] on obtient : [53.5, 49.5, 46.5]\n",
    "\n",
    "taurange = [0.0001] # , 0.1, 0.15, 0.2, 0.3]\n",
    "\n",
    "for tau in taurange:\n",
    "    acc_range=[]\n",
    "    it = 0\n",
    "    # while(it < 20):\n",
    "    # for it in tqdm(range(0)):\n",
    "    X_train, Y_train, X_test, Y_test = preprocessing(X, Y)\n",
    "    mu = 1.1\n",
    "    w, w_hist, phi_w_hist = SVM_vector(X_train, Y_train['bound'], tau, mu, tol=0.3)\n",
    "    print('etape3')\n",
    "    w_value_hist.append(w)\n",
    "    Y_train_predicted, acc_train = predict(w, X_train, Y_train['bound'])\n",
    "    Y_predicted, acc = predict(w, X_test, Y_test['bound'])\n",
    "    \n",
    "    ac_range.append(acc_train)\n",
    "    ac_range2.append(acc)"
   ]
  },
  {
   "cell_type": "code",
   "execution_count": 176,
   "metadata": {
    "scrolled": true
   },
   "outputs": [
    {
     "name": "stdout",
     "output_type": "stream",
     "text": [
      "[50.0]\n"
     ]
    }
   ],
   "source": [
    "print(ac_range)"
   ]
  },
  {
   "cell_type": "code",
   "execution_count": 177,
   "metadata": {},
   "outputs": [
    {
     "name": "stdout",
     "output_type": "stream",
     "text": [
      "[50.0]\n"
     ]
    }
   ],
   "source": [
    "print(ac_range2)"
   ]
  },
  {
   "cell_type": "code",
   "execution_count": 12,
   "metadata": {},
   "outputs": [
    {
     "data": {
      "image/png": "[encoded data removed]",
      "text/plain": [
       "<matplotlib.figure.Figure at 0x10599b940>"
      ]
     },
     "metadata": {},
     "output_type": "display_data"
    }
   ],
   "source": [
    "fig = plt.figure()\n",
    "ax = fig.gca()\n",
    "line1, = ax.plot(taurange, ac_range2)\n",
    "ax.set_xscale('log')\n",
    "ax.set_ylabel(r'Accuracy', fontsize=16)\n",
    "ax.set_xlabel(r'$\\tau$', fontsize=16)\n",
    "plt.show()"
   ]
  },
  {
   "cell_type": "code",
   "execution_count": null,
   "metadata": {},
   "outputs": [],
   "source": []
  }
 ],
 "metadata": {
  "kernelspec": {
   "display_name": "Python [conda env:hackathon]",
   "language": "python",
   "name": "conda-env-hackathon-py"
  },
  "language_info": {
   "codemirror_mode": {
    "name": "ipython",
    "version": 3
   },
   "file_extension": ".py",
   "mimetype": "text/x-python",
   "name": "python",
   "nbconvert_exporter": "python",
   "pygments_lexer": "ipython3",
   "version": "3.4.5"
  }
 },
 "nbformat": 4,
 "nbformat_minor": 2
}
