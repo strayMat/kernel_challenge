{
 "cells": [
  {
   "cell_type": "code",
   "execution_count": 297,
   "metadata": {},
   "outputs": [],
   "source": [
    "import pandas as pd\n",
    "import numpy as np\n",
    "from kernel_utils import *\n",
    "\n",
    "import matplotlib.pyplot as plt\n",
    "from matplotlib import cm\n",
    "from numpy import linalg as LA\n",
    "from tqdm import tqdm\n",
    "\n",
    "from matplotlib import rc\n",
    "rc('font',**{'family':'sans-serif','sans-serif':['Helvetica']})\n",
    "rc('text', usetex=True)"
   ]
  },
  {
   "cell_type": "code",
   "execution_count": 2,
   "metadata": {},
   "outputs": [],
   "source": [
    "X = pd.read_csv('data/Xtr1_mat50.csv', sep=' ', header=None)\n",
    "Y = pd.read_csv('data/Ytr1.csv', sep=',', header=0)\n",
    "X_t = pd.read_csv('data/Xte1_mat50.csv', sep=' ', header=None)\n",
    "# Y_test = pd.read_csv('data/Yte0.csv', sep=',', header=0)\n",
    "Y.columns = [\"idx\", \"bound\"]\n",
    "Y = Y.drop([\"idx\"], axis=1)\n",
    "# Y_test.columns = [\"idx\", \"bound\"]\n",
    "# Y_test = Y_test.drop([\"idx\"], axis=1)\n",
    "\n",
    "X_raw = pd.read_csv('data/Xtr1.csv', sep=' ', header=None)\n",
    "\n",
    "\n",
    "\n"
   ]
  },
  {
   "cell_type": "code",
   "execution_count": 3,
   "metadata": {
    "scrolled": true
   },
   "outputs": [
    {
     "name": "stdout",
     "output_type": "stream",
     "text": [
      "['AAA', 'AAC', 'AAT', 'AAG', 'ACA', 'ACC', 'ACT', 'ACG', 'ATA', 'ATC', 'ATT', 'ATG', 'AGA', 'AGC', 'AGT', 'AGG', 'CAA', 'CAC', 'CAT', 'CAG', 'CCA', 'CCC', 'CCT', 'CCG', 'CTA', 'CTC', 'CTT', 'CTG', 'CGA', 'CGC', 'CGT', 'CGG', 'TAA', 'TAC', 'TAT', 'TAG', 'TCA', 'TCC', 'TCT', 'TCG', 'TTA', 'TTC', 'TTT', 'TTG', 'TGA', 'TGC', 'TGT', 'TGG', 'GAA', 'GAC', 'GAT', 'GAG', 'GCA', 'GCC', 'GCT', 'GCG', 'GTA', 'GTC', 'GTT', 'GTG', 'GGA', 'GGC', 'GGT', 'GGG']\n"
     ]
    }
   ],
   "source": [
    "# Construction of the proteine\n",
    "\n",
    "from itertools import product\n",
    "from string import ascii_lowercase\n",
    "base_azote = ['A', 'C', 'T', 'G']\n",
    "\n",
    "# Creation of all possible combinations\n",
    "dic_prot = [''.join(i) for i in product(base_azote, repeat = 3)]\n",
    "nb_feat = len(dic_prot)\n",
    "print(dic_prot)"
   ]
  },
  {
   "cell_type": "code",
   "execution_count": 4,
   "metadata": {
    "scrolled": false
   },
   "outputs": [
    {
     "name": "stderr",
     "output_type": "stream",
     "text": [
      "100%|██████████| 2000/2000 [01:32<00:00, 21.61it/s]"
     ]
    },
    {
     "name": "stdout",
     "output_type": "stream",
     "text": [
      "[[ 1.  1.  1. ...,  4.  0.  1.]\n",
      " [ 3.  1.  0. ...,  3.  2.  3.]\n",
      " [ 0.  0.  0. ...,  0.  2.  0.]\n",
      " ..., \n",
      " [ 0.  0.  1. ...,  3.  1.  3.]\n",
      " [ 0.  1.  0. ...,  2.  1.  1.]\n",
      " [ 4.  1.  0. ...,  4.  0.  3.]]\n"
     ]
    },
    {
     "name": "stderr",
     "output_type": "stream",
     "text": [
      "\n"
     ]
    }
   ],
   "source": [
    "from tqdm import tqdm\n",
    "\n",
    "k=3\n",
    "def k_spectre(seq, k=3):\n",
    "    \"\"\"\n",
    "    Combine all the k-successive\n",
    "    \"\"\"\n",
    "    k_seq = []\n",
    "    for i in range(len(seq)-k+1):\n",
    "        tmp = ''\n",
    "        for j in range(k):\n",
    "            tmp += seq[i+j]\n",
    "        k_seq.append(tmp)\n",
    "    return k_seq\n",
    "\n",
    "init_feat = pd.DataFrame(0, index=[0], columns=dic_prot)\n",
    "# init_feat.append(np.zeros(4**k))\n",
    "\n",
    "def count_kuplet(k_seq):\n",
    "    k = len(k_seq[0])\n",
    "    new_feat = init_feat.copy()\n",
    "    for kuplet in k_seq:\n",
    "        new_feat[kuplet] += 1.\n",
    "    return np.array(new_feat).reshape(4**k)\n",
    "\n",
    "def feature_exractor(X, k=3):\n",
    "    X_processed = []\n",
    "    for seq in tqdm(X[0]):\n",
    "        X_processed.append(count_kuplet(k_spectre(seq)))\n",
    "    \n",
    "    return np.array(X_processed)\n",
    "\n",
    "    \n",
    "test = feature_exractor(X_raw)    \n",
    "print(test)"
   ]
  },
  {
   "cell_type": "code",
   "execution_count": 109,
   "metadata": {},
   "outputs": [
    {
     "data": {
      "text/plain": [
       "(2000, 64)"
      ]
     },
     "execution_count": 109,
     "metadata": {},
     "output_type": "execute_result"
    }
   ],
   "source": [
    "test.shape"
   ]
  },
  {
   "cell_type": "code",
   "execution_count": 168,
   "metadata": {},
   "outputs": [
    {
     "name": "stdout",
     "output_type": "stream",
     "text": [
      "(100, 64)\n"
     ]
    }
   ],
   "source": [
    "test2 = test[:100]\n",
    "print(test2.shape)"
   ]
  },
  {
   "cell_type": "code",
   "execution_count": 360,
   "metadata": {
    "scrolled": true
   },
   "outputs": [],
   "source": [
    "def preprocessing(X, Y, percent=0.8):\n",
    "    \"\"\"\n",
    "    Preprocessing the data.\n",
    "        - Shuffle\n",
    "        - Divide data and labels\n",
    "        - centering\n",
    "        - add dimension to the data\n",
    "        - cut into a training dataset and a test dataset\n",
    "    \"\"\"\n",
    "\n",
    "    # Shuffle phase\n",
    "    np.random.RandomState(1)\n",
    "    tmp = np.concatenate((X, np.matrix(Y)), axis=1)\n",
    "    np.random.shuffle(tmp)\n",
    "    X_tmp = tmp[:, :X.shape[1]]\n",
    "\n",
    "    # changing the value to {-1,1}\n",
    "    Y_tmp = (Y - 0.5) * 2\n",
    "\n",
    "    # centering data\n",
    "    # X = X-np.mean(X, axis=0)\n",
    "\n",
    "    # Scaling data\n",
    "    # X = scale( X, axis=0, with_mean=True, with_std=True, copy=True )\n",
    "\n",
    "    # Add one dimension to your data points in order to account for\n",
    "    # the offset if your data is not centered.\n",
    "    X_tmp = np.concatenate((X_tmp, np.ones((X_tmp.shape[0], 1))), axis=1)\n",
    "\n",
    "    # Compute the training and the test set\n",
    "    n_training = int(percent  * Y.size)\n",
    "    X_train = X_tmp[:n_training]\n",
    "    Y_train = Y_tmp[:n_training]\n",
    "    X_test = X_tmp[n_training:]\n",
    "    Y_test = Y_tmp[n_training:]\n",
    "\n",
    "    return X_train, Y_train, X_test, Y_test\n",
    "\n",
    "X_train, Y_train, X_test, Y_test = preprocessing(X[:400], np.transpose(np.matrix(Y['bound'][:400])), percent=0.24)"
   ]
  },
  {
   "cell_type": "code",
   "execution_count": 361,
   "metadata": {
    "scrolled": false
   },
   "outputs": [
    {
     "name": "stdout",
     "output_type": "stream",
     "text": [
      "96\n"
     ]
    }
   ],
   "source": [
    "# test = np.asarray(test)\n",
    "K = np.dot(X_train, X_train.T)\n",
    "n = K.shape[0]\n",
    "print(n)"
   ]
  },
  {
   "cell_type": "code",
   "execution_count": 362,
   "metadata": {},
   "outputs": [],
   "source": [
    "def transform_svm_primal(K,y,lamb):\n",
    "    \"\"\"\n",
    "    Transform the primal Support Vector Machine (SVM)\n",
    "    problem into a quadratic problem\n",
    "    Args:\n",
    "        - K : Kernel of x\n",
    "        - Y : Target labels\n",
    "        - lamb : regularization parameter\n",
    "    Ouput:\n",
    "        - Q : semi-definite matrix (quadratic parameter)\n",
    "        |K   0 |\n",
    "        |0     0 |\n",
    "\n",
    "        - P : vector parameter in the minimization part\n",
    "        |0,...,0 , 1, ..., 1|^t / lamb\n",
    "\n",
    "        - A : matrix constraint\n",
    "        |-yK   -I |\n",
    "        |0     -I |\n",
    "\n",
    "        - b : vector constraint\n",
    "        |-1,...,-1 , 0, ..., 0|^t\n",
    "\n",
    "    \"\"\"\n",
    "    K = np.matrix(K, dtype=np.float)\n",
    "    y = np.array(y, dtype=np.float)\n",
    "\n",
    "    # number of data\n",
    "    n = y.size\n",
    "\n",
    "    # Verify the shape of the data\n",
    "    try:\n",
    "        assert K.shape[0] == n\n",
    "    except AssertionError:\n",
    "        print(\"K and Y must have the same length\")\n",
    "        exit(1)\n",
    "\n",
    "    A1 = np.concatenate((-np.transpose(np.multiply(K, y)), -np.eye(n)), axis=1)\n",
    "    A2 = np.concatenate((np.zeros((n,n)), -np.eye(n)), axis=1)\n",
    "    A = np.concatenate((A1, A2), axis=0)\n",
    "\n",
    "    Q1 = np.concatenate((K, np.zeros((n,n))), axis=1)\n",
    "    Q2 = np.zeros((n, 2*n))\n",
    "    Q = lamb * np.concatenate((Q1, Q2), axis=0)\n",
    "\n",
    "    p = np.concatenate((np.zeros(n), np.ones(n)), axis=0) / n\n",
    "\n",
    "    b = np.concatenate((-np.ones(n), np.zeros(n)), axis=0)\n",
    "\n",
    "\n",
    "    return Q, p, A, b\n",
    "\n"
   ]
  },
  {
   "cell_type": "code",
   "execution_count": 369,
   "metadata": {},
   "outputs": [
    {
     "name": "stdout",
     "output_type": "stream",
     "text": [
      "     pcost       dcost       gap    pres   dres\n",
      " 0: -1.0417e-02  1.0000e+00  2e+02  1e+00  1e+03\n",
      " 1:  9.6963e-01 -1.8915e+00  3e+00  1e-02  1e+01\n",
      " 2:  2.4580e-01 -1.2181e-02  3e-01  1e-04  1e-01\n",
      " 3:  2.4820e-03 -9.8424e-05  3e-03  1e-06  1e-03\n",
      " 4:  2.4820e-05 -9.8187e-07  3e-05  1e-08  1e-05\n",
      " 5:  2.4830e-07 -9.8226e-09  3e-07  1e-10  1e-07\n",
      "Terminated (singular KKT matrix).\n"
     ]
    }
   ],
   "source": [
    "from cvxopt import matrix, solvers\n",
    "\n",
    "Q, p, A, b = transform_svm_primal(K,Y_train, 0.01)\n",
    "\n",
    "Q = matrix(2*Q)\n",
    "p = matrix(p)\n",
    "G = matrix(A)\n",
    "h = matrix(b)\n",
    "A = matrix(np.matrix(np.repeat(0.0, 2*n)))\n",
    "b = matrix(0.0)\n",
    "sol=solvers.qp(Q, p, G, h) # A, b)\n",
    "# print(sol['x'])"
   ]
  },
  {
   "cell_type": "code",
   "execution_count": 370,
   "metadata": {},
   "outputs": [
    {
     "name": "stdout",
     "output_type": "stream",
     "text": [
      "(192, 1)\n"
     ]
    }
   ],
   "source": [
    "w = np.array(sol['x'])\n",
    "print(np.array(w).shape)"
   ]
  },
  {
   "cell_type": "code",
   "execution_count": 365,
   "metadata": {},
   "outputs": [
    {
     "data": {
      "text/plain": [
       "(192,)"
      ]
     },
     "execution_count": 365,
     "metadata": {},
     "output_type": "execute_result"
    }
   ],
   "source": [
    "np.repeat(0.0, 2*n).shape"
   ]
  },
  {
   "cell_type": "code",
   "execution_count": 366,
   "metadata": {
    "scrolled": true
   },
   "outputs": [
    {
     "name": "stdout",
     "output_type": "stream",
     "text": [
      "[ -7.80867961e-15  -5.06435694e-15  -4.61161834e-15  -4.00950488e-15\n",
      "  -4.00908780e-15  -3.56429366e-15  -3.17175331e-15  -2.81535955e-15\n",
      "  -2.59962579e-15  -2.45059245e-15  -2.30021896e-15  -1.96121353e-15\n",
      "  -1.91445610e-15  -1.87038667e-15  -1.62057330e-15  -1.39231394e-15\n",
      "  -1.29131963e-15  -8.45333840e-16  -5.90172117e-16  -4.67250006e-16\n",
      "  -4.64945835e-16  -2.31635458e-16  -1.62515987e-16   6.37365589e-17\n",
      "   2.48749398e-16   3.34694063e-16   5.60130276e-16   7.20875239e-16\n",
      "   1.05695231e-15   1.10040163e-15   1.34944247e-15   1.72667435e-15\n",
      "   1.74214579e-15   1.74297644e-15   1.82101168e-15   2.29722004e-15\n",
      "   2.44123065e-15   2.82691886e-15   2.89013654e-15   3.23727390e-15\n",
      "   3.35301799e-15   3.92264614e-15   4.05607812e-15   4.41414867e-15\n",
      "   4.82480895e-15   1.01384912e-14   6.61745726e-04   8.32160657e-04\n",
      "   1.07979121e-03   1.33671548e-03   1.44606188e-03   1.59887301e-03\n",
      "   2.17873917e-03   2.82677738e-03   2.98327087e-03   3.14869977e-03\n",
      "   3.69411858e-03   4.11633440e-03   4.65036787e-03   5.18009871e-03\n",
      "   5.37852392e-03   5.67609983e-03   6.45720511e-03   6.79699229e-03\n",
      "   7.44779028e-03   8.12182584e-03   8.49909120e-03   9.45582657e-03\n",
      "   1.04188949e-02   1.10192943e-02   1.22764339e-02   1.42576197e-02\n",
      "   1.47867242e-02   1.66998964e-02   1.79534195e-02   1.90399262e-02\n",
      "   1.92658199e-02   2.05607314e-02   2.17474021e-02   2.41562947e-02\n",
      "   2.59367750e-02   2.77274768e-02   2.84929931e-02   3.17272764e-02\n",
      "   3.21347885e-02   3.68741005e-02   4.08004943e-02   4.49767110e-02\n",
      "   5.24333183e-02   6.41520979e-02   6.81317822e-02   7.59240730e-02\n",
      "   8.81469243e-02   1.82083870e-01   2.24187994e-01   9.81176653e+01]\n"
     ]
    }
   ],
   "source": [
    "w,v = np.linalg.eigh(K)\n",
    "print(w)"
   ]
  },
  {
   "cell_type": "code",
   "execution_count": 367,
   "metadata": {
    "scrolled": false
   },
   "outputs": [
    {
     "name": "stdout",
     "output_type": "stream",
     "text": [
      "[ 0.  0.  0.  0.  0.  0.  0.  0.  0.  0.  0.  0.  0.  0.  0.  0.  0.  0.\n",
      "  0.  0.  0.  0.  0.  0.  0.  0.  0.  0.  0.  0.  0.  0.  0.  0.  0.  0.\n",
      "  0.  0.  0.  0.  0.  0.  0.  0.  0.  0.  0.  0.  0.  0.  0.  0.  0.  0.\n",
      "  0.  0.  0.  0.  0.  0.  0.  0.  0.  0.  0.  0.  0.  0.  0.  0.  0.  0.\n",
      "  0.  0.  0.  0.  0.  0.  0.  0.  0.  0.  0.  0.  0.  0.  0.  0.  0.  0.\n",
      "  0.  0.  0.  0.  0.  0.  0.  0.  0.  0.  0.  0.  0.  0.  0.  0.  0.  0.\n",
      "  0.  0.  0.  0.  0.  0.  0.  0.  0.  0.  0.  0.  0.  0.  0.  0.  0.  0.\n",
      "  0.  0.  0.  0.  0.  0.  0.  0.  0.  0.  0.  0.  0.  0.  0.  0.  0.  0.\n",
      "  0.  0.  0.  0.  0.  0.  0.  0.  0.  0.  0.  0.  0.  0.  0.  0.  0.  0.\n",
      "  0.  0.  0.  0.  0.  0.  0.  0.  0.  0.  0.  0.  0.  0.  0.  0.  0.  0.\n",
      "  0.  0.  0.  0.  0.  0.  0.  0.  0.  0.  0.  0.]\n"
     ]
    }
   ],
   "source": [
    "w,v = np.linalg.eigh(np.dot(A.T, A))\n",
    "print(w)"
   ]
  },
  {
   "cell_type": "code",
   "execution_count": 368,
   "metadata": {},
   "outputs": [
    {
     "ename": "AttributeError",
     "evalue": "'cvxopt.base.matrix' object has no attribute 'shape'",
     "output_type": "error",
     "traceback": [
      "\u001b[0;31m---------------------------------------------------------------------------\u001b[0m",
      "\u001b[0;31mAttributeError\u001b[0m                            Traceback (most recent call last)",
      "\u001b[0;32m<ipython-input-368-431539bf4175>\u001b[0m in \u001b[0;36m<module>\u001b[0;34m()\u001b[0m\n\u001b[0;32m----> 1\u001b[0;31m \u001b[0mprint\u001b[0m\u001b[0;34m(\u001b[0m\u001b[0mA\u001b[0m\u001b[0;34m.\u001b[0m\u001b[0mshape\u001b[0m\u001b[0;34m)\u001b[0m\u001b[0;34m\u001b[0m\u001b[0m\n\u001b[0m",
      "\u001b[0;31mAttributeError\u001b[0m: 'cvxopt.base.matrix' object has no attribute 'shape'"
     ]
    }
   ],
   "source": [
    "print(A.shape)"
   ]
  },
  {
   "cell_type": "code",
   "execution_count": 273,
   "metadata": {},
   "outputs": [
    {
     "ename": "ValueError",
     "evalue": "shapes (160,160) and (80,) not aligned: 160 (dim 1) != 80 (dim 0)",
     "output_type": "error",
     "traceback": [
      "\u001b[0;31m---------------------------------------------------------------------------\u001b[0m",
      "\u001b[0;31mValueError\u001b[0m                                Traceback (most recent call last)",
      "\u001b[0;32m<ipython-input-273-8ed2464bcaf8>\u001b[0m in \u001b[0;36m<module>\u001b[0;34m()\u001b[0m\n\u001b[0;32m----> 1\u001b[0;31m \u001b[0mprint\u001b[0m\u001b[0;34m(\u001b[0m\u001b[0mnp\u001b[0m\u001b[0;34m.\u001b[0m\u001b[0mdot\u001b[0m\u001b[0;34m(\u001b[0m\u001b[0mA\u001b[0m\u001b[0;34m,\u001b[0m \u001b[0mw_0\u001b[0m\u001b[0;34m)\u001b[0m \u001b[0;34m-\u001b[0m \u001b[0mb\u001b[0m\u001b[0;34m)\u001b[0m\u001b[0;34m\u001b[0m\u001b[0m\n\u001b[0m",
      "\u001b[0;31mValueError\u001b[0m: shapes (160,160) and (80,) not aligned: 160 (dim 1) != 80 (dim 0)"
     ]
    }
   ],
   "source": [
    "print(np.dot(A, w_0) - b)"
   ]
  },
  {
   "cell_type": "code",
   "execution_count": 274,
   "metadata": {},
   "outputs": [],
   "source": [
    "def phi(x,t,Q,p,A,b):\n",
    "    \"\"\"\n",
    "    Compute the fonction value\n",
    "    \"\"\"\n",
    "    x = np.array(x, dtype=np.float)\n",
    "    Q = np.matrix(Q, dtype=np.float)\n",
    "    p = np.array(p, dtype=np.float)\n",
    "    A = np.matrix(A, dtype=np.float)\n",
    "    b = np.array(b, dtype=np.float)\n",
    "\n",
    "    phit = (0.5*x.dot(Q).dot(x) + p.dot(x))\n",
    "\n",
    "    phit = t*phit\n",
    "\n",
    "    tmp = b - A.dot(x)\n",
    "    tst = tmp < 0\n",
    "    # print(\"negatif dans le log\")\n",
    "    print(np.sum(tst)<1)\n",
    "    tmp = np.log(tmp)\n",
    "\n",
    "    phit = np.array(phit - np.sum(tmp))[0][0]\n",
    "    return phit\n",
    "\n",
    "def grad(x,t,Q,p,A,b):\n",
    "    \"\"\"\n",
    "    Compute the gradient of phit\n",
    "    \"\"\"\n",
    "    x = np.array(x, dtype=np.float)\n",
    "    Q = np.matrix(Q, dtype=np.float)\n",
    "    p = np.array(p, dtype=np.float)\n",
    "    A = np.matrix(A, dtype=np.float)\n",
    "    b = np.array(b, dtype=np.float)\n",
    "\n",
    "    gradt = Q.dot(x) + p\n",
    "    gradt = t * gradt\n",
    "\n",
    "    tmp = b - A.dot(x)\n",
    "    tmp = 1./tmp\n",
    "    gradt = np.array(gradt + tmp.dot(A))[0]\n",
    "    return gradt\n",
    "\n",
    "\n",
    "def hess(x,t,Q,p,A,b):\n",
    "    \"\"\"\n",
    "    Compute the Hessian of phit\n",
    "    \"\"\"\n",
    "    x = np.array(x, dtype=np.float)\n",
    "    Q = np.matrix(Q, dtype=np.float)\n",
    "    p = np.array(p, dtype=np.float)\n",
    "    A = np.matrix(A, dtype=np.float)\n",
    "    b = np.array(b, dtype=np.float)\n",
    "\n",
    "    hesst = t*Q\n",
    "    tmp = b - A.dot(x)\n",
    "    tmp = 1./np.square(tmp)\n",
    "    tmp = np.diag(np.array(tmp)[0])\n",
    "    tmp = (A.T).dot(tmp).dot(A)\n",
    "    # print(\"est ce que le terme de barriere est positif?\")\n",
    "    print(np.all(np.linalg.eigvals(np.dot(A.T, A)) >= -0.001))\n",
    "    hesst = hesst + tmp\n",
    "\n",
    "    return hesst\n",
    "\n",
    "\n",
    "def dampedNewtonStep(x,f,g,h):\n",
    "    \"\"\"\n",
    "    Compute the damped Newton step at point x\n",
    "    Args:\n",
    "        - x : point where the Newton step will be computed\n",
    "        - f : the value function\n",
    "        - g : the gradient function\n",
    "        - h : the hessian function\n",
    "    Ouput:\n",
    "        - x_new : the damped Newton step at point x\n",
    "        - lamdat2/2 : the estimated gap before the minimum\n",
    "    \"\"\"\n",
    "    phit = f(x)\n",
    "    gradt = np.array(g(x), dtype=np.float)\n",
    "    hesst = np.matrix(h(x), dtype=np.float)\n",
    "    # print(hesst.shape)\n",
    "    hesst_inv = np.linalg.inv(hesst)\n",
    "    # print(hesst_inv)\n",
    "    \n",
    "    # print(\"est ce que l'inverse est positif ? \")\n",
    "    print(np.all(np.linalg.eigvals(hesst_inv) >= -0.001))\n",
    "\n",
    "\n",
    "    lambdat2 = np.array(gradt.dot(hesst_inv).dot(gradt))\n",
    "    # print(lambdat2)\n",
    "    # if lambdat2 < 0:\n",
    "        # print(lambdat2)\n",
    "     #    print('probleme pour lambda (devrait etre positif)')\n",
    "    # else :\n",
    "    #     print('ok pour lambda')\n",
    "    coef = (1.+np.sqrt(lambdat2))\n",
    "    coef = 1./coef\n",
    "    x_new = np.array(x - coef * hesst_inv.dot(gradt))[0]\n",
    "    # print(\"ESPION3\")\n",
    "\n",
    "    return x_new, lambdat2/2\n",
    "\n",
    "\n",
    "\n",
    "def dampedNewton(x0,f,g,h,tol,Tmax=20):\n",
    "    \"\"\"\n",
    "    Implement the damped Newton algorithm\n",
    "    Args:\n",
    "        - x0 : initial point\n",
    "        - f : the value function to minimize\n",
    "        - g : the gradient function\n",
    "        - h : the hessian function\n",
    "        - tol : the threshold (smaller than 0.3819660112501051)\n",
    "        - Tmax : maximum number of iteration\n",
    "    Ouput:\n",
    "        - xstar : the point tol-minimizing f\n",
    "        - xhist : the history of damped step\n",
    "    \"\"\"\n",
    "    try:\n",
    "        assert tol < 0.3819660112501051\n",
    "    except AssertionError:\n",
    "        print(\"The threshold in dampedNewton must be smaller \")\n",
    "        exit(1)\n",
    "    xstar, gap = dampedNewtonStep(x0,f,g,h)\n",
    "    xhist = [x0, xstar]\n",
    "    phi_w_hist = [f(x0), f(xstar)]\n",
    "    it = 1\n",
    "    while(gap>tol and it<Tmax):\n",
    "        it +=1\n",
    "        xstar, gap = dampedNewtonStep(xstar,f,g,h)\n",
    "        # print(\"ESPION2\")\n",
    "        phi_w_hist.append(f(xstar))\n",
    "        xhist.append(xstar)\n",
    "    xhist = np.array(xhist)\n",
    "\n",
    "    return xstar, xhist, phi_w_hist\n",
    "\n",
    "\n",
    "\n",
    "def barr_method(Q,p,A,b,x_0,mu,tol):\n",
    "    \"\"\"\n",
    "    Solve the Quadratic problem using damped Newton method\n",
    "    Args:\n",
    "        - Q : semi-definite matrix (quadratic parameter)\n",
    "        - P : vector parameter in the minimization part\n",
    "        - A : matrix constraint\n",
    "        - b : vector constraint\n",
    "        - x_0 : inital state\n",
    "        - mu :  increment of the barrier parameter\n",
    "        - tol : the threshold\n",
    "    Ouput:\n",
    "        - x_sol : the argument minimizing the quadratic problem\n",
    "        - x_hist : the history of step\n",
    "    \"\"\"\n",
    "    t = mu\n",
    "    x_sol = x_0\n",
    "    x_hist = np.matrix(x_sol)\n",
    "    phi_w_hist = []\n",
    "    it=0\n",
    "    while(mu/t > tol):\n",
    "        it+=1\n",
    "        # if(it%100 == 0):\n",
    "        print(\"we want {} to be less than {}\".format(mu/t, tol))\n",
    "        f = lambda x: phi(x,t,Q,p,A,b) ;\n",
    "        g = lambda x: grad(x,t,Q,p,A,b) ;\n",
    "        h = lambda x: hess(x,t,Q,p,A,b) ;\n",
    "        x_sol, xhist_tmp, ph_w_tmp = dampedNewton(x_sol,f,g,h,tol)\n",
    "        # print(\"ESPION1\")\n",
    "        x_hist = np.concatenate((x_hist, xhist_tmp), axis = 0)\n",
    "        phi_w_hist.append(ph_w_tmp)\n",
    "        t = mu*t\n",
    "\n",
    "    #phi_w_hist.append(f(x_sol))\n",
    "    return x_sol, x_hist, phi_w_hist\n",
    "\n"
   ]
  },
  {
   "cell_type": "code",
   "execution_count": 275,
   "metadata": {
    "scrolled": true
   },
   "outputs": [],
   "source": [
    "w_0 = np.append(np.repeat(0., K.shape[0]), np.repeat(2., K.shape[0]))\n",
    "# w, w_hist, phi_w_hist = barr_method(Q,p,A,b,w_0,1.2,0.1)\n",
    "# w_0 = w\n"
   ]
  },
  {
   "cell_type": "code",
   "execution_count": 284,
   "metadata": {},
   "outputs": [
    {
     "name": "stdout",
     "output_type": "stream",
     "text": [
      "we want 1.0 to be less than 0.001\n",
      "True\n",
      "True\n",
      "True\n",
      "True\n",
      "True\n",
      "True\n",
      "True\n",
      "True\n",
      "True\n",
      "True\n",
      "True\n",
      "True\n",
      "True\n",
      "True\n",
      "True\n",
      "True\n",
      "True\n",
      "True\n",
      "True\n",
      "True\n",
      "True\n",
      "True\n",
      "True\n",
      "True\n",
      "True\n",
      "True\n",
      "True\n",
      "True\n",
      "True\n",
      "True\n",
      "True\n",
      "True\n",
      "True\n",
      "True\n",
      "True\n",
      "True\n",
      "True\n",
      "True\n",
      "True\n",
      "True\n",
      "True\n",
      "True\n",
      "True\n",
      "True\n",
      "True\n",
      "True\n",
      "True\n",
      "True\n",
      "True\n",
      "True\n",
      "True\n",
      "True\n",
      "True\n",
      "True\n",
      "True\n",
      "True\n",
      "True\n",
      "True\n",
      "True\n",
      "True\n",
      "True\n",
      "True\n",
      "True\n",
      "True\n",
      "True\n",
      "True\n",
      "True\n",
      "True\n",
      "True\n",
      "True\n",
      "True\n",
      "True\n",
      "True\n",
      "True\n",
      "True\n",
      "True\n",
      "True\n",
      "True\n",
      "True\n",
      "True\n",
      "True\n",
      "we want 0.1 to be less than 0.001\n",
      "True\n",
      "True\n",
      "True\n",
      "True\n",
      "True\n",
      "True\n",
      "True\n",
      "True\n",
      "True\n",
      "True\n",
      "True\n",
      "True\n",
      "True\n",
      "True\n",
      "True\n",
      "True\n",
      "True\n",
      "True\n",
      "True\n",
      "True\n",
      "True\n",
      "True\n",
      "True\n",
      "True\n",
      "True\n",
      "True\n",
      "True\n",
      "True\n",
      "True\n",
      "True\n",
      "True\n",
      "True\n",
      "True\n",
      "True\n",
      "True\n",
      "True\n",
      "True\n",
      "True\n",
      "True\n",
      "True\n",
      "True\n",
      "True\n",
      "True\n",
      "True\n",
      "True\n",
      "True\n",
      "True\n",
      "True\n",
      "True\n",
      "True\n",
      "True\n",
      "True\n",
      "True\n",
      "True\n",
      "True\n",
      "True\n",
      "True\n",
      "True\n",
      "True\n",
      "True\n",
      "True\n",
      "True\n",
      "True\n",
      "True\n",
      "True\n",
      "True\n",
      "True\n",
      "True\n",
      "True\n",
      "True\n",
      "True\n",
      "True\n",
      "True\n",
      "True\n",
      "True\n",
      "True\n",
      "True\n",
      "True\n",
      "True\n",
      "True\n",
      "True\n",
      "we want 0.01 to be less than 0.001\n",
      "True\n",
      "True\n",
      "True\n",
      "True\n",
      "True\n",
      "True\n",
      "True\n",
      "True\n",
      "True\n",
      "True\n",
      "True\n",
      "True\n",
      "True\n",
      "True\n",
      "True\n",
      "True\n",
      "True\n",
      "True\n",
      "True\n",
      "True\n",
      "True\n",
      "True\n",
      "True\n",
      "True\n",
      "True\n",
      "True\n",
      "True\n",
      "True\n",
      "True\n",
      "True\n",
      "True\n",
      "True\n",
      "True\n",
      "True\n",
      "True\n",
      "True\n",
      "True\n",
      "True\n",
      "True\n",
      "True\n",
      "True\n",
      "True\n",
      "True\n",
      "True\n",
      "True\n",
      "True\n",
      "True\n",
      "True\n",
      "True\n",
      "True\n",
      "True\n",
      "True\n",
      "True\n",
      "True\n",
      "True\n",
      "True\n",
      "True\n",
      "True\n",
      "True\n",
      "True\n",
      "True\n",
      "True\n",
      "True\n",
      "True\n",
      "True\n",
      "True\n",
      "True\n",
      "True\n",
      "True\n",
      "True\n",
      "True\n",
      "True\n",
      "True\n",
      "True\n",
      "True\n",
      "True\n",
      "True\n",
      "True\n",
      "True\n",
      "True\n",
      "True\n"
     ]
    }
   ],
   "source": [
    "w, w_hist, phi_w_hist = barr_method(Q,p,A,b,w_0,mu = 10.,tol = 0.001)\n"
   ]
  },
  {
   "cell_type": "code",
   "execution_count": 371,
   "metadata": {},
   "outputs": [],
   "source": [
    "# f_predict = lambda x: \n",
    "tmp = np.dot(X_test, np.transpose(X_train))\n",
    "result = np.dot(tmp, w[:n])"
   ]
  },
  {
   "cell_type": "code",
   "execution_count": 372,
   "metadata": {},
   "outputs": [],
   "source": [
    "Y_predicted = result > 0."
   ]
  },
  {
   "cell_type": "code",
   "execution_count": 373,
   "metadata": {},
   "outputs": [
    {
     "data": {
      "text/plain": [
       "matrix([[False],\n",
       "        [False],\n",
       "        [False],\n",
       "        [ True],\n",
       "        [ True],\n",
       "        [ True],\n",
       "        [ True],\n",
       "        [ True],\n",
       "        [False],\n",
       "        [False],\n",
       "        [ True],\n",
       "        [ True],\n",
       "        [False],\n",
       "        [False],\n",
       "        [False],\n",
       "        [ True],\n",
       "        [False],\n",
       "        [ True],\n",
       "        [ True],\n",
       "        [False],\n",
       "        [ True],\n",
       "        [ True],\n",
       "        [ True],\n",
       "        [ True],\n",
       "        [ True],\n",
       "        [ True],\n",
       "        [ True],\n",
       "        [False],\n",
       "        [False],\n",
       "        [False],\n",
       "        [False],\n",
       "        [ True],\n",
       "        [ True],\n",
       "        [ True],\n",
       "        [False],\n",
       "        [ True],\n",
       "        [ True],\n",
       "        [ True],\n",
       "        [ True],\n",
       "        [ True],\n",
       "        [ True],\n",
       "        [ True],\n",
       "        [ True],\n",
       "        [ True],\n",
       "        [False],\n",
       "        [False],\n",
       "        [ True],\n",
       "        [ True],\n",
       "        [ True],\n",
       "        [False],\n",
       "        [ True],\n",
       "        [False],\n",
       "        [ True],\n",
       "        [False],\n",
       "        [ True],\n",
       "        [ True],\n",
       "        [False],\n",
       "        [False],\n",
       "        [ True],\n",
       "        [ True],\n",
       "        [ True],\n",
       "        [False],\n",
       "        [False],\n",
       "        [ True],\n",
       "        [False],\n",
       "        [False],\n",
       "        [ True],\n",
       "        [ True],\n",
       "        [ True],\n",
       "        [False],\n",
       "        [False],\n",
       "        [ True],\n",
       "        [ True],\n",
       "        [False],\n",
       "        [ True],\n",
       "        [ True],\n",
       "        [False],\n",
       "        [False],\n",
       "        [ True],\n",
       "        [ True],\n",
       "        [False],\n",
       "        [False],\n",
       "        [ True],\n",
       "        [ True],\n",
       "        [ True],\n",
       "        [ True],\n",
       "        [ True],\n",
       "        [ True],\n",
       "        [False],\n",
       "        [ True],\n",
       "        [ True],\n",
       "        [False],\n",
       "        [ True],\n",
       "        [ True],\n",
       "        [ True],\n",
       "        [ True],\n",
       "        [False],\n",
       "        [False],\n",
       "        [ True],\n",
       "        [ True],\n",
       "        [False],\n",
       "        [ True],\n",
       "        [ True],\n",
       "        [ True],\n",
       "        [ True],\n",
       "        [False],\n",
       "        [ True],\n",
       "        [ True],\n",
       "        [False],\n",
       "        [False],\n",
       "        [ True],\n",
       "        [False],\n",
       "        [False],\n",
       "        [False],\n",
       "        [ True],\n",
       "        [False],\n",
       "        [False],\n",
       "        [False],\n",
       "        [False],\n",
       "        [ True],\n",
       "        [ True],\n",
       "        [ True],\n",
       "        [ True],\n",
       "        [False],\n",
       "        [False],\n",
       "        [ True],\n",
       "        [ True],\n",
       "        [ True],\n",
       "        [False],\n",
       "        [False],\n",
       "        [ True],\n",
       "        [False],\n",
       "        [ True],\n",
       "        [False],\n",
       "        [False],\n",
       "        [False],\n",
       "        [False],\n",
       "        [False],\n",
       "        [False],\n",
       "        [False],\n",
       "        [ True],\n",
       "        [False],\n",
       "        [False],\n",
       "        [ True],\n",
       "        [ True],\n",
       "        [ True],\n",
       "        [False],\n",
       "        [False],\n",
       "        [False],\n",
       "        [False],\n",
       "        [ True],\n",
       "        [ True],\n",
       "        [False],\n",
       "        [ True],\n",
       "        [ True],\n",
       "        [False],\n",
       "        [False],\n",
       "        [False],\n",
       "        [ True],\n",
       "        [ True],\n",
       "        [ True],\n",
       "        [False],\n",
       "        [ True],\n",
       "        [ True],\n",
       "        [ True],\n",
       "        [ True],\n",
       "        [False],\n",
       "        [ True],\n",
       "        [ True],\n",
       "        [False],\n",
       "        [False],\n",
       "        [False],\n",
       "        [False],\n",
       "        [ True],\n",
       "        [False],\n",
       "        [ True],\n",
       "        [ True],\n",
       "        [False],\n",
       "        [ True],\n",
       "        [ True],\n",
       "        [False],\n",
       "        [ True],\n",
       "        [ True],\n",
       "        [ True],\n",
       "        [False],\n",
       "        [ True],\n",
       "        [False],\n",
       "        [ True],\n",
       "        [False],\n",
       "        [False],\n",
       "        [False],\n",
       "        [False],\n",
       "        [False],\n",
       "        [ True],\n",
       "        [ True],\n",
       "        [ True],\n",
       "        [False],\n",
       "        [ True],\n",
       "        [False],\n",
       "        [False],\n",
       "        [ True],\n",
       "        [ True],\n",
       "        [False],\n",
       "        [False],\n",
       "        [False],\n",
       "        [False],\n",
       "        [ True],\n",
       "        [False],\n",
       "        [ True],\n",
       "        [ True],\n",
       "        [False],\n",
       "        [ True],\n",
       "        [ True],\n",
       "        [False],\n",
       "        [ True],\n",
       "        [False],\n",
       "        [ True],\n",
       "        [ True],\n",
       "        [ True],\n",
       "        [False],\n",
       "        [ True],\n",
       "        [False],\n",
       "        [ True],\n",
       "        [False],\n",
       "        [ True],\n",
       "        [ True],\n",
       "        [False],\n",
       "        [False],\n",
       "        [ True],\n",
       "        [False],\n",
       "        [ True],\n",
       "        [False],\n",
       "        [ True],\n",
       "        [False],\n",
       "        [ True],\n",
       "        [False],\n",
       "        [False],\n",
       "        [ True],\n",
       "        [False],\n",
       "        [ True],\n",
       "        [ True],\n",
       "        [False],\n",
       "        [ True],\n",
       "        [ True],\n",
       "        [False],\n",
       "        [False],\n",
       "        [ True],\n",
       "        [ True],\n",
       "        [False],\n",
       "        [False],\n",
       "        [ True],\n",
       "        [ True],\n",
       "        [ True],\n",
       "        [ True],\n",
       "        [ True],\n",
       "        [False],\n",
       "        [ True],\n",
       "        [ True],\n",
       "        [False],\n",
       "        [ True],\n",
       "        [ True],\n",
       "        [False],\n",
       "        [ True],\n",
       "        [ True],\n",
       "        [ True],\n",
       "        [False],\n",
       "        [False],\n",
       "        [ True],\n",
       "        [ True],\n",
       "        [ True],\n",
       "        [ True],\n",
       "        [ True],\n",
       "        [ True],\n",
       "        [ True],\n",
       "        [False],\n",
       "        [False],\n",
       "        [ True],\n",
       "        [False],\n",
       "        [ True],\n",
       "        [False],\n",
       "        [ True],\n",
       "        [ True],\n",
       "        [False],\n",
       "        [False],\n",
       "        [ True],\n",
       "        [False],\n",
       "        [ True],\n",
       "        [ True],\n",
       "        [ True],\n",
       "        [ True],\n",
       "        [ True],\n",
       "        [False],\n",
       "        [False],\n",
       "        [False],\n",
       "        [False],\n",
       "        [False],\n",
       "        [ True],\n",
       "        [ True],\n",
       "        [False],\n",
       "        [False],\n",
       "        [ True],\n",
       "        [False],\n",
       "        [False],\n",
       "        [ True]], dtype=bool)"
      ]
     },
     "execution_count": 373,
     "metadata": {},
     "output_type": "execute_result"
    }
   ],
   "source": [
    "Y_predicted"
   ]
  },
  {
   "cell_type": "code",
   "execution_count": 374,
   "metadata": {},
   "outputs": [],
   "source": [
    "tmp2 = (Y_test == (Y_predicted - 0.5)*2)"
   ]
  },
  {
   "cell_type": "code",
   "execution_count": 375,
   "metadata": {},
   "outputs": [
    {
     "data": {
      "text/plain": [
       "0.5"
      ]
     },
     "execution_count": 375,
     "metadata": {},
     "output_type": "execute_result"
    }
   ],
   "source": [
    "np.mean(tmp2)"
   ]
  },
  {
   "cell_type": "code",
   "execution_count": 324,
   "metadata": {},
   "outputs": [
    {
     "data": {
      "text/plain": [
       "matrix([[-1.,  1.,  1., -1., -1., -1., -1.,  1., -1., -1., -1., -1.,  1.,\n",
       "          1., -1., -1.,  1., -1., -1., -1.]])"
      ]
     },
     "execution_count": 324,
     "metadata": {},
     "output_type": "execute_result"
    }
   ],
   "source": [
    "np.transpose((Y_predicted - 0.5)*2)"
   ]
  },
  {
   "cell_type": "code",
   "execution_count": 326,
   "metadata": {},
   "outputs": [
    {
     "name": "stdout",
     "output_type": "stream",
     "text": [
      "accuracy for testing : 2.1\n"
     ]
    }
   ],
   "source": [
    "print(\"accuracy for testing : {}\".format(np.sum(Y_test == np.transpose(Y_predicted))/len(Y_test)))"
   ]
  },
  {
   "cell_type": "code",
   "execution_count": 104,
   "metadata": {},
   "outputs": [
    {
     "name": "stdout",
     "output_type": "stream",
     "text": [
      "accuracy for testing : 0.4975\n",
      "accuracy for training : 0.575\n"
     ]
    }
   ],
   "source": [
    "from sklearn import svm\n",
    "\n",
    "clf = svm.SVC(C=.001, kernel='poly', degree=3)\n",
    "\n",
    "clf.fit(X_train, Y_train['bound'])\n",
    "Y_pred = clf.predict(X_test)\n",
    "Y_train_pred = clf.predict(X_train)\n",
    "print(\"accuracy for testing : {}\".format(np.sum(Y_test['bound'] == Y_pred)/len(Y_test)))\n",
    "print(\"accuracy for training : {}\".format(np.sum(Y_train_pred == Y_train['bound'])/len(Y_train)))\n",
    "# print(Y_train_pred.shape)"
   ]
  },
  {
   "cell_type": "code",
   "execution_count": 78,
   "metadata": {},
   "outputs": [
    {
     "name": "stdout",
     "output_type": "stream",
     "text": [
      "accuracy for testing : 0.5325\n",
      "accuracy for training : 0.584375\n"
     ]
    }
   ],
   "source": [
    "from sklearn.kernel_ridge import KernelRidge\n",
    "\n",
    "clf = KernelRidge(alpha=.1)\n",
    "clf.fit(X_train, Y_train['bound'])\n",
    "Y_pred = clf.predict(X_test) > 0.5\n",
    "Y_train_pred = clf.predict(X_train) > 0.5\n",
    "print(\"accuracy for testing : {}\".format(np.sum(Y_test['bound'] == Y_pred)/len(Y_test)))\n",
    "print(\"accuracy for training : {}\".format(np.sum(Y_train_pred == Y_train['bound'])/len(Y_train)))\n"
   ]
  },
  {
   "cell_type": "code",
   "execution_count": 79,
   "metadata": {},
   "outputs": [
    {
     "name": "stdout",
     "output_type": "stream",
     "text": [
      "accuracy for testing : 0.495\n",
      "accuracy for training : 0.9175\n"
     ]
    }
   ],
   "source": [
    "from sklearn.ensemble import RandomForestClassifier\n",
    "\n",
    "clf = RandomForestClassifier(n_estimators=5, max_depth=None, min_samples_split=4, random_state=0)\n",
    "clf.fit(X_train, Y_train['bound'])\n",
    "Y_pred = clf.predict(X_test)\n",
    "Y_train_pred = clf.predict(X_train)\n",
    "print(\"accuracy for testing : {}\".format(np.sum(Y_test['bound'] == Y_pred)/len(Y_test)))\n",
    "print(\"accuracy for training : {}\".format(np.sum(Y_train_pred == Y_train['bound'])/len(Y_train)))\n"
   ]
  },
  {
   "cell_type": "code",
   "execution_count": 80,
   "metadata": {},
   "outputs": [
    {
     "name": "stdout",
     "output_type": "stream",
     "text": [
      "accuracy for testing : 0.4775\n",
      "accuracy for training : 0.731875\n"
     ]
    }
   ],
   "source": [
    "from sklearn.ensemble import GradientBoostingClassifier\n",
    "\n",
    "clf = GradientBoostingClassifier(n_estimators=5, learning_rate=.1, max_depth=5, random_state=0)\n",
    "clf.fit(X_train, Y_train['bound'])\n",
    "Y_pred = clf.predict(X_test)\n",
    "Y_train_pred = clf.predict(X_train)\n",
    "print(\"accuracy for testing : {}\".format(np.sum(Y_test['bound'] == Y_pred)/len(Y_test)))\n",
    "print(\"accuracy for training : {}\".format(np.sum(Y_train_pred == Y_train['bound'])/len(Y_train)))"
   ]
  },
  {
   "cell_type": "code",
   "execution_count": 87,
   "metadata": {
    "scrolled": true
   },
   "outputs": [
    {
     "name": "stdout",
     "output_type": "stream",
     "text": [
      "Epoch 1/20\n",
      "1600/1600 [==============================] - 1s 691us/step - loss: 0.7011 - acc: 0.4806\n",
      "Epoch 2/20\n",
      "1600/1600 [==============================] - 1s 359us/step - loss: 0.6986 - acc: 0.4881\n",
      "Epoch 3/20\n",
      "1600/1600 [==============================] - 1s 376us/step - loss: 0.6984 - acc: 0.5119\n",
      "Epoch 4/20\n",
      "1600/1600 [==============================] - 1s 376us/step - loss: 0.6970 - acc: 0.4963\n",
      "Epoch 5/20\n",
      "1600/1600 [==============================] - 1s 391us/step - loss: 0.6964 - acc: 0.5144 0s - loss: 0.6940 -\n",
      "Epoch 6/20\n",
      "1600/1600 [==============================] - 1s 370us/step - loss: 0.6972 - acc: 0.4838\n",
      "Epoch 7/20\n",
      "1600/1600 [==============================] - 1s 376us/step - loss: 0.6965 - acc: 0.4988\n",
      "Epoch 8/20\n",
      "1600/1600 [==============================] - 1s 413us/step - loss: 0.6959 - acc: 0.5113 0s - loss: 0.6950 - \n",
      "Epoch 9/20\n",
      "1600/1600 [==============================] - 1s 381us/step - loss: 0.6959 - acc: 0.5019\n",
      "Epoch 10/20\n",
      "1600/1600 [==============================] - 1s 450us/step - loss: 0.6946 - acc: 0.5200\n",
      "Epoch 11/20\n",
      "1600/1600 [==============================] - 1s 510us/step - loss: 0.6960 - acc: 0.4963\n",
      "Epoch 12/20\n",
      "1600/1600 [==============================] - 1s 571us/step - loss: 0.6959 - acc: 0.5069\n",
      "Epoch 13/20\n",
      "1600/1600 [==============================] - 1s 471us/step - loss: 0.6956 - acc: 0.4875\n",
      "Epoch 14/20\n",
      "1600/1600 [==============================] - 1s 414us/step - loss: 0.6966 - acc: 0.4950\n",
      "Epoch 15/20\n",
      "1600/1600 [==============================] - 1s 407us/step - loss: 0.6936 - acc: 0.5188\n",
      "Epoch 16/20\n",
      "1600/1600 [==============================] - 1s 424us/step - loss: 0.6950 - acc: 0.4988\n",
      "Epoch 17/20\n",
      "1600/1600 [==============================] - 1s 399us/step - loss: 0.6947 - acc: 0.5044\n",
      "Epoch 18/20\n",
      "1600/1600 [==============================] - 1s 526us/step - loss: 0.6952 - acc: 0.5113\n",
      "Epoch 19/20\n",
      "1600/1600 [==============================] - 1s 675us/step - loss: 0.6940 - acc: 0.5031\n",
      "Epoch 20/20\n",
      "1600/1600 [==============================] - 1s 422us/step - loss: 0.6962 - acc: 0.4756\n",
      "accuracy for testing : bound    0.5\n",
      "dtype: float64\n",
      "accuracy for training : bound    0.5\n",
      "dtype: float64\n"
     ]
    }
   ],
   "source": [
    "from keras.models import Sequential\n",
    "from keras.layers import Dense\n",
    "from keras.optimizers import Adam\n",
    "\n",
    "model = Sequential()\n",
    "model.add(Dense(100, input_dim=50, activation='sigmoid', kernel_initializer='random_uniform'))\n",
    "model.add(Dense(50, activation='sigmoid', kernel_initializer='random_uniform'))\n",
    "# model.add(Dense(8, activation='relu'))\n",
    "model.add(Dense(1, activation='sigmoid'))\n",
    "# am = Adam(lr=0.01)\n",
    "model.compile(loss='binary_crossentropy', optimizer='adam', metrics=['accuracy'])\n",
    "model.fit(X_train, Y_train['bound'], epochs=20, batch_size=5)\n",
    "\n",
    "# clf.fit(X_train, )\n",
    "Y_pred = model.predict(X_test)>0.5\n",
    "Y_train_pred = model.predict(X_train)>0.5\n",
    "print(\"accuracy for testing : {}\".format(np.sum(Y_test == Y_pred)/len(Y_test)))\n",
    "print(\"accuracy for training : {}\".format(np.sum(Y_train_pred == Y_train)/len(Y_train)))"
   ]
  },
  {
   "cell_type": "code",
   "execution_count": 12,
   "metadata": {},
   "outputs": [
    {
     "data": {
      "text/plain": [
       "(400, 1)"
      ]
     },
     "execution_count": 12,
     "metadata": {},
     "output_type": "execute_result"
    }
   ],
   "source": [
    "Y_pred.shape"
   ]
  },
  {
   "cell_type": "markdown",
   "metadata": {},
   "source": [
    "Bon en fait j'ai l'impression que a marche pas de ouf cette représentation des ACTG... Faut qu'on trouve notre propre truc.\n"
   ]
  },
  {
   "cell_type": "code",
   "execution_count": 92,
   "metadata": {},
   "outputs": [
    {
     "name": "stdout",
     "output_type": "stream",
     "text": [
      "['AAA', 'AAC', 'AAT', 'AAG', 'ACA', 'ACC', 'ACT', 'ACG', 'ATA', 'ATC', 'ATT', 'ATG', 'AGA', 'AGC', 'AGT', 'AGG', 'CAA', 'CAC', 'CAT', 'CAG', 'CCA', 'CCC', 'CCT', 'CCG', 'CTA', 'CTC', 'CTT', 'CTG', 'CGA', 'CGC', 'CGT', 'CGG', 'TAA', 'TAC', 'TAT', 'TAG', 'TCA', 'TCC', 'TCT', 'TCG', 'TTA', 'TTC', 'TTT', 'TTG', 'TGA', 'TGC', 'TGT', 'TGG', 'GAA', 'GAC', 'GAT', 'GAG', 'GCA', 'GCC', 'GCT', 'GCG', 'GTA', 'GTC', 'GTT', 'GTG', 'GGA', 'GGC', 'GGT', 'GGG']\n"
     ]
    }
   ],
   "source": [
    "# Construction of the proteine\n",
    "\n",
    "from itertools import product\n",
    "from string import ascii_lowercase\n",
    "base_azote = ['A', 'C', 'T', 'G']\n",
    "\n",
    "# Creation of all possible combinations\n",
    "dic_prot = [''.join(i) for i in product(base_azote, repeat = 3)]\n",
    "nb_feat = len(dic_prot)\n",
    "print(dic_prot)"
   ]
  },
  {
   "cell_type": "code",
   "execution_count": 5,
   "metadata": {},
   "outputs": [
    {
     "name": "stdout",
     "output_type": "stream",
     "text": [
      "0    CGGGCCTCCTCCAGGCTCAGAATCGACCCCCCCCCATCCTGATAGA...\n",
      "1    CTCCGCCCGCACTTCCGTCTGGACGCGAAGGCGTCACCGGGCGCGC...\n",
      "2    GGTGTCTAGTCACATTACCTGAGATCTGACATTTTTATCCGTCTGA...\n",
      "3    CGGCCTCCCTACCCCAGCCTCGCTCTGGGCGCCGTGACGTCACCTC...\n",
      "4    GTTTGAATGGTGATCACGTGACGGGGCGGTGACGTCACCCGCCCTG...\n",
      "Name: 0, dtype: object\n"
     ]
    }
   ],
   "source": [
    "X_raw = pd.read_csv('data/Xtr1.csv', sep=' ', header=None)\n",
    "# test on one sequence\n",
    "seq = X_raw[0][:5]\n",
    "# print(len(seq))\n",
    "print(seq)\n",
    "# print(Y['bound'][:10])"
   ]
  },
  {
   "cell_type": "code",
   "execution_count": 106,
   "metadata": {
    "scrolled": true
   },
   "outputs": [
    {
     "name": "stderr",
     "output_type": "stream",
     "text": [
      "  3%|▎         | 59/2000 [00:02<01:29, 21.61it/s]\n"
     ]
    },
    {
     "ename": "KeyboardInterrupt",
     "evalue": "",
     "output_type": "error",
     "traceback": [
      "\u001b[0;31m---------------------------------------------------------------------------\u001b[0m",
      "\u001b[0;31mKeyboardInterrupt\u001b[0m                         Traceback (most recent call last)",
      "\u001b[0;32m<ipython-input-106-30aa6334f00d>\u001b[0m in \u001b[0;36m<module>\u001b[0;34m()\u001b[0m\n\u001b[1;32m     33\u001b[0m \u001b[0;34m\u001b[0m\u001b[0m\n\u001b[1;32m     34\u001b[0m \u001b[0;34m\u001b[0m\u001b[0m\n\u001b[0;32m---> 35\u001b[0;31m \u001b[0mtest\u001b[0m \u001b[0;34m=\u001b[0m \u001b[0mfeature_exractor\u001b[0m\u001b[0;34m(\u001b[0m\u001b[0mX_raw\u001b[0m\u001b[0;34m)\u001b[0m\u001b[0;34m\u001b[0m\u001b[0m\n\u001b[0m",
      "\u001b[0;32m<ipython-input-106-30aa6334f00d>\u001b[0m in \u001b[0;36mfeature_exractor\u001b[0;34m(X, k)\u001b[0m\n\u001b[1;32m     28\u001b[0m     \u001b[0mX_processed\u001b[0m \u001b[0;34m=\u001b[0m \u001b[0;34m[\u001b[0m\u001b[0;34m]\u001b[0m\u001b[0;34m\u001b[0m\u001b[0m\n\u001b[1;32m     29\u001b[0m     \u001b[0;32mfor\u001b[0m \u001b[0mseq\u001b[0m \u001b[0;32min\u001b[0m \u001b[0mtqdm\u001b[0m\u001b[0;34m(\u001b[0m\u001b[0mX\u001b[0m\u001b[0;34m[\u001b[0m\u001b[0;36m0\u001b[0m\u001b[0;34m]\u001b[0m\u001b[0;34m)\u001b[0m\u001b[0;34m:\u001b[0m\u001b[0;34m\u001b[0m\u001b[0m\n\u001b[0;32m---> 30\u001b[0;31m         \u001b[0mX_processed\u001b[0m\u001b[0;34m.\u001b[0m\u001b[0mappend\u001b[0m\u001b[0;34m(\u001b[0m\u001b[0mcount_kuplet\u001b[0m\u001b[0;34m(\u001b[0m\u001b[0mk_spectre\u001b[0m\u001b[0;34m(\u001b[0m\u001b[0mseq\u001b[0m\u001b[0;34m)\u001b[0m\u001b[0;34m)\u001b[0m\u001b[0;34m)\u001b[0m\u001b[0;34m\u001b[0m\u001b[0m\n\u001b[0m\u001b[1;32m     31\u001b[0m \u001b[0;34m\u001b[0m\u001b[0m\n\u001b[1;32m     32\u001b[0m     \u001b[0;32mreturn\u001b[0m \u001b[0mX_processed\u001b[0m\u001b[0;34m\u001b[0m\u001b[0m\n",
      "\u001b[0;32m<ipython-input-106-30aa6334f00d>\u001b[0m in \u001b[0;36mcount_kuplet\u001b[0;34m(k_seq)\u001b[0m\n\u001b[1;32m     22\u001b[0m     \u001b[0mnew_feat\u001b[0m \u001b[0;34m=\u001b[0m \u001b[0minit_feat\u001b[0m\u001b[0;34m.\u001b[0m\u001b[0mcopy\u001b[0m\u001b[0;34m(\u001b[0m\u001b[0;34m)\u001b[0m\u001b[0;34m\u001b[0m\u001b[0m\n\u001b[1;32m     23\u001b[0m     \u001b[0;32mfor\u001b[0m \u001b[0mkuplet\u001b[0m \u001b[0;32min\u001b[0m \u001b[0mk_seq\u001b[0m\u001b[0;34m:\u001b[0m\u001b[0;34m\u001b[0m\u001b[0m\n\u001b[0;32m---> 24\u001b[0;31m         \u001b[0mnew_feat\u001b[0m\u001b[0;34m[\u001b[0m\u001b[0mkuplet\u001b[0m\u001b[0;34m]\u001b[0m \u001b[0;34m+=\u001b[0m \u001b[0;36m1.\u001b[0m\u001b[0;34m\u001b[0m\u001b[0m\n\u001b[0m\u001b[1;32m     25\u001b[0m     \u001b[0;32mreturn\u001b[0m \u001b[0mnp\u001b[0m\u001b[0;34m.\u001b[0m\u001b[0marray\u001b[0m\u001b[0;34m(\u001b[0m\u001b[0mnew_feat\u001b[0m\u001b[0;34m)\u001b[0m\u001b[0;34m.\u001b[0m\u001b[0mreshape\u001b[0m\u001b[0;34m(\u001b[0m\u001b[0;36m4\u001b[0m\u001b[0;34m**\u001b[0m\u001b[0mk\u001b[0m\u001b[0;34m)\u001b[0m\u001b[0;34m\u001b[0m\u001b[0m\n\u001b[1;32m     26\u001b[0m \u001b[0;34m\u001b[0m\u001b[0m\n",
      "\u001b[0;32m~/anaconda/envs/hackathon/lib/python3.4/site-packages/pandas/core/ops.py\u001b[0m in \u001b[0;36mf\u001b[0;34m(self, other)\u001b[0m\n\u001b[1;32m    221\u001b[0m \u001b[0;34m\u001b[0m\u001b[0m\n\u001b[1;32m    222\u001b[0m         \u001b[0;32mdef\u001b[0m \u001b[0mf\u001b[0m\u001b[0;34m(\u001b[0m\u001b[0mself\u001b[0m\u001b[0;34m,\u001b[0m \u001b[0mother\u001b[0m\u001b[0;34m)\u001b[0m\u001b[0;34m:\u001b[0m\u001b[0;34m\u001b[0m\u001b[0m\n\u001b[0;32m--> 223\u001b[0;31m             \u001b[0mresult\u001b[0m \u001b[0;34m=\u001b[0m \u001b[0mmethod\u001b[0m\u001b[0;34m(\u001b[0m\u001b[0mself\u001b[0m\u001b[0;34m,\u001b[0m \u001b[0mother\u001b[0m\u001b[0;34m)\u001b[0m\u001b[0;34m\u001b[0m\u001b[0m\n\u001b[0m\u001b[1;32m    224\u001b[0m \u001b[0;34m\u001b[0m\u001b[0m\n\u001b[1;32m    225\u001b[0m             \u001b[0;31m# this makes sure that we are aligned like the input\u001b[0m\u001b[0;34m\u001b[0m\u001b[0;34m\u001b[0m\u001b[0m\n",
      "\u001b[0;32m~/anaconda/envs/hackathon/lib/python3.4/site-packages/pandas/core/ops.py\u001b[0m in \u001b[0;36mwrapper\u001b[0;34m(left, right, name, na_op)\u001b[0m\n\u001b[1;32m    737\u001b[0m                 \u001b[0mlvalues\u001b[0m \u001b[0;34m=\u001b[0m \u001b[0mlvalues\u001b[0m\u001b[0;34m.\u001b[0m\u001b[0mvalues\u001b[0m\u001b[0;34m\u001b[0m\u001b[0m\n\u001b[1;32m    738\u001b[0m \u001b[0;34m\u001b[0m\u001b[0m\n\u001b[0;32m--> 739\u001b[0;31m         \u001b[0mresult\u001b[0m \u001b[0;34m=\u001b[0m \u001b[0mwrap_results\u001b[0m\u001b[0;34m(\u001b[0m\u001b[0msafe_na_op\u001b[0m\u001b[0;34m(\u001b[0m\u001b[0mlvalues\u001b[0m\u001b[0;34m,\u001b[0m \u001b[0mrvalues\u001b[0m\u001b[0;34m)\u001b[0m\u001b[0;34m)\u001b[0m\u001b[0;34m\u001b[0m\u001b[0m\n\u001b[0m\u001b[1;32m    740\u001b[0m         return construct_result(\n\u001b[1;32m    741\u001b[0m             \u001b[0mleft\u001b[0m\u001b[0;34m,\u001b[0m\u001b[0;34m\u001b[0m\u001b[0m\n",
      "\u001b[0;32m~/anaconda/envs/hackathon/lib/python3.4/site-packages/pandas/core/ops.py\u001b[0m in \u001b[0;36msafe_na_op\u001b[0;34m(lvalues, rvalues)\u001b[0m\n\u001b[1;32m    698\u001b[0m         \u001b[0;32mtry\u001b[0m\u001b[0;34m:\u001b[0m\u001b[0;34m\u001b[0m\u001b[0m\n\u001b[1;32m    699\u001b[0m             \u001b[0;32mwith\u001b[0m \u001b[0mnp\u001b[0m\u001b[0;34m.\u001b[0m\u001b[0merrstate\u001b[0m\u001b[0;34m(\u001b[0m\u001b[0mall\u001b[0m\u001b[0;34m=\u001b[0m\u001b[0;34m'ignore'\u001b[0m\u001b[0;34m)\u001b[0m\u001b[0;34m:\u001b[0m\u001b[0;34m\u001b[0m\u001b[0m\n\u001b[0;32m--> 700\u001b[0;31m                 \u001b[0;32mreturn\u001b[0m \u001b[0mna_op\u001b[0m\u001b[0;34m(\u001b[0m\u001b[0mlvalues\u001b[0m\u001b[0;34m,\u001b[0m \u001b[0mrvalues\u001b[0m\u001b[0;34m)\u001b[0m\u001b[0;34m\u001b[0m\u001b[0m\n\u001b[0m\u001b[1;32m    701\u001b[0m         \u001b[0;32mexcept\u001b[0m \u001b[0mException\u001b[0m\u001b[0;34m:\u001b[0m\u001b[0;34m\u001b[0m\u001b[0m\n\u001b[1;32m    702\u001b[0m             \u001b[0;32mif\u001b[0m \u001b[0misinstance\u001b[0m\u001b[0;34m(\u001b[0m\u001b[0mrvalues\u001b[0m\u001b[0;34m,\u001b[0m \u001b[0mABCSeries\u001b[0m\u001b[0;34m)\u001b[0m\u001b[0;34m:\u001b[0m\u001b[0;34m\u001b[0m\u001b[0m\n",
      "\u001b[0;32m~/anaconda/envs/hackathon/lib/python3.4/site-packages/pandas/core/ops.py\u001b[0m in \u001b[0;36mna_op\u001b[0;34m(x, y)\u001b[0m\n\u001b[1;32m    674\u001b[0m \u001b[0;34m\u001b[0m\u001b[0m\n\u001b[1;32m    675\u001b[0m         \u001b[0;32mtry\u001b[0m\u001b[0;34m:\u001b[0m\u001b[0;34m\u001b[0m\u001b[0m\n\u001b[0;32m--> 676\u001b[0;31m             \u001b[0mresult\u001b[0m \u001b[0;34m=\u001b[0m \u001b[0mexpressions\u001b[0m\u001b[0;34m.\u001b[0m\u001b[0mevaluate\u001b[0m\u001b[0;34m(\u001b[0m\u001b[0mop\u001b[0m\u001b[0;34m,\u001b[0m \u001b[0mstr_rep\u001b[0m\u001b[0;34m,\u001b[0m \u001b[0mx\u001b[0m\u001b[0;34m,\u001b[0m \u001b[0my\u001b[0m\u001b[0;34m,\u001b[0m \u001b[0;34m**\u001b[0m\u001b[0meval_kwargs\u001b[0m\u001b[0;34m)\u001b[0m\u001b[0;34m\u001b[0m\u001b[0m\n\u001b[0m\u001b[1;32m    677\u001b[0m         \u001b[0;32mexcept\u001b[0m \u001b[0mTypeError\u001b[0m\u001b[0;34m:\u001b[0m\u001b[0;34m\u001b[0m\u001b[0m\n\u001b[1;32m    678\u001b[0m             \u001b[0;32mif\u001b[0m \u001b[0misinstance\u001b[0m\u001b[0;34m(\u001b[0m\u001b[0my\u001b[0m\u001b[0;34m,\u001b[0m \u001b[0;34m(\u001b[0m\u001b[0mnp\u001b[0m\u001b[0;34m.\u001b[0m\u001b[0mndarray\u001b[0m\u001b[0;34m,\u001b[0m \u001b[0mABCSeries\u001b[0m\u001b[0;34m,\u001b[0m \u001b[0mpd\u001b[0m\u001b[0;34m.\u001b[0m\u001b[0mIndex\u001b[0m\u001b[0;34m)\u001b[0m\u001b[0;34m)\u001b[0m\u001b[0;34m:\u001b[0m\u001b[0;34m\u001b[0m\u001b[0m\n",
      "\u001b[0;32m~/anaconda/envs/hackathon/lib/python3.4/site-packages/pandas/core/computation/expressions.py\u001b[0m in \u001b[0;36mevaluate\u001b[0;34m(op, op_str, a, b, use_numexpr, **eval_kwargs)\u001b[0m\n\u001b[1;32m    202\u001b[0m     \u001b[0muse_numexpr\u001b[0m \u001b[0;34m=\u001b[0m \u001b[0muse_numexpr\u001b[0m \u001b[0;32mand\u001b[0m \u001b[0m_bool_arith_check\u001b[0m\u001b[0;34m(\u001b[0m\u001b[0mop_str\u001b[0m\u001b[0;34m,\u001b[0m \u001b[0ma\u001b[0m\u001b[0;34m,\u001b[0m \u001b[0mb\u001b[0m\u001b[0;34m)\u001b[0m\u001b[0;34m\u001b[0m\u001b[0m\n\u001b[1;32m    203\u001b[0m     \u001b[0;32mif\u001b[0m \u001b[0muse_numexpr\u001b[0m\u001b[0;34m:\u001b[0m\u001b[0;34m\u001b[0m\u001b[0m\n\u001b[0;32m--> 204\u001b[0;31m         \u001b[0;32mreturn\u001b[0m \u001b[0m_evaluate\u001b[0m\u001b[0;34m(\u001b[0m\u001b[0mop\u001b[0m\u001b[0;34m,\u001b[0m \u001b[0mop_str\u001b[0m\u001b[0;34m,\u001b[0m \u001b[0ma\u001b[0m\u001b[0;34m,\u001b[0m \u001b[0mb\u001b[0m\u001b[0;34m,\u001b[0m \u001b[0;34m**\u001b[0m\u001b[0meval_kwargs\u001b[0m\u001b[0;34m)\u001b[0m\u001b[0;34m\u001b[0m\u001b[0m\n\u001b[0m\u001b[1;32m    205\u001b[0m     \u001b[0;32mreturn\u001b[0m \u001b[0m_evaluate_standard\u001b[0m\u001b[0;34m(\u001b[0m\u001b[0mop\u001b[0m\u001b[0;34m,\u001b[0m \u001b[0mop_str\u001b[0m\u001b[0;34m,\u001b[0m \u001b[0ma\u001b[0m\u001b[0;34m,\u001b[0m \u001b[0mb\u001b[0m\u001b[0;34m)\u001b[0m\u001b[0;34m\u001b[0m\u001b[0m\n\u001b[1;32m    206\u001b[0m \u001b[0;34m\u001b[0m\u001b[0m\n",
      "\u001b[0;32m~/anaconda/envs/hackathon/lib/python3.4/site-packages/pandas/core/computation/expressions.py\u001b[0m in \u001b[0;36m_evaluate_standard\u001b[0;34m(op, op_str, a, b, **eval_kwargs)\u001b[0m\n\u001b[1;32m     62\u001b[0m         \u001b[0m_store_test_result\u001b[0m\u001b[0;34m(\u001b[0m\u001b[0;32mFalse\u001b[0m\u001b[0;34m)\u001b[0m\u001b[0;34m\u001b[0m\u001b[0m\n\u001b[1;32m     63\u001b[0m     \u001b[0;32mwith\u001b[0m \u001b[0mnp\u001b[0m\u001b[0;34m.\u001b[0m\u001b[0merrstate\u001b[0m\u001b[0;34m(\u001b[0m\u001b[0mall\u001b[0m\u001b[0;34m=\u001b[0m\u001b[0;34m'ignore'\u001b[0m\u001b[0;34m)\u001b[0m\u001b[0;34m:\u001b[0m\u001b[0;34m\u001b[0m\u001b[0m\n\u001b[0;32m---> 64\u001b[0;31m         \u001b[0;32mreturn\u001b[0m \u001b[0mop\u001b[0m\u001b[0;34m(\u001b[0m\u001b[0ma\u001b[0m\u001b[0;34m,\u001b[0m \u001b[0mb\u001b[0m\u001b[0;34m)\u001b[0m\u001b[0;34m\u001b[0m\u001b[0m\n\u001b[0m\u001b[1;32m     65\u001b[0m \u001b[0;34m\u001b[0m\u001b[0m\n\u001b[1;32m     66\u001b[0m \u001b[0;34m\u001b[0m\u001b[0m\n",
      "\u001b[0;31mKeyboardInterrupt\u001b[0m: "
     ]
    }
   ],
   "source": [
    "from tqdm import tqdm\n",
    "\n",
    "k=3\n",
    "\n",
    "def k_spectre(seq, k=3):\n",
    "    \"\"\"\n",
    "    Combine all the k-successive\n",
    "    \"\"\"\n",
    "    k_seq = []\n",
    "    for i in range(len(seq)-k+1):\n",
    "        tmp = ''\n",
    "        for j in range(k):\n",
    "            tmp += seq[i+j]\n",
    "        k_seq.append(tmp)\n",
    "    return k_seq\n",
    "\n",
    "init_feat = pd.DataFrame(0, index=[0], columns=dic_prot)\n",
    "# init_feat.append(np.zeros(4**k))\n",
    "\n",
    "def count_kuplet(k_seq):\n",
    "    k = len(k_seq[0])\n",
    "    new_feat = init_feat.copy()\n",
    "    for kuplet in k_seq:\n",
    "        new_feat[kuplet] += 1.\n",
    "    return np.array(new_feat).reshape(4**k)\n",
    "\n",
    "def feature_exractor(X, k=3):\n",
    "    X_processed = []\n",
    "    for seq in tqdm(X[0]):\n",
    "        X_processed.append(count_kuplet(k_spectre(seq)))\n",
    "    \n",
    "    return X_processed\n",
    "\n",
    "    \n",
    "test = feature_exractor(X_raw)    \n",
    "test = np.array(test)\n"
   ]
  },
  {
   "cell_type": "code",
   "execution_count": 121,
   "metadata": {},
   "outputs": [
    {
     "data": {
      "text/plain": [
       "(2000, 2000)"
      ]
     },
     "execution_count": 121,
     "metadata": {},
     "output_type": "execute_result"
    }
   ],
   "source": [
    "test = np.asarray(test)\n",
    "K = np.dot(test, test.T)\n",
    "K.shape"
   ]
  },
  {
   "cell_type": "code",
   "execution_count": 130,
   "metadata": {},
   "outputs": [],
   "source": [
    "N, d = test.shape\n",
    "lamb = 0.5\n",
    "\n",
    "test2 = np.matrix(test)\n",
    "\n",
    "A1 = np.concatenate((-K, -np.eye(N)), axis=1)\n",
    "A2 = np.concatenate((np.zeros((N,N)), -np.eye(N)), axis=1)\n",
    "A = np.concatenate((A1, A2), axis=0)\n",
    "\n",
    "Q1 = np.concatenate((K, np.zeros((N,N))), axis=1)\n",
    "Q2 = np.zeros((N, 2*N))\n",
    "Q = np.concatenate((Q1, Q2), axis=0)\n",
    "\n",
    "p = np.concatenate((np.zeros(N), np.ones(N)), axis=0) / lamb\n",
    "\n",
    "b = np.concatenate((-np.ones(N), np.zeros(N)), axis=0) \n"
   ]
  },
  {
   "cell_type": "code",
   "execution_count": 145,
   "metadata": {},
   "outputs": [],
   "source": [
    "# np.multiply(K,)\n",
    "Y_tmp = np.array(Y['bound'])\n",
    "Y_tmp = (Y_tmp - 0.5) * 2\n",
    "tmp_test = np.multiply(Y_tmp,K)"
   ]
  },
  {
   "cell_type": "code",
   "execution_count": 146,
   "metadata": {
    "scrolled": true
   },
   "outputs": [
    {
     "data": {
      "text/plain": [
       "array([[-321.,  199.,  -95., ...,  157., -176., -179.],\n",
       "       [-199.,  323., -106., ...,  205., -167., -159.],\n",
       "       [ -95.,  106., -299., ...,  132., -153., -132.],\n",
       "       ..., \n",
       "       [-157.,  205., -132., ...,  249., -141., -152.],\n",
       "       [-176.,  167., -153., ...,  141., -283., -128.],\n",
       "       [-179.,  159., -132., ...,  152., -128., -297.]])"
      ]
     },
     "execution_count": 146,
     "metadata": {},
     "output_type": "execute_result"
    }
   ],
   "source": [
    "tmp_test"
   ]
  },
  {
   "cell_type": "code",
   "execution_count": 140,
   "metadata": {},
   "outputs": [
    {
     "data": {
      "text/plain": [
       "array([0, 1, 0, ..., 1, 0, 0])"
      ]
     },
     "execution_count": 140,
     "metadata": {},
     "output_type": "execute_result"
    }
   ],
   "source": [
    "Y_tmp"
   ]
  },
  {
   "cell_type": "code",
   "execution_count": 125,
   "metadata": {},
   "outputs": [
    {
     "name": "stdout",
     "output_type": "stream",
     "text": [
      "(4000, 4000)\n"
     ]
    }
   ],
   "source": [
    "print(Q.shape)"
   ]
  },
  {
   "cell_type": "code",
   "execution_count": 119,
   "metadata": {},
   "outputs": [
    {
     "name": "stdout",
     "output_type": "stream",
     "text": [
      "2000\n"
     ]
    }
   ],
   "source": [
    "print(N)"
   ]
  },
  {
   "cell_type": "code",
   "execution_count": 105,
   "metadata": {},
   "outputs": [
    {
     "name": "stdout",
     "output_type": "stream",
     "text": [
      "we want 1.0 to be less than 0.3\n",
      "we want 0.9090909090909091 to be less than 0.3\n",
      "we want 0.8264462809917353 to be less than 0.3\n",
      "we want 0.7513148009015775 to be less than 0.3\n",
      "we want 0.6830134553650704 to be less than 0.3\n",
      "we want 0.6209213230591548 to be less than 0.3\n",
      "we want 0.5644739300537771 to be less than 0.3\n",
      "we want 0.5131581182307065 to be less than 0.3\n",
      "we want 0.4665073802097331 to be less than 0.3\n",
      "we want 0.42409761837248455 to be less than 0.3\n",
      "we want 0.38554328942953137 to be less than 0.3\n",
      "we want 0.35049389948139215 to be less than 0.3\n",
      "we want 0.31863081771035645 to be less than 0.3\n",
      "etape3\n"
     ]
    }
   ],
   "source": [
    "w_value_hist = []\n",
    "ac_range = []\n",
    "ac_range2 = []\n",
    "# for tau = 0.0001 et tol = 0.1 on obtient acc = 59.5\n",
    "# for tau = [0.005, 0.01, 0.05] on obtient : [53.5, 49.5, 46.5]\n",
    "\n",
    "taurange = [0.0001] # , 0.1, 0.15, 0.2, 0.3]\n",
    "\n",
    "for tau in taurange:\n",
    "    acc_range=[]\n",
    "    it = 0\n",
    "    # while(it < 20):\n",
    "    # for it in tqdm(range(0)):\n",
    "    X_train, Y_train, X_test, Y_test = preprocessing(X, Y)\n",
    "    mu = 1.1\n",
    "    w, w_hist, phi_w_hist = SVM_vector(X_train, Y_train['bound'], tau, mu, tol=0.3)\n",
    "    print('etape3')\n",
    "    w_value_hist.append(w)\n",
    "    Y_train_predicted, acc_train = predict(w, X_train, Y_train['bound'])\n",
    "    Y_predicted, acc = predict(w, X_test, Y_test['bound'])\n",
    "    \n",
    "    ac_range.append(acc_train)\n",
    "    ac_range2.append(acc)"
   ]
  },
  {
   "cell_type": "code",
   "execution_count": 176,
   "metadata": {
    "scrolled": true
   },
   "outputs": [
    {
     "name": "stdout",
     "output_type": "stream",
     "text": [
      "[50.0]\n"
     ]
    }
   ],
   "source": [
    "print(ac_range)"
   ]
  },
  {
   "cell_type": "code",
   "execution_count": 177,
   "metadata": {},
   "outputs": [
    {
     "name": "stdout",
     "output_type": "stream",
     "text": [
      "[50.0]\n"
     ]
    }
   ],
   "source": [
    "print(ac_range2)"
   ]
  },
  {
   "cell_type": "code",
   "execution_count": 12,
   "metadata": {},
   "outputs": [
    {
     "data": {
      "image/png": "[encoded data removed]",
      "text/plain": [
       "<matplotlib.figure.Figure at 0x10599b940>"
      ]
     },
     "metadata": {},
     "output_type": "display_data"
    }
   ],
   "source": [
    "fig = plt.figure()\n",
    "ax = fig.gca()\n",
    "line1, = ax.plot(taurange, ac_range2)\n",
    "ax.set_xscale('log')\n",
    "ax.set_ylabel(r'Accuracy', fontsize=16)\n",
    "ax.set_xlabel(r'$\\tau$', fontsize=16)\n",
    "plt.show()"
   ]
  },
  {
   "cell_type": "code",
   "execution_count": null,
   "metadata": {},
   "outputs": [],
   "source": []
  }
 ],
 "metadata": {
  "kernelspec": {
   "display_name": "Python [conda env:hackathon]",
   "language": "python",
   "name": "conda-env-hackathon-py"
  },
  "language_info": {
   "codemirror_mode": {
    "name": "ipython",
    "version": 3
   },
   "file_extension": ".py",
   "mimetype": "text/x-python",
   "name": "python",
   "nbconvert_exporter": "python",
   "pygments_lexer": "ipython3",
   "version": "3.4.5"
  }
 },
 "nbformat": 4,
 "nbformat_minor": 2
}
