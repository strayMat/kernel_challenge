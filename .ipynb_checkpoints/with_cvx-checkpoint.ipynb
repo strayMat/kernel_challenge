{
 "cells": [
  {
   "cell_type": "code",
   "execution_count": null,
   "metadata": {},
   "outputs": [],
   "source": [
    "import pandas as pd\n",
    "import numpy as np\n",
    "\n",
    "import matplotlib.pyplot as plt\n",
    "from matplotlib import cm\n",
    "from numpy import linalg as LA\n",
    "from tqdm import tqdm\n",
    "\n",
    "from sklearn import svm\n",
    "\n",
    "from kernel_functions import gram_phi, count_kuplet_k, count_kuplet_3\n",
    "from preprocessing import preprocessing"
   ]
  },
  {
   "cell_type": "code",
   "execution_count": 3,
   "metadata": {
    "scrolled": true
   },
   "outputs": [
    {
     "name": "stdout",
     "output_type": "stream",
     "text": [
      "sequences shape:  (2000,)\n",
      "sequence first row:  TCCTCAACTTTTATTGGGCCGCTGTGGCACCAGAATCTACGAATGGCGCCCTCTAGAGTTGTGTAAAGAAGTGGCGTCACCTCATTATAAATAAAAGGTTG\n",
      "labels shape (2000,)\n"
     ]
    }
   ],
   "source": [
    "# load all data as the numpy array type\n",
    "#X = pd.read_csv('data/Xtr1_mat50.csv', sep=' ', header=None).values\n",
    "X_raw0 = pd.read_csv('data/Xtr0.csv', sep= ' ', header = None).values.reshape((-1))\n",
    "X_raw1 = pd.read_csv('data/Xtr1.csv', sep=' ', header=None).values.reshape((-1))\n",
    "X_raw2 = pd.read_csv('data/Xtr2.csv', sep=' ', header=None).values.reshape((-1))\n",
    "\n",
    "# transform to an array of string\n",
    "X_valid0 = pd.read_csv('data/Xte0.csv', sep=' ', header=None).values.reshape((-1))\n",
    "X_valid1 = pd.read_csv('data/Xte1.csv', sep=' ', header=None).values.reshape((-1))\n",
    "X_valid2 = pd.read_csv('data/Xte1.csv', sep=' ', header=None).values.reshape((-1))\n",
    "\n",
    "\n",
    "Y0 = pd.read_csv('data/Ytr0.csv', sep=',', header=0)['Bound'].values\n",
    "Y1 = pd.read_csv('data/Ytr1.csv', sep=',', header=0)['Bound'].values\n",
    "Y2 = pd.read_csv('data/Ytr2.csv', sep=',', header=0)['Bound'].values\n",
    "\n",
    "#print('numerical features shape', X.shape)\n",
    "#print('numerical features first row', X[0])\n",
    "print('sequences shape: ', X_raw0.shape)\n",
    "print('sequence first row: ', X_raw0[0])\n",
    "print('labels shape', Y0.shape)"
   ]
  },
  {
   "cell_type": "code",
   "execution_count": 125,
   "metadata": {},
   "outputs": [],
   "source": [
    "from kernel import *\n",
    "\n",
    "def solve_svm_kernel(X_train, X_test, Y_train, Y_test, kernel='k_gram_gaussian', k=3, lamb=0.1, gamma=0.1, kktreg=1e-9):\n",
    "    \"\"\"\n",
    "    kernel in ['k_gram', 'k_gram_gaussian', 'k_substring']\n",
    "    \"\"\"\n",
    "    assert kernel in ['k_gram', 'k_gram_gaussian', 'k_substring']\n",
    "    \n",
    "    if kernel in ['k_gram', 'k_gram_gaussian']:\n",
    "        if k == 3:\n",
    "            X_train_process = np.array([count_kuplet_3(x) for x in X_train])\n",
    "            X_test_process = np.array([count_kuplet_3(x) for x in X_test])\n",
    "        else:\n",
    "            X_train_process = np.array([count_kuplet_k(x,k=k) for x in X_train])\n",
    "            X_test_process = np.array([count_kuplet_k(x,k=k) for x in X_test])\n",
    "        \n",
    "        # Adding 1 for the sake of the bias\n",
    "        X_train_process = np.concatenate((X_train_process, np.ones((X_train_process.shape[0], 1))), axis=1)\n",
    "        X_test_process = np.concatenate((X_test_process, np.ones((X_test_process.shape[0], 1))), axis=1)\n",
    "        \n",
    "    if kernel==\"k_gram\":\n",
    "        # Computing the Gram-Matrix\n",
    "        K = X_train_process.dot(X_train_process.T)\n",
    "        w = solve_svm(K, Y_train, lamb=lamb, kktreg=kktreg)\n",
    "        K_test = np.dot(X_test_process, np.transpose(X_train_process))\n",
    "        print(K_test.shape)\n",
    "    \n",
    "    if kernel==\"k_gram_gaussian\":\n",
    "        # Computing the Gram-Matrix\n",
    "        K = np.array([LA.norm(X_train_process - y, axis=1) for y in X_train_process])\n",
    "        K = np.exp(-K/gamma)\n",
    "        # K = X_train_process.dot(X_train_process.T)\n",
    "        w = solve_svm(K, Y_train, lamb=lamb)\n",
    "        K_test = np.array([LA.norm(X_train_process - y, axis=1) for y in X_test_process])\n",
    "        print(K_test.shape)\n",
    "        K_test = np.exp(-K_test/gamma)\n",
    "    \n",
    "    if kernel=='k_substring':\n",
    "        # Computing the Gram-Matrix\n",
    "        X_train_process = X_train\n",
    "        X_test_process = X_test\n",
    "        N_train = len(X_train)\n",
    "        N_test = len(X_test)\n",
    "        K = np.zeros((N_train, N_train))\n",
    "        for i in tqdm(range(len(X_train)), desc=\"Computing Traing Kernel\"):\n",
    "            for j in range(i, len(X_train)):\n",
    "                K[i][j] = K[j][i] = kernel_string(X_train[i], X_train[j], k)\n",
    "        w = solve_svm(K, Y_train, lamb=lamb, kktreg=kktreg)\n",
    "        K_test = np.zeros((N_test, N_train))\n",
    "        for i in tqdm(range(len(X_test)), desc=\"Compution testing Kernel\"):\n",
    "            for j in range(len(X_train)):\n",
    "                K_test[i][j] = K_test[j][i] = kernel_string(X_test[i], X_train[j], k)\n",
    "                \n",
    "    # if kernel in ['k_gram', 'k_gram_gaussian']:\n",
    "    n = K.shape[0]\n",
    "    Y_predicted = np.dot(K_test, w[:n]) > 0.\n",
    "    result = ((Y_test+1.)/ 2. == np.transpose(Y_predicted))\n",
    "    Y_predicted_train = np.dot(K, w[:n]) > 0.\n",
    "    result_train = ((Y_train+1)/ 2 == np.transpose(Y_predicted_train))\n",
    "    if np.alltrue(Y_predicted):\n",
    "        print(\"Toute les valeurs sont TRUE\")\n",
    "    if np.alltrue(Y_predicted==False):\n",
    "        print(\"Toute les valeurs sont FALSE\")\n",
    "    return np.mean(result), np.mean(result_train)\n",
    "             \n"
   ]
  },
  {
   "cell_type": "code",
   "execution_count": 5,
   "metadata": {
    "scrolled": true
   },
   "outputs": [
    {
     "name": "stdout",
     "output_type": "stream",
     "text": [
      "train shape (1600,)\n",
      "test shape (400,)\n"
     ]
    }
   ],
   "source": [
    "X_train, Y_train, X_test, Y_test = preprocessing(X_raw1, Y1)\n",
    "print('train shape', X_train.shape)\n",
    "print('test shape', X_test.shape)"
   ]
  },
  {
   "cell_type": "code",
   "execution_count": 117,
   "metadata": {},
   "outputs": [
    {
     "name": "stdout",
     "output_type": "stream",
     "text": [
      "0.0\n"
     ]
    }
   ],
   "source": [
    "X1 = X_train[:][0]\n",
    "X2 = X_train[:][1]\n",
    "lamb = 0.5\n",
    "k=3\n",
    "X1 = 'CGCTA'\n",
    "X2 = 'CTAG'\n",
    "k = min(len(X1), len(X2))\n",
    "\n",
    "B = np.zeros((k, len(X1), len(X2)))\n",
    "\n",
    "base_azote = ['A', 'C', 'T', 'G']\n",
    "d = {'A':[0.], 'C':[0.], 'T':[0.], 'G':[0.]}\n",
    "\n",
    "k_grams_count1 = pd.DataFrame(data=d)\n",
    "k_grams_count2 = pd.DataFrame(data=d)\n",
    "\n",
    "# for i in range(len(X1)):\n",
    "#     k_grams_count1[X1[i]] += 1.\n",
    "#     k_grams_count2 = pd.DataFrame(data=d)\n",
    "#     for j in range(len(X2)):\n",
    "#         k_grams_count2[X2[j]] += lamb**(len(X2)-j)\n",
    "#         B[1, i, j] = np.dot(k_grams_count1, np.transpose(k_grams_count2))[0][0]\n",
    "\n",
    "def compute_B(X1, X2, k):\n",
    "    \n",
    "    B = np.zeros((k, len(X1), len(X2)))\n",
    "    B[0, :, :]=1.\n",
    "    m=1\n",
    "    if(X1[0] == X2[0]):\n",
    "        B[1, 0, 0] = lamb**2\n",
    "    while(m<k):\n",
    "        j=0\n",
    "        \n",
    "        while(j<len(X2)):\n",
    "            if j > 0:\n",
    "                B[m, 0, j] += lamb*B[m, 0, j-1]\n",
    "                if X1[0] == X2[j]:\n",
    "                    if(m==1):\n",
    "                        B[m, 0, j] += lamb**2 * 1. \n",
    "            i=0\n",
    "            while(i<len(X1)-1):\n",
    "                if(m <= i+1 and m <= j+1):\n",
    "                    B[m, i+1, j] = lamb * B[m, i, j]\n",
    "                    for s in range(1, len(X2[:(j+1)])):\n",
    "                        if X2[s]==X1[i+1]:\n",
    "                            B[m, i+1, j] += B[m-1, i, s-1] * lamb**(len(X2[:j]) - s + 2)\n",
    "                i += 1\n",
    "            j+=1\n",
    "        m+=1\n",
    "    \n",
    "    return B\n",
    "\n",
    "# B = compute_B(X1, X2, k)\n",
    "\n",
    "def compute_K(X1, X2, k):\n",
    "    \n",
    "    B = compute_B(X1, X2, k+1)\n",
    "\n",
    "    m = 1\n",
    "    K = np.zeros((k+1, len(X1), len(X2)))\n",
    "    K[0, :, :] = 1.\n",
    "\n",
    "\n",
    "    if(X1[0] == X2[0]):\n",
    "        K[1, 0, 0] = lamb**2\n",
    "    while(m<=k):\n",
    "        j = 0\n",
    "        while(j<len(X2)):\n",
    "            i=0\n",
    "            if(j>0 and m==1): # else for m>1 K[m, 0, j] = 0.\n",
    "                K[m, i, j] = K[m, i, j-1]\n",
    "            while(i<len(X1)-1):\n",
    "                K[m, i+1, j] = K[m, i, j]\n",
    "                for s in range(1, len(X2[:(j+1)])):\n",
    "                    if X2[s] == X1[i+1]:\n",
    "                        K[m, i+1, j] += lamb**2 * B[m-1, i, s-1]\n",
    "                i+=1\n",
    "            j+=1\n",
    "        m+=1\n",
    "    return K\n",
    "\n",
    "def kernel_string(X1, X2, k=4):\n",
    "    K = compute_K(X1, X2, k)\n",
    "    return K[k, len(X1)-1, len(X2)-1]\n",
    "\n",
    "print(kernel_string(X1, X2))\n",
    "\n",
    "# K = compute_K(X1, X2, k)\n",
    "\n"
   ]
  },
  {
   "cell_type": "code",
   "execution_count": 109,
   "metadata": {
    "scrolled": false
   },
   "outputs": [
    {
     "name": "stdout",
     "output_type": "stream",
     "text": [
      "[[[ 1.          1.          1.          1.        ]\n",
      "  [ 1.          1.          1.          1.        ]\n",
      "  [ 1.          1.          1.          1.        ]\n",
      "  [ 1.          1.          1.          1.        ]\n",
      "  [ 1.          1.          1.          1.        ]]\n",
      "\n",
      " [[ 0.25        0.25        0.25        0.25      ]\n",
      "  [ 0.25        0.25        0.25        0.5       ]\n",
      "  [ 0.25        0.25        0.25        0.5       ]\n",
      "  [ 0.25        0.5         0.5         0.75      ]\n",
      "  [ 0.25        0.5         0.75        1.        ]]\n",
      "\n",
      " [[ 0.          0.          0.          0.        ]\n",
      "  [ 0.          0.          0.          0.015625  ]\n",
      "  [ 0.          0.          0.          0.015625  ]\n",
      "  [ 0.          0.015625    0.015625    0.03125   ]\n",
      "  [ 0.          0.015625    0.08203125  0.09765625]]\n",
      "\n",
      " [[ 0.          0.          0.          0.        ]\n",
      "  [ 0.          0.          0.          0.        ]\n",
      "  [ 0.          0.          0.          0.        ]\n",
      "  [ 0.          0.          0.          0.        ]\n",
      "  [ 0.          0.          0.00390625  0.00390625]]]\n"
     ]
    }
   ],
   "source": [
    "print(K)"
   ]
  },
  {
   "cell_type": "code",
   "execution_count": 97,
   "metadata": {},
   "outputs": [
    {
     "data": {
      "text/plain": [
       "'CT'"
      ]
     },
     "execution_count": 97,
     "metadata": {},
     "output_type": "execute_result"
    }
   ],
   "source": []
  },
  {
   "cell_type": "code",
   "execution_count": 60,
   "metadata": {},
   "outputs": [],
   "source": [
    "from itertools import product\n",
    "from string import ascii_lowercase\n",
    "\n",
    "dic_k = [''.join(i) for i in product(base_azote, repeat = 1)]\n",
    "nb_feat = len(dic_k)\n"
   ]
  },
  {
   "cell_type": "code",
   "execution_count": 60,
   "metadata": {},
   "outputs": [],
   "source": [
    "k_grams_count1 = np.zeros(nb_feat)\n",
    "k_grams_count2 = np.zeros(nb_feat)\n",
    "\n",
    "for i,e in enumerate(dic_k):\n",
    "    k_grams_count1[i] = X1.count(e)\n",
    "    k_grams_count2[i] = X2.count(e)\n"
   ]
  },
  {
   "cell_type": "code",
   "execution_count": 61,
   "metadata": {},
   "outputs": [
    {
     "data": {
      "text/plain": [
       "array([ 29.,  27.,  21.,  24.])"
      ]
     },
     "execution_count": 61,
     "metadata": {},
     "output_type": "execute_result"
    }
   ],
   "source": [
    "k_grams_count2"
   ]
  },
  {
   "cell_type": "code",
   "execution_count": 77,
   "metadata": {},
   "outputs": [
    {
     "data": {
      "text/plain": [
       "1"
      ]
     },
     "execution_count": 77,
     "metadata": {},
     "output_type": "execute_result"
    }
   ],
   "source": [
    "k"
   ]
  },
  {
   "cell_type": "code",
   "execution_count": 122,
   "metadata": {},
   "outputs": [
    {
     "name": "stdout",
     "output_type": "stream",
     "text": [
      "train shape (1600,)\n",
      "test shape (400,)\n",
      "train shape (1600,)\n",
      "test shape (400,)\n",
      "train shape (1600,)\n",
      "test shape (400,)\n"
     ]
    }
   ],
   "source": [
    "# With Cross validation\n",
    "\n",
    "X_train0, Y_train0, X_test0, Y_test0 = preprocessing(X_raw0, Y0)\n",
    "X_train1, Y_train1, X_test1, Y_test1 = preprocessing(X_raw1, Y1)\n",
    "X_train2, Y_train2, X_test2, Y_test2 = preprocessing(X_raw2, Y2)\n",
    "print('train shape', X_train0.shape)\n",
    "print('test shape', X_test0.shape)\n",
    "\n",
    "print('train shape', X_train1.shape)\n",
    "print('test shape', X_test1.shape)\n",
    "\n",
    "print('train shape', X_train2.shape)\n",
    "print('test shape', X_test2.shape)\n"
   ]
  },
  {
   "cell_type": "code",
   "execution_count": null,
   "metadata": {},
   "outputs": [
    {
     "name": "stderr",
     "output_type": "stream",
     "text": [
      "\r",
      "Computing Traing Kernel:   0%|          | 0/1600 [00:00<?, ?it/s]"
     ]
    }
   ],
   "source": [
    "acc_test0, acc_train0 = solve_svm_kernel(X_train0, \n",
    "                                       X_test0, \n",
    "                                       Y_train0, \n",
    "                                       Y_test0, \n",
    "                                       kernel='k_substring', \n",
    "                                       k=3, lamb=0.001, gamma=5)\n",
    "\n",
    "print('accuracy for train : {}'.format(acc_train0))\n",
    "print('accuracy for test : {}'.format(acc_test0))"
   ]
  },
  {
   "cell_type": "code",
   "execution_count": 9,
   "metadata": {},
   "outputs": [
    {
     "name": "stdout",
     "output_type": "stream",
     "text": [
      "     pcost       dcost       gap    pres   dres\n",
      " 0:  3.3586e-01  5.1306e+02  1e+04  3e+00  1e+06\n",
      " 1:  2.4435e+00 -1.5721e+02  2e+02  3e-02  2e+04\n",
      " 2:  2.3893e+00 -6.4279e+00  9e+00  2e-03  7e+02\n",
      " 3:  1.7351e+00 -2.8486e-01  2e+00  2e-04  9e+01\n",
      " 4:  6.6843e-01  4.2466e-01  2e-01  1e-05  5e+00\n",
      " 5:  5.6983e-01  4.9009e-01  8e-02  3e-06  1e+00\n",
      " 6:  5.4689e-01  5.0801e-01  4e-02  1e-06  6e-01\n",
      " 7:  5.3331e-01  5.1829e-01  2e-02  3e-07  2e-01\n",
      " 8:  5.2768e-01  5.2256e-01  5e-03  9e-08  4e-02\n",
      " 9:  5.2586e-01  5.2402e-01  2e-03  3e-08  1e-02\n",
      "10:  5.2510e-01  5.2461e-01  5e-04  1e-09  7e-04\n",
      "11:  5.2492e-01  5.2477e-01  2e-04  9e-10  1e-04\n",
      "12:  5.2485e-01  5.2483e-01  1e-05  1e-09  9e-06\n",
      "13:  5.2484e-01  5.2484e-01  3e-07  1e-09  2e-07\n",
      "14:  5.2484e-01  5.2484e-01  6e-09  1e-09  3e-09\n",
      "Optimal solution found.\n",
      "accuracy for train : 0.7875\n",
      "accuracy for test : 0.74\n"
     ]
    }
   ],
   "source": [
    "acc_test1, acc_train1 = solve_svm_kernel(X_train1, \n",
    "                                       X_test1, \n",
    "                                       Y_train1, \n",
    "                                       Y_test1, \n",
    "                                       kernel='k_gram', \n",
    "                                       k=3, lamb=0.01, gamma=1.)\n",
    "\n",
    "print('accuracy for train : {}'.format(acc_train1))\n",
    "print('accuracy for test : {}'.format(acc_test1))"
   ]
  },
  {
   "cell_type": "code",
   "execution_count": 42,
   "metadata": {
    "scrolled": true
   },
   "outputs": [
    {
     "name": "stdout",
     "output_type": "stream",
     "text": [
      "     pcost       dcost       gap    pres   dres\n",
      " 0:  1.5414e-02  1.6000e-02  1e+00  1e+00  4e-08\n",
      " 1:  1.5994e-02  1.6000e-02  1e-02  1e-02  4e-10\n",
      " 2:  1.6000e-02  1.6000e-02  1e-04  1e-04  3e-12\n",
      " 3:  1.6000e-02  1.6000e-02  1e-06  1e-06  1e-13\n",
      " 4:  1.6000e-02  1.6000e-02  1e-08  1e-08  2e-15\n",
      "Optimal solution found.\n",
      "accuracy for train : 1.0\n",
      "accuracy for test : 0.5925\n"
     ]
    }
   ],
   "source": [
    "acc_test2, acc_train2 = solve_svm_kernel(X_train2, \n",
    "                                       X_test2, \n",
    "                                       Y_train2, \n",
    "                                       Y_test2, \n",
    "                                       kernel='k_gram_gaussian', \n",
    "                                       k=6, lamb=0.00001, gamma=1.)\n",
    "\n",
    "print('accuracy for train : {}'.format(acc_train2))\n",
    "print('accuracy for test : {}'.format(acc_test2))"
   ]
  },
  {
   "cell_type": "markdown",
   "metadata": {},
   "source": [
    "## Best parameters found for k_gram kernel\n",
    "* Set0: lambda=1e-3, gamma = 5 (gaussian)\n",
    "* Set1: lambda=0.01\n",
    "* Set2: lambda= 1e-5"
   ]
  },
  {
   "cell_type": "code",
   "execution_count": 17,
   "metadata": {
    "scrolled": false
   },
   "outputs": [],
   "source": [
    "def solve_svm_test(X_train, X_test, Y_train, kernel='k_gram_gaussian', k=3, lamb=0.1, gamma=0.1, kktreg=1e-9):\n",
    "    \"\"\"\n",
    "    kernel in [k_gram, k_gram_gaussian]\n",
    "    \"\"\"\n",
    "    Y_train_process = (Y_train-0.5) * 2\n",
    "    if kernel in ['k_gram', 'k_gram_gaussian']:\n",
    "        if k == 3:\n",
    "            X_train_process = np.array([count_kuplet_3(x) for x in X_train])\n",
    "            X_test_process = np.array([count_kuplet_3(x) for x in X_test])\n",
    "        else:\n",
    "            X_train_process = np.array([count_kuplet_k(x,k=k) for x in X_train])\n",
    "            X_test_process = np.array([count_kuplet_k(x,k=k) for x in X_test])\n",
    "        \n",
    "        # Adding 1 for the sake of the bias\n",
    "        X_train_process = np.concatenate((X_train_process, np.ones((X_train_process.shape[0], 1))), axis=1)\n",
    "        X_test_process = np.concatenate((X_test_process, np.ones((X_test_process.shape[0], 1))), axis=1)\n",
    "        \n",
    "        \n",
    "    if kernel==\"k_gram\":\n",
    "        # Computing the Gram-Matrix\n",
    "        K = X_train_process.dot(X_train_process.T)\n",
    "        w = solve_svm(K, Y_train_process, lamb=lamb, kktreg=kktreg)\n",
    "        K_test = np.dot(X_test_process, np.transpose(X_train_process))\n",
    "    \n",
    "    if kernel==\"k_gram_gaussian\":\n",
    "        # Computing the Gram-Matrix\n",
    "        K = np.array([LA.norm(X_train_process - y, axis=1) for y in X_train_process])\n",
    "        K = np.exp(-K/gamma)\n",
    "        # K = X_train_process.dot(X_train_process.T)\n",
    "        w = solve_svm(K, Y_train_process, lamb=lamb)\n",
    "        K_test = np.array([LA.norm(X_train_process - y, axis=1) for y in X_test_process])\n",
    "        K_test = np.exp(-K_test/gamma)\n",
    "    \n",
    "    n = K.shape[0]\n",
    "    Y_predicted = np.dot(K_test, w[:n]) > 0.\n",
    "    Y_predicted = (Y_predicted + 0.)\n",
    "    Y_predicted_train = np.dot(K, w[:n]) > 0.\n",
    "    result_train = (Y_train == np.transpose(Y_predicted_train))\n",
    "    print('accuracy on train : {}'.format(np.mean(result_train)))\n",
    "    # result = ((Y_test+1)/ 2 == np.transpose(Y_predicted))\n",
    "    \n",
    "    return np.transpose(Y_predicted) # , np.transpose(Y_predicted_train)\n"
   ]
  },
  {
   "cell_type": "code",
   "execution_count": 18,
   "metadata": {
    "scrolled": true
   },
   "outputs": [
    {
     "name": "stdout",
     "output_type": "stream",
     "text": [
      "train shape : (2000,)\n",
      "train shape 2 : (2000,)\n",
      "test shape : (1000,)\n",
      "     pcost       dcost       gap    pres   dres\n",
      " 0:  1.9546e+00  2.9746e+00  4e+03  1e+00  2e+02\n",
      " 1:  2.9161e+00 -5.7463e+01  6e+01  2e-02  2e+00\n",
      " 2:  2.0943e+00 -9.6812e+00  1e+01  4e-03  4e-01\n",
      " 3:  1.5247e+00  2.3207e-01  1e+00  2e-04  2e-02\n",
      " 4:  8.5340e-01  7.5174e-01  1e-01  6e-07  7e-05\n",
      " 5:  8.0636e-01  7.8541e-01  2e-02  1e-07  1e-05\n",
      " 6:  7.9629e-01  7.9397e-01  2e-03  7e-09  8e-07\n",
      " 7:  7.9516e-01  7.9504e-01  1e-04  6e-10  3e-08\n",
      " 8:  7.9510e-01  7.9510e-01  3e-06  7e-10  6e-10\n",
      " 9:  7.9510e-01  7.9510e-01  6e-08  7e-10  1e-11\n",
      "Optimal solution found.\n",
      "accuracy on train : 0.861\n"
     ]
    }
   ],
   "source": [
    "print('train shape : {}'.format(X_raw0.shape))\n",
    "print('train shape 2 : {}'.format(Y0.shape))\n",
    "print('test shape : {}'.format(X_valid0.shape))\n",
    "\n",
    "Y_predict0 = solve_svm_test(X_raw0, \n",
    "                           X_valid0, \n",
    "                           Y0, \n",
    "                           kernel='k_gram_gaussian', \n",
    "                           k=3, lamb=.001, gamma=5.)"
   ]
  },
  {
   "cell_type": "code",
   "execution_count": 19,
   "metadata": {},
   "outputs": [
    {
     "name": "stdout",
     "output_type": "stream",
     "text": [
      "train shape : (2000,)\n",
      "train shape 2 : (2000,)\n",
      "test shape : (1000,)\n",
      "     pcost       dcost       gap    pres   dres\n",
      " 0:  3.3956e-01  6.5897e+02  2e+04  3e+00  2e+06\n",
      " 1:  2.5257e+00 -2.0302e+02  2e+02  3e-02  2e+04\n",
      " 2:  2.4864e+00 -9.2458e+00  1e+01  2e-03  8e+02\n",
      " 3:  1.9470e+00 -6.7863e-01  3e+00  2e-04  1e+02\n",
      " 4:  7.4528e-01  4.4086e-01  3e-01  2e-07  1e-01\n",
      " 5:  5.8324e-01  5.1002e-01  7e-02  5e-08  2e-02\n",
      " 6:  5.6350e-01  5.2487e-01  4e-02  2e-08  1e-02\n",
      " 7:  5.5168e-01  5.3334e-01  2e-02  8e-09  4e-03\n",
      " 8:  5.4558e-01  5.3790e-01  8e-03  3e-09  2e-03\n",
      " 9:  5.4284e-01  5.3994e-01  3e-03  9e-10  4e-04\n",
      "10:  5.4164e-01  5.4090e-01  7e-04  1e-09  6e-05\n",
      "11:  5.4137e-01  5.4113e-01  2e-04  1e-09  9e-06\n",
      "12:  5.4127e-01  5.4122e-01  5e-05  1e-09  2e-06\n",
      "13:  5.4125e-01  5.4124e-01  9e-06  1e-09  3e-07\n",
      "14:  5.4124e-01  5.4124e-01  9e-07  1e-09  2e-08\n",
      "15:  5.4124e-01  5.4124e-01  2e-08  1e-09  3e-10\n",
      "Optimal solution found.\n",
      "accuracy on train : 0.772\n"
     ]
    }
   ],
   "source": [
    "print('train shape : {}'.format(X_raw1.shape))\n",
    "print('train shape 2 : {}'.format(Y1.shape))\n",
    "print('test shape : {}'.format(X_valid1.shape))\n",
    "\n",
    "Y_predict1 = solve_svm_test(X_raw1, \n",
    "                           X_valid1, \n",
    "                           Y1, \n",
    "                           kernel='k_gram', \n",
    "                           k=3, lamb=0.01, gamma=3.)"
   ]
  },
  {
   "cell_type": "code",
   "execution_count": 20,
   "metadata": {},
   "outputs": [
    {
     "name": "stdout",
     "output_type": "stream",
     "text": [
      "train shape : (2000,)\n",
      "train shape 2 : (2000,)\n",
      "test shape : (1000,)\n",
      "     pcost       dcost       gap    pres   dres\n",
      " 0:  4.3222e-01  8.6743e+02  2e+04  3e+00  3e+05\n",
      " 1:  2.5361e+00 -1.7225e+02  2e+02  3e-02  3e+03\n",
      " 2:  2.5071e+00 -3.5663e+00  6e+00  7e-04  8e+01\n",
      " 3:  1.5970e+00  4.2108e-01  1e+00  6e-05  6e+00\n",
      " 4:  8.3534e-01  6.7856e-01  2e-01  8e-06  8e-01\n",
      " 5:  7.7959e-01  7.3967e-01  4e-02  2e-06  2e-01\n",
      " 6:  7.6658e-01  7.5337e-01  1e-02  4e-07  4e-02\n",
      " 7:  7.6288e-01  7.5704e-01  6e-03  2e-07  2e-02\n",
      " 8:  7.6102e-01  7.5887e-01  2e-03  4e-08  4e-03\n",
      " 9:  7.6032e-01  7.5955e-01  8e-04  1e-08  1e-03\n",
      "10:  7.6008e-01  7.5977e-01  3e-04  3e-09  3e-04\n",
      "11:  7.5996e-01  7.5989e-01  7e-05  8e-10  6e-05\n",
      "12:  7.5993e-01  7.5991e-01  2e-05  9e-10  1e-05\n",
      "13:  7.5992e-01  7.5992e-01  5e-06  1e-09  1e-06\n",
      "14:  7.5992e-01  7.5992e-01  5e-07  1e-09  1e-07\n",
      "15:  7.5992e-01  7.5992e-01  5e-09  1e-09  2e-09\n",
      "Optimal solution found.\n",
      "accuracy on train : 0.665\n"
     ]
    }
   ],
   "source": [
    "print('train shape : {}'.format(X_raw2.shape))\n",
    "print('train shape 2 : {}'.format(Y2.shape))\n",
    "print('test shape : {}'.format(X_valid2.shape))\n",
    "\n",
    "Y_predict2 = solve_svm_test(X_raw2, \n",
    "                           X_valid2, \n",
    "                           Y2, \n",
    "                           kernel='k_gram', \n",
    "                           k=3, lamb=1e-5, gamma=3.)"
   ]
  },
  {
   "cell_type": "code",
   "execution_count": 40,
   "metadata": {
    "scrolled": false
   },
   "outputs": [],
   "source": [
    "test0 = Y_predict0[:][0]\n",
    "test1 = Y_predict1[:][0]\n",
    "test2 = Y_predict2[:][0]\n",
    "\n",
    "bound = np.concatenate((test0,test1,test2), axis=1).reshape((-1)).astype(int)\n",
    "final = pd.DataFrame(np.arange(3000), columns=['Id'])\n",
    "final['Bound'] = bound\n",
    "final.to_csv('result0.csv', index= None)"
   ]
  },
  {
   "cell_type": "code",
   "execution_count": null,
   "metadata": {},
   "outputs": [],
   "source": [
    "# Check before submit if the final has good shape\n",
    "final"
   ]
  }
 ],
 "metadata": {
  "kernelspec": {
   "display_name": "Python [conda env:hackathon]",
   "language": "python",
   "name": "conda-env-hackathon-py"
  },
  "language_info": {
   "codemirror_mode": {
    "name": "ipython",
    "version": 3
   },
   "file_extension": ".py",
   "mimetype": "text/x-python",
   "name": "python",
   "nbconvert_exporter": "python",
   "pygments_lexer": "ipython3",
   "version": "3.4.5"
  }
 },
 "nbformat": 4,
 "nbformat_minor": 2
}
