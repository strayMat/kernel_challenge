{
 "cells": [
  {
   "cell_type": "code",
   "execution_count": 1,
   "metadata": {},
   "outputs": [],
   "source": [
    "import pandas as pd\n",
    "import numpy as np\n",
    "# from numba import njit\n",
    "\n",
    "import matplotlib.pyplot as plt\n",
    "from matplotlib import cm\n",
    "from numpy import linalg as LA\n",
    "from tqdm import tqdm\n",
    "\n",
    "from kernel import *\n",
    "\n",
    "from kernel_functions import * # gram_phi, count_kuplet_k, count_kuplet_3\n",
    "from preprocessing import preprocessing"
   ]
  },
  {
   "cell_type": "code",
   "execution_count": 4,
   "metadata": {},
   "outputs": [],
   "source": [
    "from itertools import product\n",
    "\n",
    "def binary_space(k):\n",
    "    \"\"\"\n",
    "    return all logical possibilities\n",
    "    binary_space(2) = [[0,0], [0,1], [1, 0], [1, 1]]\n",
    "    \"\"\"\n",
    "    space = np.zeros((2**k, k))\n",
    "    for i in range(2**k):\n",
    "        tmp = bin(i)[2:]\n",
    "        for j in range(len(tmp)):\n",
    "            space[i,k+j-len(tmp)] = int(tmp[j])\n",
    "    return space\n",
    "\n",
    "def count_k_fold(sent, fold = 16):\n",
    "    k_grams_count = dict()\n",
    "    for fold in np.arange(3, fold, 2):\n",
    "        k_grams_count = count_kuplet_gap(sent, k = 3, fold = fold, k_grams_count=k_grams_count)\n",
    "    return np.array([k_grams_count[key] for key in sorted(k_grams_count)])\n",
    "\n",
    "def count_kuplet_k(seq, k=3):\n",
    "    base_azote = ['A', 'C', 'T', 'G']\n",
    "    dic_k = [''.join(i) for i in product(base_azote, repeat=k)]\n",
    "    nb_feat = len(dic_k)\n",
    "\n",
    "    k_grams_count = np.zeros(nb_feat)\n",
    "    for i, e in enumerate(dic_k):\n",
    "        k_grams_count[i] = seq.count(e)\n",
    "    return k_grams_count\n",
    "\n",
    "def count_kuplet_gap(seq, k=3, fold=5, k_grams_count=None):\n",
    "    assert fold%2 == 1 or fold ==2, \"fold must be odd\"\n",
    "    fold_size = len(bin(fold)[2:])\n",
    "    fold = bin(fold)[2:]\n",
    "    base_azote = ['A', 'C', 'T', 'G']\n",
    "    \n",
    "    if k_grams_count is None:\n",
    "        k_grams_count = dict()\n",
    "    tab = [''.join(i) for i in product(base_azote, repeat=np.sum([int(i) for i in fold]))]\n",
    "    for code in tab:\n",
    "        # print(''.join([code, '_', fold]))\n",
    "        k_grams_count[''.join([code, '_', fold])] = 0.\n",
    "        \n",
    "    for i in range(len(seq) - fold_size+1):\n",
    "        l = seq[i:(i+fold_size)]\n",
    "        # print(l)\n",
    "        l = ''.join(l[i]*int(fold[i]) for i in range(len(fold)))\n",
    "        k_grams_count[''.join([l, '_', fold])] += 1\n",
    "    return k_grams_count\n",
    "\n",
    "def is_power(n):\n",
    "    n = n/2\n",
    "    if n == 2:\n",
    "        return True\n",
    "    elif n > 2:\n",
    "        return is_power(n)\n",
    "    else:\n",
    "        return False\n",
    "    \n",
    "def to_k_fold(X, fold=64):\n",
    "    X_process = []\n",
    "    for sent in tqdm(X):\n",
    "        X_process.append(count_k_fold(sent, fold = 64))\n",
    "    return np.array(X_process)\n",
    "    \n",
    "# count_kuplet_gap(X_raw0[0], k =3, fold = 7)"
   ]
  },
  {
   "cell_type": "code",
   "execution_count": 5,
   "metadata": {
    "scrolled": true
   },
   "outputs": [
    {
     "name": "stderr",
     "output_type": "stream",
     "text": [
      "100%|██████████| 2000/2000 [01:01<00:00, 32.62it/s]\n",
      "100%|██████████| 2000/2000 [00:59<00:00, 33.59it/s]\n",
      "100%|██████████| 2000/2000 [00:58<00:00, 33.99it/s]\n"
     ]
    },
    {
     "name": "stdout",
     "output_type": "stream",
     "text": [
      "sequences shape:  (2000,)\n",
      "sequence first row:  TCCTCAACTTTTATTGGGCCGCTGTGGCACCAGAATCTACGAATGGCGCCCTCTAGAGTTGTGTAAAGAAGTGGCGTCACCTCATTATAAATAAAAGGTTG\n",
      "labels shape (2000,)\n"
     ]
    }
   ],
   "source": [
    "# load all data as the numpy array type\n",
    "#X = pd.read_csv('data/Xtr1_mat50.csv', sep=' ', header=None).values\n",
    "X_raw0 = pd.read_csv('data/Xtr0.csv', sep= ' ', header = None).values.reshape((-1))\n",
    "X_raw1 = pd.read_csv('data/Xtr1.csv', sep=' ', header=None).values.reshape((-1))\n",
    "X_raw2 = pd.read_csv('data/Xtr2.csv', sep=' ', header=None).values.reshape((-1))\n",
    "\n",
    "X_0 = to_k_fold(X_raw0, fold=128)\n",
    "X_1 = to_k_fold(X_raw1, fold=128)\n",
    "X_2 = to_k_fold(X_raw2, fold=128)\n",
    "\n",
    "# transform to an array of string\n",
    "X_valid0 = pd.read_csv('data/Xte0.csv', sep=' ', header=None).values.reshape((-1))\n",
    "X_valid1 = pd.read_csv('data/Xte1.csv', sep=' ', header=None).values.reshape((-1))\n",
    "X_valid2 = pd.read_csv('data/Xte1.csv', sep=' ', header=None).values.reshape((-1))\n",
    "\n",
    "\n",
    "Y0 = pd.read_csv('data/Ytr0.csv', sep=',', header=0)['Bound'].values\n",
    "Y1 = pd.read_csv('data/Ytr1.csv', sep=',', header=0)['Bound'].values\n",
    "Y2 = pd.read_csv('data/Ytr2.csv', sep=',', header=0)['Bound'].values\n",
    "\n",
    "#print('numerical features shape', X.shape)\n",
    "#print('numerical features first row', X[0])\n",
    "print('sequences shape: ', X_raw0.shape)\n",
    "print('sequence first row: ', X_raw0[0])\n",
    "print('labels shape', Y0.shape)"
   ]
  },
  {
   "cell_type": "code",
   "execution_count": 13,
   "metadata": {},
   "outputs": [],
   "source": [
    "def test_lambda(X_train, Y_train, X_test, Y_test, lamb=1.):\n",
    "    # X_train, Y_train, X_test, Y_test = preprocessing(X, Y, percent=0.8)\n",
    "    X_train_preprocess = np.concatenate((X_train, np.ones((X_train.shape[0], 1))), axis=1)\n",
    "    X_test_preprocess = np.concatenate((X_test, np.ones((X_test.shape[0], 1))), axis=1)\n",
    "    K = X_train_preprocess.dot(X_train_preprocess.T)\n",
    "    K_test = X_test_preprocess.dot(X_train_preprocess.T)\n",
    "    w = solve_svm(K, Y_train, lamb=lamb, kktreg = 1e-9)\n",
    "    n = K.shape[0]\n",
    "    Y_predicted = np.dot(K_test, w[:n]) > 0.\n",
    "    result = ((Y_test+1.)/ 2. == np.transpose(Y_predicted))\n",
    "    Y_predicted_train = np.dot(K, w[:n]) > 0.\n",
    "    result_train = ((Y_train+1)/ 2 == np.transpose(Y_predicted_train))\n",
    "    if np.alltrue(Y_predicted):\n",
    "        print(\"Toute les valeurs sont TRUE\")\n",
    "    if np.alltrue(Y_predicted==False):\n",
    "        print(\"Toute les valeurs sont FALSE\")\n",
    "    print(\"lambda = {}\".format(lamb))\n",
    "    print(\"test : {}\".format(np.mean(result)))\n",
    "    print(\"train : {}\".format(np.mean(result_train)))"
   ]
  },
  {
   "cell_type": "code",
   "execution_count": 17,
   "metadata": {
    "scrolled": true
   },
   "outputs": [
    {
     "name": "stdout",
     "output_type": "stream",
     "text": [
      "     pcost       dcost       gap    pres   dres\n",
      " 0:  4.9961e+00  6.7059e+00  4e+03  1e+00  2e+06\n",
      " 1:  4.9969e+00 -1.4797e+02  2e+02  7e-02  7e+04\n",
      " 2:  2.0543e+00 -2.5059e+01  3e+01  1e-02  1e+04\n",
      " 3:  1.5281e+00 -2.4387e+00  4e+00  1e-03  1e+03\n",
      " 4:  1.1122e+00  2.7107e-01  8e-01  1e-04  1e+02\n",
      " 5:  5.9369e-01  5.0664e-01  9e-02  8e-06  9e+00\n",
      " 6:  5.5666e-01  5.3876e-01  2e-02  1e-06  1e+00\n",
      " 7:  5.4841e-01  5.4619e-01  2e-03  1e-07  1e-01\n",
      " 8:  5.4733e-01  5.4714e-01  2e-04  7e-09  8e-03\n",
      " 9:  5.4723e-01  5.4722e-01  8e-06  6e-10  3e-04\n",
      "10:  5.4723e-01  5.4723e-01  3e-07  7e-10  8e-06\n",
      "11:  5.4723e-01  5.4723e-01  1e-08  7e-10  2e-07\n",
      "12:  5.4723e-01  5.4723e-01  5e-10  7e-10  2e-09\n",
      "Optimal solution found.\n",
      "lambda = 1.4\n",
      "test : 0.7375\n",
      "train : 0.855625\n",
      "     pcost       dcost       gap    pres   dres\n",
      " 0:  5.3066e+00  7.1081e+00  4e+03  1e+00  2e+06\n",
      " 1:  5.1927e+00 -1.5405e+02  2e+02  7e-02  8e+04\n",
      " 2:  2.0859e+00 -2.5865e+01  3e+01  1e-02  1e+04\n",
      " 3:  1.5422e+00 -2.5156e+00  4e+00  1e-03  1e+03\n",
      " 4:  1.1255e+00  2.7755e-01  8e-01  1e-04  1e+02\n",
      " 5:  6.0370e-01  5.1504e-01  9e-02  8e-06  9e+00\n",
      " 6:  5.6612e-01  5.4750e-01  2e-02  1e-06  2e+00\n",
      " 7:  5.5760e-01  5.5515e-01  2e-03  1e-07  1e-01\n",
      " 8:  5.5643e-01  5.5618e-01  3e-04  1e-08  1e-02\n",
      " 9:  5.5630e-01  5.5629e-01  1e-05  6e-10  5e-04\n",
      "10:  5.5630e-01  5.5630e-01  4e-07  7e-10  1e-05\n",
      "11:  5.5630e-01  5.5630e-01  1e-08  7e-10  2e-07\n",
      "12:  5.5630e-01  5.5630e-01  4e-10  7e-10  2e-09\n",
      "Optimal solution found.\n",
      "lambda = 1.5\n",
      "test : 0.7375\n",
      "train : 0.8525\n",
      "     pcost       dcost       gap    pres   dres\n",
      " 0:  5.6120e+00  7.5094e+00  4e+03  1e+00  2e+06\n",
      " 1:  5.3804e+00 -1.5990e+02  2e+02  7e-02  8e+04\n",
      " 2:  2.1151e+00 -2.6556e+01  3e+01  1e-02  1e+04\n",
      " 3:  1.5550e+00 -2.5763e+00  4e+00  1e-03  1e+03\n",
      " 4:  1.1368e+00  2.8416e-01  9e-01  1e-04  1e+02\n",
      " 5:  6.1355e-01  5.2282e-01  9e-02  9e-06  1e+01\n",
      " 6:  5.7489e-01  5.5571e-01  2e-02  1e-06  2e+00\n",
      " 7:  5.6620e-01  5.6344e-01  3e-03  2e-07  2e-01\n",
      " 8:  5.6486e-01  5.6462e-01  2e-04  1e-08  1e-02\n",
      " 9:  5.6474e-01  5.6473e-01  9e-06  6e-10  3e-04\n",
      "10:  5.6473e-01  5.6473e-01  4e-07  7e-10  8e-06\n",
      "11:  5.6473e-01  5.6473e-01  1e-08  7e-10  1e-07\n",
      "12:  5.6473e-01  5.6473e-01  7e-10  7e-10  1e-09\n",
      "Optimal solution found.\n",
      "lambda = 1.6\n",
      "test : 0.7325\n",
      "train : 0.8475\n",
      "     pcost       dcost       gap    pres   dres\n",
      " 0:  5.9122e+00  7.9097e+00  4e+03  1e+00  2e+06\n",
      " 1:  5.5605e+00 -1.6554e+02  2e+02  8e-02  8e+04\n",
      " 2:  2.1423e+00 -2.7133e+01  3e+01  1e-02  1e+04\n",
      " 3:  1.5665e+00 -2.6208e+00  4e+00  1e-03  1e+03\n",
      " 4:  1.1463e+00  2.9102e-01  9e-01  1e-04  1e+02\n",
      " 5:  6.2429e-01  5.2986e-01  9e-02  1e-05  1e+01\n",
      " 6:  5.8311e-01  5.6346e-01  2e-02  2e-06  2e+00\n",
      " 7:  5.7418e-01  5.7126e-01  3e-03  2e-07  2e-01\n",
      " 8:  5.7275e-01  5.7249e-01  3e-04  1e-08  1e-02\n",
      " 9:  5.7262e-01  5.7260e-01  2e-05  7e-10  8e-04\n",
      "10:  5.7261e-01  5.7261e-01  5e-07  7e-10  2e-05\n",
      "11:  5.7261e-01  5.7261e-01  2e-08  7e-10  4e-07\n",
      "12:  5.7261e-01  5.7261e-01  6e-10  7e-10  5e-09\n",
      "Optimal solution found.\n",
      "lambda = 1.7\n",
      "test : 0.7375\n",
      "train : 0.8425\n"
     ]
    }
   ],
   "source": [
    "X_train, Y_train, X_test, Y_test = preprocessing(X_0, Y0, percent=0.8)\n",
    "for lamb in [1.4, 1.5, 1.6, 1.7]:\n",
    "    test_lambda(X_train, Y_train, X_test, Y_test, lamb=lamb)"
   ]
  },
  {
   "cell_type": "code",
   "execution_count": 19,
   "metadata": {
    "scrolled": true
   },
   "outputs": [
    {
     "name": "stdout",
     "output_type": "stream",
     "text": [
      "     pcost       dcost       gap    pres   dres\n",
      " 0:  3.6114e+00  5.1712e+00  3e+03  1e+00  2e+07\n",
      " 1:  3.8436e+00 -1.3358e+02  1e+02  6e-02  6e+05\n",
      " 2:  1.7047e+00 -2.0705e+01  2e+01  9e-03  1e+05\n",
      " 3:  1.3715e+00 -3.0647e+00  4e+00  1e-03  1e+04\n",
      " 4:  1.0449e+00 -2.5857e-01  1e+00  3e-04  3e+03\n",
      " 5:  4.6377e-01  3.2468e-01  1e-01  1e-09  2e-08\n",
      " 6:  3.9624e-01  3.5808e-01  4e-02  9e-10  8e-09\n",
      " 7:  3.7833e-01  3.6937e-01  9e-03  8e-10  3e-09\n",
      " 8:  3.7391e-01  3.7237e-01  2e-03  7e-10  6e-10\n",
      " 9:  3.7305e-01  3.7299e-01  7e-05  7e-10  2e-10\n",
      "10:  3.7302e-01  3.7301e-01  2e-06  8e-10  4e-11\n",
      "11:  3.7302e-01  3.7302e-01  4e-08  8e-10  9e-12\n",
      "Optimal solution found.\n",
      "lambda = 1.7\n",
      "test : 0.87\n",
      "train : 0.9375\n",
      "     pcost       dcost       gap    pres   dres\n",
      " 0:  3.9754e+00  5.6540e+00  4e+03  1e+00  2e+07\n",
      " 1:  4.0634e+00 -1.4099e+02  2e+02  6e-02  7e+05\n",
      " 2:  1.7385e+00 -2.1771e+01  2e+01  9e-03  1e+05\n",
      " 3:  1.3964e+00 -3.2799e+00  5e+00  1e-03  2e+04\n",
      " 4:  1.0674e+00 -2.4346e-01  1e+00  3e-04  3e+03\n",
      " 5:  4.7290e-01  3.3760e-01  1e-01  1e-09  2e-08\n",
      " 6:  4.0900e-01  3.7186e-01  4e-02  9e-10  8e-09\n",
      " 7:  3.9212e-01  3.8305e-01  9e-03  8e-10  3e-09\n",
      " 8:  3.8777e-01  3.8612e-01  2e-03  7e-10  7e-10\n",
      " 9:  3.8689e-01  3.8677e-01  1e-04  7e-10  2e-10\n",
      "10:  3.8683e-01  3.8682e-01  4e-06  7e-10  5e-11\n",
      "11:  3.8682e-01  3.8682e-01  1e-07  7e-10  1e-11\n",
      "Optimal solution found.\n",
      "lambda = 1.9\n",
      "test : 0.8725\n",
      "train : 0.9275\n",
      "     pcost       dcost       gap    pres   dres\n",
      " 0:  4.3287e+00  6.1347e+00  4e+03  1e+00  2e+07\n",
      " 1:  4.2677e+00 -1.4774e+02  2e+02  7e-02  7e+05\n",
      " 2:  1.7675e+00 -2.2534e+01  2e+01  1e-02  1e+05\n",
      " 3:  1.4200e+00 -3.4581e+00  5e+00  2e-03  2e+04\n",
      " 4:  1.0856e+00 -2.1586e-01  1e+00  3e-04  3e+03\n",
      " 5:  4.7716e-01  3.4977e-01  1e-01  1e-09  3e-08\n",
      " 6:  4.1944e-01  3.8480e-01  3e-02  9e-10  8e-09\n",
      " 7:  4.0400e-01  3.9589e-01  8e-03  8e-10  2e-09\n",
      " 8:  4.0011e-01  3.9882e-01  1e-03  7e-10  7e-10\n",
      " 9:  3.9945e-01  3.9934e-01  1e-04  7e-10  2e-10\n",
      "10:  3.9939e-01  3.9939e-01  5e-06  7e-10  5e-11\n",
      "11:  3.9939e-01  3.9939e-01  1e-07  7e-10  1e-11\n",
      "Optimal solution found.\n",
      "lambda = 2.1\n",
      "test : 0.8725\n",
      "train : 0.924375\n",
      "     pcost       dcost       gap    pres   dres\n",
      " 0:  4.6720e+00  6.6130e+00  4e+03  1e+00  2e+07\n",
      " 1:  4.4580e+00 -1.5390e+02  2e+02  7e-02  7e+05\n",
      " 2:  1.7921e+00 -2.2989e+01  2e+01  1e-02  1e+05\n",
      " 3:  1.4426e+00 -3.5937e+00  5e+00  2e-03  2e+04\n",
      " 4:  1.0994e+00 -1.7384e-01  1e+00  3e-04  3e+03\n",
      " 5:  4.7644e-01  3.6142e-01  1e-01  3e-08  3e-01\n",
      " 6:  4.2846e-01  3.9670e-01  3e-02  6e-09  7e-02\n",
      " 7:  4.1525e-01  4.0734e-01  8e-03  1e-09  1e-02\n",
      " 8:  4.1155e-01  4.1042e-01  1e-03  7e-10  2e-03\n",
      " 9:  4.1099e-01  4.1090e-01  9e-05  7e-10  1e-04\n",
      "10:  4.1094e-01  4.1094e-01  5e-06  7e-10  4e-06\n",
      "11:  4.1094e-01  4.1094e-01  1e-07  7e-10  8e-08\n",
      "Optimal solution found.\n",
      "lambda = 2.3\n",
      "test : 0.87\n",
      "train : 0.92125\n"
     ]
    }
   ],
   "source": [
    "X_train, Y_train, X_test, Y_test = preprocessing(X_1, Y1, percent=0.8)\n",
    "for lamb in [1.7, 1.9, 2.1, 2.3]:\n",
    "    test_lambda(X_train, Y_train, X_test, Y_test, lamb=lamb)"
   ]
  },
  {
   "cell_type": "code",
   "execution_count": 21,
   "metadata": {
    "scrolled": true
   },
   "outputs": [
    {
     "name": "stdout",
     "output_type": "stream",
     "text": [
      "     pcost       dcost       gap    pres   dres\n",
      " 0:  4.5135e+00  5.9504e+00  3e+03  1e+00  6e+06\n",
      " 1:  4.8616e+00 -1.2577e+02  1e+02  7e-02  3e+05\n",
      " 2:  2.1163e+00 -2.1309e+01  2e+01  1e-02  4e+04\n",
      " 3:  1.5880e+00 -1.8123e+00  3e+00  1e-03  4e+03\n",
      " 4:  1.0707e+00  5.0819e-01  6e-01  4e-05  1e+02\n",
      " 5:  6.7055e-01  5.9518e-01  8e-02  5e-06  2e+01\n",
      " 6:  6.2882e-01  6.1826e-01  1e-02  5e-07  2e+00\n",
      " 7:  6.2312e-01  6.2200e-01  1e-03  2e-08  8e-02\n",
      " 8:  6.2251e-01  6.2243e-01  8e-05  1e-09  5e-03\n",
      " 9:  6.2246e-01  6.2246e-01  3e-06  7e-10  1e-04\n",
      "10:  6.2246e-01  6.2246e-01  1e-07  7e-10  2e-06\n",
      "11:  6.2246e-01  6.2246e-01  6e-09  7e-10  3e-08\n",
      "Optimal solution found.\n",
      "lambda = 1.2\n",
      "test : 0.6666666666666666\n",
      "train : 0.8292857142857143\n",
      "     pcost       dcost       gap    pres   dres\n",
      " 0:  6.8106e+00  8.8087e+00  3e+03  2e+00  6e+06\n",
      " 1:  6.4093e+00 -1.6799e+02  2e+02  9e-02  3e+05\n",
      " 2:  2.3631e+00 -2.8806e+01  3e+01  1e-02  5e+04\n",
      " 3:  1.7121e+00 -2.4984e+00  4e+00  1e-03  5e+03\n",
      " 4:  1.2116e+00  5.8457e-01  6e-01  9e-06  3e+01\n",
      " 5:  7.3696e-01  6.5309e-01  8e-02  9e-07  4e+00\n",
      " 6:  6.9500e-01  6.7963e-01  2e-02  1e-07  5e-01\n",
      " 7:  6.8722e-01  6.8510e-01  2e-03  1e-08  5e-02\n",
      " 8:  6.8612e-01  6.8593e-01  2e-04  9e-10  4e-03\n",
      " 9:  6.8602e-01  6.8601e-01  1e-05  7e-10  2e-04\n",
      "10:  6.8601e-01  6.8601e-01  4e-07  8e-10  5e-06\n",
      "11:  6.8601e-01  6.8601e-01  2e-08  8e-10  8e-08\n",
      "Optimal solution found.\n",
      "lambda = 1.9\n",
      "test : 0.6633333333333333\n",
      "train : 0.8\n",
      "     pcost       dcost       gap    pres   dres\n",
      " 0:  8.6157e+00  1.1233e+01  3e+03  2e+00  6e+06\n",
      " 1:  7.4657e+00 -1.9752e+02  2e+02  1e-01  4e+05\n",
      " 2:  2.5210e+00 -3.4312e+01  4e+01  2e-02  6e+04\n",
      " 3:  1.7803e+00 -2.9652e+00  5e+00  2e-03  6e+03\n",
      " 4:  1.2922e+00  6.2191e-01  7e-01  2e-07  6e-01\n",
      " 5:  7.8192e-01  6.8317e-01  1e-01  1e-08  5e-02\n",
      " 6:  7.3166e-01  7.1355e-01  2e-02  1e-09  6e-03\n",
      " 7:  7.2213e-01  7.2028e-01  2e-03  7e-10  4e-04\n",
      " 8:  7.2115e-01  7.2104e-01  1e-04  8e-10  2e-05\n",
      " 9:  7.2109e-01  7.2109e-01  6e-06  8e-10  9e-07\n",
      "10:  7.2109e-01  7.2109e-01  1e-07  8e-10  1e-08\n",
      "Optimal solution found.\n",
      "lambda = 2.5\n",
      "test : 0.665\n",
      "train : 0.7785714285714286\n",
      "     pcost       dcost       gap    pres   dres\n",
      " 0:  9.4675e+00  1.2434e+01  3e+03  2e+00  6e+06\n",
      " 1:  7.9206e+00 -2.1038e+02  2e+02  1e-01  4e+05\n",
      " 2:  2.5934e+00 -3.7600e+01  4e+01  2e-02  6e+04\n",
      " 3:  1.8043e+00 -3.2827e+00  5e+00  2e-03  6e+03\n",
      " 4:  1.3345e+00  6.2928e-01  7e-01  2e-06  9e+00\n",
      " 5:  8.0231e-01  6.9436e-01  1e-01  2e-07  8e-01\n",
      " 6:  7.4630e-01  7.2684e-01  2e-02  3e-08  1e-01\n",
      " 7:  7.3675e-01  7.3354e-01  3e-03  3e-09  1e-02\n",
      " 8:  7.3504e-01  7.3482e-01  2e-04  7e-10  9e-04\n",
      " 9:  7.3492e-01  7.3491e-01  1e-05  8e-10  4e-05\n",
      "10:  7.3491e-01  7.3491e-01  5e-07  8e-10  1e-06\n",
      "11:  7.3491e-01  7.3491e-01  1e-08  8e-10  2e-08\n",
      "Optimal solution found.\n",
      "lambda = 2.8\n",
      "test : 0.6616666666666666\n",
      "train : 0.7728571428571429\n"
     ]
    }
   ],
   "source": [
    "X_train, Y_train, X_test, Y_test = preprocessing(X_2, Y2, percent=0.7)\n",
    "for lamb in [1.2, 1.9, 2.5, 2.8]:\n",
    "    test_lambda(X_train, Y_train, X_test, Y_test, lamb=lamb)"
   ]
  },
  {
   "cell_type": "code",
   "execution_count": 128,
   "metadata": {
    "scrolled": false
   },
   "outputs": [
    {
     "name": "stdout",
     "output_type": "stream",
     "text": [
      "     pcost       dcost       gap    pres   dres\n",
      " 0:  3.8250e+00  5.2381e+00  3e+03  1e+00  3e+06\n",
      " 1:  4.2335e+00 -1.5158e+02  2e+02  7e-02  1e+05\n",
      " 2:  2.0568e+00 -2.8655e+01  3e+01  1e-02  2e+04\n",
      " 3:  1.5721e+00 -3.8152e+00  5e+00  2e-03  3e+03\n",
      " 4:  1.1877e+00  6.6894e-02  1e+00  2e-04  3e+02\n",
      " 5:  5.7140e-01  4.5960e-01  1e-01  9e-06  2e+01\n",
      " 6:  5.1980e-01  4.9650e-01  2e-02  1e-06  3e+00\n",
      " 7:  5.0905e-01  5.0477e-01  4e-03  2e-07  4e-01\n",
      " 8:  5.0693e-01  5.0642e-01  5e-04  2e-08  3e-02\n",
      " 9:  5.0665e-01  5.0663e-01  3e-05  8e-10  1e-03\n",
      "10:  5.0664e-01  5.0664e-01  8e-07  7e-10  3e-05\n",
      "11:  5.0664e-01  5.0664e-01  3e-08  7e-10  5e-07\n",
      "12:  5.0664e-01  5.0664e-01  1e-09  7e-10  7e-09\n",
      "Optimal solution found.\n",
      "0.75\n",
      "0.8675\n"
     ]
    }
   ],
   "source": [
    "X_process = np.array(X_process)\n",
    "X_train = X_process[:1600]\n",
    "X_test = X_process[1600:]\n",
    "Y_train = (Y0[:1600] - 0.5) * 2.\n",
    "Y_test = (Y0[1600:] - 0.5) * 2.\n",
    "X_train_preprocess = np.concatenate((X_train, np.ones((X_train.shape[0], 1))), axis=1)\n",
    "X_test_preprocess = np.concatenate((X_test, np.ones((X_test.shape[0], 1))), axis=1)\n",
    "\n",
    "# compute gram matrices from features and solve svm\n",
    "K = X_train_preprocess.dot(X_train_preprocess.T)\n",
    "K_test = X_test_preprocess.dot(X_train_preprocess.T)\n",
    "w = solve_svm(K, Y_train, lamb=1., kktreg = 1e-9)\n",
    "\n",
    "\n",
    "n = K.shape[0]\n",
    "Y_predicted = np.dot(K_test, w[:n]) > 0.\n",
    "result = ((Y_test+1.)/ 2. == np.transpose(Y_predicted))\n",
    "Y_predicted_train = np.dot(K, w[:n]) > 0.\n",
    "result_train = ((Y_train+1)/ 2 == np.transpose(Y_predicted_train))\n",
    "if np.alltrue(Y_predicted):\n",
    "    print(\"Toute les valeurs sont TRUE\")\n",
    "if np.alltrue(Y_predicted==False):\n",
    "    print(\"Toute les valeurs sont FALSE\")\n",
    "print(np.mean(result))\n",
    "print(np.mean(result_train))"
   ]
  },
  {
   "cell_type": "markdown",
   "metadata": {},
   "source": [
    "## TESTING\n"
   ]
  },
  {
   "cell_type": "code",
   "execution_count": 27,
   "metadata": {},
   "outputs": [],
   "source": [
    "def test(X_train, Y_train, X_test, lamb=1.):\n",
    "    # X_train, Y_train, X_test, Y_test = preprocessing(X, Y, percent=0.8)\n",
    "    X_train_preprocess = np.concatenate((X_train, np.ones((X_train.shape[0], 1))), axis=1)\n",
    "    X_test_preprocess = np.concatenate((X_test, np.ones((X_test.shape[0], 1))), axis=1)\n",
    "    K = X_train_preprocess.dot(X_train_preprocess.T)\n",
    "    K_test = X_test_preprocess.dot(X_train_preprocess.T)\n",
    "    w = solve_svm(K, Y_train, lamb=lamb, kktreg = 1e-9)\n",
    "    n = K.shape[0]\n",
    "    Y_predicted = np.dot(K_test, w[:n]) > 0.\n",
    "    Y_predicted = Y_predicted + 0.0\n",
    "    # result = ((Y_test+1.)/ 2. == np.transpose(Y_predicted))\n",
    "    Y_predicted_train = np.dot(K, w[:n]) > 0.\n",
    "    result_train = ((Y_train+1)/ 2 == np.transpose(Y_predicted_train))\n",
    "    if np.alltrue(Y_predicted):\n",
    "        print(\"Toute les valeurs sont TRUE\")\n",
    "    if np.alltrue(Y_predicted==False):\n",
    "        print(\"Toute les valeurs sont FALSE\")\n",
    "    print(\"lambda = {}\".format(lamb))\n",
    "    print(\"train : {}\".format(np.mean(result_train)))\n",
    "    return Y_predicted"
   ]
  },
  {
   "cell_type": "code",
   "execution_count": 22,
   "metadata": {},
   "outputs": [
    {
     "name": "stderr",
     "output_type": "stream",
     "text": [
      "100%|██████████| 1000/1000 [00:33<00:00, 29.52it/s]\n",
      "100%|██████████| 1000/1000 [00:31<00:00, 32.20it/s]\n",
      "100%|██████████| 1000/1000 [00:31<00:00, 31.45it/s]\n"
     ]
    }
   ],
   "source": [
    "X_test0 = to_k_fold(X_valid0, fold=128)\n",
    "X_test1 = to_k_fold(X_valid1, fold=128)\n",
    "X_test2 = to_k_fold(X_valid2, fold=128)"
   ]
  },
  {
   "cell_type": "code",
   "execution_count": 28,
   "metadata": {
    "scrolled": true
   },
   "outputs": [
    {
     "name": "stdout",
     "output_type": "stream",
     "text": [
      "     pcost       dcost       gap    pres   dres\n",
      " 0:  9.2621e+00  1.2864e+01  5e+03  2e+00  3e+06\n",
      " 1:  7.2937e+00 -2.8847e+02  3e+02  1e-01  2e+05\n",
      " 2:  2.5566e+00 -5.0199e+01  5e+01  2e-02  3e+04\n",
      " 3:  1.6728e+00 -5.7320e+00  7e+00  2e-03  3e+03\n",
      " 4:  1.3318e+00  8.2074e-02  1e+00  2e-04  3e+02\n",
      " 5:  6.3867e-01  5.2630e-01  1e-01  4e-06  8e+00\n",
      " 6:  5.9189e-01  5.6471e-01  3e-02  9e-07  2e+00\n",
      " 7:  5.8054e-01  5.7490e-01  6e-03  1e-07  2e-01\n",
      " 8:  5.7782e-01  5.7717e-01  7e-04  9e-09  2e-02\n",
      " 9:  5.7752e-01  5.7743e-01  9e-05  1e-09  2e-03\n",
      "10:  5.7747e-01  5.7747e-01  4e-06  7e-10  7e-05\n",
      "11:  5.7747e-01  5.7747e-01  8e-08  7e-10  1e-06\n",
      "12:  5.7747e-01  5.7747e-01  2e-09  7e-10  2e-08\n",
      "Optimal solution found.\n",
      "lambda = 1.5\n",
      "train : 0.833\n"
     ]
    }
   ],
   "source": [
    "Y0_t = (Y0 - 0.5) *2\n",
    "Y_pred0 = test(X_0, Y0_t, X_test0, lamb=1.5)"
   ]
  },
  {
   "cell_type": "code",
   "execution_count": 29,
   "metadata": {},
   "outputs": [
    {
     "name": "stdout",
     "output_type": "stream",
     "text": [
      "     pcost       dcost       gap    pres   dres\n",
      " 0:  6.9083e+00  1.0034e+01  5e+03  2e+00  2e+07\n",
      " 1:  5.5102e+00 -2.2544e+02  2e+02  8e-02  1e+06\n",
      " 2:  1.8893e+00 -2.8892e+01  3e+01  9e-03  1e+05\n",
      " 3:  1.4867e+00 -3.5336e+00  5e+00  1e-03  2e+04\n",
      " 4:  1.1001e+00 -8.0780e-02  1e+00  2e-04  2e+03\n",
      " 5:  4.9247e-01  3.3941e-01  2e-01  1e-05  2e+02\n",
      " 6:  4.2388e-01  3.8429e-01  4e-02  3e-06  4e+01\n",
      " 7:  4.0657e-01  3.9766e-01  9e-03  5e-07  7e+00\n",
      " 8:  4.0255e-01  4.0082e-01  2e-03  8e-08  1e+00\n",
      " 9:  4.0166e-01  4.0152e-01  1e-04  5e-09  8e-02\n",
      "10:  4.0159e-01  4.0158e-01  7e-06  7e-10  3e-03\n",
      "11:  4.0159e-01  4.0159e-01  3e-07  8e-10  1e-04\n",
      "12:  4.0159e-01  4.0159e-01  8e-09  8e-10  2e-06\n",
      "13:  4.0159e-01  4.0159e-01  3e-10  8e-10  2e-08\n",
      "Optimal solution found.\n",
      "lambda = 2.0\n",
      "train : 0.9205\n"
     ]
    }
   ],
   "source": [
    "Y1_t = (Y1 - 0.5) *2\n",
    "Y_pred1 = test_lambda(X_1, Y1_t, X_test1, lamb=2.)"
   ]
  },
  {
   "cell_type": "code",
   "execution_count": 30,
   "metadata": {},
   "outputs": [
    {
     "name": "stdout",
     "output_type": "stream",
     "text": [
      "     pcost       dcost       gap    pres   dres\n",
      " 0:  1.5420e+01  2.1448e+01  5e+03  2e+00  6e+06\n",
      " 1:  1.0812e+01 -3.7609e+02  4e+02  1e-01  5e+05\n",
      " 2:  2.9521e+00 -5.2604e+01  6e+01  2e-02  6e+04\n",
      " 3:  1.8370e+00 -6.9842e+00  9e+00  2e-03  8e+03\n",
      " 4:  1.5149e+00  1.9806e-01  1e+00  1e-04  5e+02\n",
      " 5:  8.2708e-01  6.2501e-01  2e-01  2e-05  7e+01\n",
      " 6:  7.2171e-01  6.8425e-01  4e-02  3e-06  1e+01\n",
      " 7:  7.0418e-01  6.9742e-01  7e-03  3e-07  1e+00\n",
      " 8:  7.0081e-01  7.0005e-01  8e-04  3e-08  1e-01\n",
      " 9:  7.0044e-01  7.0035e-01  9e-05  3e-09  1e-02\n",
      "10:  7.0039e-01  7.0039e-01  6e-06  7e-10  7e-04\n",
      "11:  7.0039e-01  7.0039e-01  2e-07  8e-10  2e-05\n",
      "12:  7.0039e-01  7.0039e-01  5e-09  8e-10  3e-07\n",
      "13:  7.0039e-01  7.0039e-01  2e-10  8e-10  3e-09\n",
      "Optimal solution found.\n",
      "lambda = 1.8\n",
      "train : 0.769\n"
     ]
    }
   ],
   "source": [
    "Y2_t = (Y2 - 0.5) *2\n",
    "Y_pred2 = test_lambda(X_2, Y2_t, X_test2, lamb=1.8)"
   ]
  },
  {
   "cell_type": "code",
   "execution_count": 33,
   "metadata": {},
   "outputs": [],
   "source": [
    "test0 = np.transpose(Y_pred0)[:][0]\n",
    "test1 = np.transpose(Y_pred1)[:][0]\n",
    "test2 = np.transpose(Y_pred2)[:][0]\n",
    "\n",
    "bound = np.concatenate((test0,test1,test2), axis=0).reshape((-1)).astype(int)\n",
    "final = pd.DataFrame(np.arange(3000), columns=['Id'])\n",
    "final['Bound'] = bound\n",
    "final.to_csv('resultk_fold.csv', index= None)"
   ]
  }
 ],
 "metadata": {
  "kernelspec": {
   "display_name": "Python [conda env:hackathon]",
   "language": "python",
   "name": "conda-env-hackathon-py"
  },
  "language_info": {
   "codemirror_mode": {
    "name": "ipython",
    "version": 3
   },
   "file_extension": ".py",
   "mimetype": "text/x-python",
   "name": "python",
   "nbconvert_exporter": "python",
   "pygments_lexer": "ipython3",
   "version": "3.4.5"
  }
 },
 "nbformat": 4,
 "nbformat_minor": 2
}
