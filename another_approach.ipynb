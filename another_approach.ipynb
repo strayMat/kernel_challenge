{
 "cells": [
  {
   "cell_type": "code",
   "execution_count": 1,
   "metadata": {},
   "outputs": [],
   "source": [
    "import pandas as pd\n",
    "import numpy as np\n",
    "# from numba import njit\n",
    "\n",
    "import matplotlib.pyplot as plt\n",
    "from matplotlib import cm\n",
    "from numpy import linalg as LA\n",
    "from tqdm import tqdm\n",
    "\n",
    "from kernel import *\n",
    "\n",
    "from kernel_functions import * # gram_phi, count_kuplet_k, count_kuplet_3\n",
    "from preprocessing import preprocessing"
   ]
  },
  {
   "cell_type": "code",
   "execution_count": 2,
   "metadata": {},
   "outputs": [],
   "source": [
    "from itertools import product\n",
    "from collections import defaultdict\n",
    "\n",
    "def count_kuplet_k(seq, k=3):\n",
    "    base_azote = ['A', 'C', 'T', 'G']\n",
    "    dic_k = [''.join(i) for i in product(base_azote, repeat=k)]\n",
    "    nb_feat = len(dic_k)\n",
    "\n",
    "    k_grams_count = np.zeros(nb_feat)\n",
    "    for i, e in enumerate(dic_k):\n",
    "        k_grams_count[i] = seq.count(e)\n",
    "    return k_grams_count\n",
    "\n",
    "def count_kuplet_gap(seq, k_tmp, k=3, fold=5, k_grams_count=None):\n",
    "    assert fold%2 == 1 or fold ==2, \"fold must be odd\"\n",
    "    fold_size = len(bin(fold)[2:])\n",
    "    fold = bin(fold)[2:]\n",
    "    base_azote = ['A', 'C', 'T', 'G']\n",
    "    \n",
    "    if k_grams_count is None:\n",
    "        k_grams_count = dict()\n",
    "        \n",
    "    tab = [''.join(i) for i in product(base_azote, repeat=np.sum([int(i) for i in fold]))]\n",
    "    for code in tab:\n",
    "        # print(''.join([code, '_', fold]))\n",
    "        k_grams_count[''.join([code, '_', fold])] = 0.\n",
    "        k_tmp[''.join([code, '_', fold])] = 0.\n",
    "        \n",
    "    for i in range(len(seq) - fold_size+1):\n",
    "        l = seq[i:(i+fold_size)]\n",
    "        # print(l)\n",
    "        l = ''.join(l[i]*int(fold[i]) for i in range(len(fold)))\n",
    "        k_grams_count[''.join([l, '_', fold])] += 1./(len(seq) - fold_size+1)\n",
    "        k_tmp[''.join([l, '_', fold])] += 1.\n",
    "    return k_grams_count, k_tmp\n",
    "\n",
    "def count_k_fold(sent, k_tmp, fold = 16):\n",
    "    k_grams_count = dict()\n",
    "    k_tmp = dict()\n",
    "    for fold in np.arange(3, fold, 2):\n",
    "        k_grams_count, k_tmp = count_kuplet_gap(sent, k_tmp, k = 3, fold = fold, k_grams_count=k_grams_count)\n",
    "    return np.array([k_grams_count[key] for key in sorted(k_grams_count)]), np.array([k_tmp[key] for key in sorted(k_tmp)])\n",
    "    \n",
    "def to_k_fold(X, fold=64):\n",
    "    X_process = []\n",
    "    X_count = []\n",
    "    k_tmp = defaultdict(int)\n",
    "    for sent in tqdm(X):\n",
    "        sent_process, k_tmp = count_k_fold(sent, k_tmp, fold = fold)\n",
    "        X_process.append(sent_process)\n",
    "        X_count.append(k_tmp)\n",
    "    \n",
    "    X_process = np.array(X_process) * len(X) * len(X[0])\n",
    "    sum_tmp = np.sum(np.array(X_count), axis=0)\n",
    "    \n",
    "    X_process = np.divide(X_process, sum_tmp, out=np.zeros_like(X_process), where=sum_tmp!=0)\n",
    "    \n",
    "    return X_process\n",
    "    "
   ]
  },
  {
   "cell_type": "code",
   "execution_count": 3,
   "metadata": {},
   "outputs": [],
   "source": [
    "def linear_kernel(x, z):\n",
    "    K = np.dot(x, z.T)\n",
    "    return K\n",
    "\n",
    "def fit(K, y, lamb = 0.1): \n",
    "    NUM = x.shape[0]\n",
    "    DIM = x.shape[1]\n",
    "    K = 2 * K * y.reshape((-1,1)).dot(y.reshape((1,-1)))\n",
    "    P = matrix(K)\n",
    "    q = matrix(-np.ones((NUM, 1)))\n",
    "    G = matrix(-np.eye(NUM))\n",
    "    h = matrix(np.zeros(NUM))\n",
    "    A = matrix(y.reshape(1, -1))\n",
    "    b = matrix(np.zeros(1))\n",
    "    solvers.options['show_progress'] = False\n",
    "    sol = solvers.qp(P, q, G, h, A, b)\n",
    "    alphas = np.array(sol['x'])\n",
    "    w = np.sum(alphas * y[:, None] * x, axis = 0)\n",
    "    cond = (alphas > 1e-4).reshape(-1)\n",
    "    b = y[cond] - np.dot(x[cond], w)\n",
    "    bias = b[0]\n",
    "    norm = np.linalg.norm(w)\n",
    "    return w / norm, bias / norm\n",
    "\n",
    "def predict(w, bias, x_test):\n",
    "    mat = ((np.dot(x_test,w) + bias >0.)-0.5) * 2\n",
    "    return mat\n",
    "\n",
    "def testing_lambda(X_train, Y_train, X_test, Y_test, lamb=0.1):\n",
    "    K = linear_kernel(X_train, X_train)\n",
    "    w, bias = fit(X_train, Y_train, lamb=lamb)\n",
    "    Y_pred = predict(w, bias, X_test)\n",
    "    acc_test = np.sum(Y_pred == Y_test)/Y_test.shape[0]\n",
    "    Y_pred_train = predict(w, bias, X_train)\n",
    "    acc_train = np.sum(Y_pred_train == Y_train)/X_train.shape[0]\n",
    "    return acc_train, acc_test\n",
    "\n",
    "# testing_lambda(X_train, Y_train, X_test, Y_test, lamb=2.)"
   ]
  },
  {
   "cell_type": "code",
   "execution_count": 24,
   "metadata": {
    "scrolled": true
   },
   "outputs": [
    {
     "data": {
      "text/plain": [
       "array([[ 35150.554567  ,   3611.81827955,   3987.99942574, ...,\n",
       "         -4243.14455086,  -3256.5459857 ,  -6112.84313764],\n",
       "       [  3611.81827955,  49385.88482724,   6588.01782678, ...,\n",
       "         -4412.59551977,  -4419.16421517,  -6354.28470252],\n",
       "       [  3987.99942574,   6588.01782678,  33198.76177274, ...,\n",
       "         -7668.77191137,  -6606.96865718,  -6216.65937262],\n",
       "       ..., \n",
       "       [ -4243.14455086,  -4412.59551977,  -7668.77191137, ...,\n",
       "         46120.79528956,   2663.90169565,   4616.64490538],\n",
       "       [ -3256.5459857 ,  -4419.16421517,  -6606.96865718, ...,\n",
       "          2663.90169565,  35333.74581713,   6566.93772247],\n",
       "       [ -6112.84313764,  -6354.28470252,  -6216.65937262, ...,\n",
       "          4616.64490538,   6566.93772247,  48274.8599448 ]])"
      ]
     },
     "execution_count": 24,
     "metadata": {},
     "output_type": "execute_result"
    }
   ],
   "source": [
    "K"
   ]
  },
  {
   "cell_type": "code",
   "execution_count": 27,
   "metadata": {},
   "outputs": [
    {
     "data": {
      "text/plain": [
       "True"
      ]
     },
     "execution_count": 27,
     "metadata": {},
     "output_type": "execute_result"
    }
   ],
   "source": [
    "np.alltrue(K2 == K)"
   ]
  },
  {
   "cell_type": "code",
   "execution_count": 4,
   "metadata": {
    "scrolled": false
   },
   "outputs": [
    {
     "name": "stderr",
     "output_type": "stream",
     "text": [
      "100%|██████████| 2000/2000 [00:27<00:00, 73.89it/s]\n",
      "100%|██████████| 2000/2000 [00:28<00:00, 70.29it/s]\n",
      "100%|██████████| 2000/2000 [00:27<00:00, 73.23it/s]\n"
     ]
    },
    {
     "name": "stdout",
     "output_type": "stream",
     "text": [
      "sequences shape:  (2000,)\n",
      "sequence first row:  TCCTCAACTTTTATTGGGCCGCTGTGGCACCAGAATCTACGAATGGCGCCCTCTAGAGTTGTGTAAAGAAGTGGCGTCACCTCATTATAAATAAAAGGTTG\n",
      "labels shape (2000,)\n"
     ]
    }
   ],
   "source": [
    "# load all data as the numpy array type\n",
    "#X = pd.read_csv('data/Xtr1_mat50.csv', sep=' ', header=None).values\n",
    "X_raw0 = pd.read_csv('data/Xtr0.csv', sep= ' ', header = None).values.reshape((-1))\n",
    "X_raw1 = pd.read_csv('data/Xtr1.csv', sep=' ', header=None).values.reshape((-1))\n",
    "X_raw2 = pd.read_csv('data/Xtr2.csv', sep=' ', header=None).values.reshape((-1))\n",
    "\n",
    "X_0 = to_k_fold(X_raw0, fold=32)\n",
    "X_1 = to_k_fold(X_raw1, fold=32)\n",
    "X_2 = to_k_fold(X_raw2, fold=32)\n",
    "\n",
    "# transform to an array of string\n",
    "X_valid0 = pd.read_csv('data/Xte0.csv', sep=' ', header=None).values.reshape((-1))\n",
    "X_valid1 = pd.read_csv('data/Xte1.csv', sep=' ', header=None).values.reshape((-1))\n",
    "X_valid2 = pd.read_csv('data/Xte1.csv', sep=' ', header=None).values.reshape((-1))\n",
    "\n",
    "\n",
    "Y0 = pd.read_csv('data/Ytr0.csv', sep=',', header=0)['Bound'].values\n",
    "Y1 = pd.read_csv('data/Ytr1.csv', sep=',', header=0)['Bound'].values\n",
    "Y2 = pd.read_csv('data/Ytr2.csv', sep=',', header=0)['Bound'].values\n",
    "\n",
    "#print('numerical features shape', X.shape)\n",
    "#print('numerical features first row', X[0])\n",
    "print('sequences shape: ', X_raw0.shape)\n",
    "print('sequence first row: ', X_raw0[0])\n",
    "print('labels shape', Y0.shape)"
   ]
  },
  {
   "cell_type": "code",
   "execution_count": 5,
   "metadata": {
    "scrolled": true
   },
   "outputs": [
    {
     "name": "stdout",
     "output_type": "stream",
     "text": [
      "lamb = 2.05, acc train = 1.0, acc_test = 0.68\n",
      "lamb = 2.1, acc train = 1.0, acc_test = 0.68\n",
      "lamb = 2.15, acc train = 1.0, acc_test = 0.68\n",
      "lamb = 2.2, acc train = 1.0, acc_test = 0.68\n"
     ]
    }
   ],
   "source": [
    "X_train, Y_train, X_test, Y_test = preprocessing(X_0, Y0, percent=0.8)\n",
    "for lamb in [2.05, 2.1, 2.15, 2.2]:\n",
    "    acc_train, acc_test = testing_lambda(X_train, Y_train, X_test, Y_test, lamb=lamb)\n",
    "    print(\"lamb = {}, acc train = {}, acc_test = {}\".format(lamb, acc_train, acc_test))"
   ]
  },
  {
   "cell_type": "code",
   "execution_count": 6,
   "metadata": {
    "scrolled": true
   },
   "outputs": [
    {
     "name": "stdout",
     "output_type": "stream",
     "text": [
      "lamb = 2.0, acc train = 1.0, acc_test = 0.775\n",
      "lamb = 2.05, acc train = 1.0, acc_test = 0.775\n",
      "lamb = 2.15, acc train = 1.0, acc_test = 0.775\n",
      "lamb = 2.2, acc train = 1.0, acc_test = 0.775\n"
     ]
    }
   ],
   "source": [
    "X_train, Y_train, X_test, Y_test = preprocessing(X_1, Y1, percent=0.8)\n",
    "for lamb in [2., 2.05, 2.15, 2.2]:\n",
    "    acc_train, acc_test = testing_lambda(X_train, Y_train, X_test, Y_test, lamb=lamb)\n",
    "    print(\"lamb = {}, acc train = {}, acc_test = {}\".format(lamb, acc_train, acc_test))"
   ]
  },
  {
   "cell_type": "code",
   "execution_count": 7,
   "metadata": {},
   "outputs": [
    {
     "name": "stdout",
     "output_type": "stream",
     "text": [
      "lamb = 2.05, acc train = 1.0, acc_test = 0.5916666666666667\n",
      "lamb = 2.1, acc train = 1.0, acc_test = 0.5916666666666667\n",
      "lamb = 2.15, acc train = 1.0, acc_test = 0.5916666666666667\n",
      "lamb = 2.2, acc train = 1.0, acc_test = 0.5916666666666667\n"
     ]
    }
   ],
   "source": [
    "X_train, Y_train, X_test, Y_test = preprocessing(X_2, Y2, percent=0.7)\n",
    "for lamb in [2.05, 2.1, 2.15, 2.2]:\n",
    "    acc_train, acc_test = testing_lambda(X_train, Y_train, X_test, Y_test, lamb=lamb)\n",
    "    print(\"lamb = {}, acc train = {}, acc_test = {}\".format(lamb, acc_train, acc_test))"
   ]
  },
  {
   "cell_type": "markdown",
   "metadata": {},
   "source": [
    "## TESTING\n"
   ]
  },
  {
   "cell_type": "code",
   "execution_count": 27,
   "metadata": {},
   "outputs": [],
   "source": [
    "def test(X_train, Y_train, X_test, lamb=1.):\n",
    "    # X_train, Y_train, X_test, Y_test = preprocessing(X, Y, percent=0.8)\n",
    "    X_train_preprocess = np.concatenate((X_train, np.ones((X_train.shape[0], 1))), axis=1)\n",
    "    X_test_preprocess = np.concatenate((X_test, np.ones((X_test.shape[0], 1))), axis=1)\n",
    "    K = X_train_preprocess.dot(X_train_preprocess.T)\n",
    "    K_test = X_test_preprocess.dot(X_train_preprocess.T)\n",
    "    w = solve_svm(K, Y_train, lamb=lamb, kktreg = 1e-9)\n",
    "    n = K.shape[0]\n",
    "    Y_predicted = np.dot(K_test, w[:n]) > 0.\n",
    "    Y_predicted = Y_predicted + 0.0\n",
    "    # result = ((Y_test+1.)/ 2. == np.transpose(Y_predicted))\n",
    "    Y_predicted_train = np.dot(K, w[:n]) > 0.\n",
    "    result_train = ((Y_train+1)/ 2 == np.transpose(Y_predicted_train))\n",
    "    if np.alltrue(Y_predicted):\n",
    "        print(\"Toute les valeurs sont TRUE\")\n",
    "    if np.alltrue(Y_predicted==False):\n",
    "        print(\"Toute les valeurs sont FALSE\")\n",
    "    print(\"lambda = {}\".format(lamb))\n",
    "    print(\"train : {}\".format(np.mean(result_train)))\n",
    "    return Y_predicted"
   ]
  },
  {
   "cell_type": "code",
   "execution_count": 22,
   "metadata": {},
   "outputs": [
    {
     "name": "stderr",
     "output_type": "stream",
     "text": [
      "100%|██████████| 1000/1000 [00:33<00:00, 29.52it/s]\n",
      "100%|██████████| 1000/1000 [00:31<00:00, 32.20it/s]\n",
      "100%|██████████| 1000/1000 [00:31<00:00, 31.45it/s]\n"
     ]
    }
   ],
   "source": [
    "X_test0 = to_k_fold(X_valid0, fold=128)\n",
    "X_test1 = to_k_fold(X_valid1, fold=128)\n",
    "X_test2 = to_k_fold(X_valid2, fold=128)"
   ]
  },
  {
   "cell_type": "code",
   "execution_count": 28,
   "metadata": {
    "scrolled": true
   },
   "outputs": [
    {
     "name": "stdout",
     "output_type": "stream",
     "text": [
      "     pcost       dcost       gap    pres   dres\n",
      " 0:  9.2621e+00  1.2864e+01  5e+03  2e+00  3e+06\n",
      " 1:  7.2937e+00 -2.8847e+02  3e+02  1e-01  2e+05\n",
      " 2:  2.5566e+00 -5.0199e+01  5e+01  2e-02  3e+04\n",
      " 3:  1.6728e+00 -5.7320e+00  7e+00  2e-03  3e+03\n",
      " 4:  1.3318e+00  8.2074e-02  1e+00  2e-04  3e+02\n",
      " 5:  6.3867e-01  5.2630e-01  1e-01  4e-06  8e+00\n",
      " 6:  5.9189e-01  5.6471e-01  3e-02  9e-07  2e+00\n",
      " 7:  5.8054e-01  5.7490e-01  6e-03  1e-07  2e-01\n",
      " 8:  5.7782e-01  5.7717e-01  7e-04  9e-09  2e-02\n",
      " 9:  5.7752e-01  5.7743e-01  9e-05  1e-09  2e-03\n",
      "10:  5.7747e-01  5.7747e-01  4e-06  7e-10  7e-05\n",
      "11:  5.7747e-01  5.7747e-01  8e-08  7e-10  1e-06\n",
      "12:  5.7747e-01  5.7747e-01  2e-09  7e-10  2e-08\n",
      "Optimal solution found.\n",
      "lambda = 1.5\n",
      "train : 0.833\n"
     ]
    }
   ],
   "source": [
    "Y0_t = (Y0 - 0.5) *2\n",
    "w, bias = fit(X_0, Y0_t, lamb=1.)\n",
    "Y_pred0 = predict(w, bias, X_test0)"
   ]
  },
  {
   "cell_type": "code",
   "execution_count": 29,
   "metadata": {},
   "outputs": [
    {
     "name": "stdout",
     "output_type": "stream",
     "text": [
      "     pcost       dcost       gap    pres   dres\n",
      " 0:  6.9083e+00  1.0034e+01  5e+03  2e+00  2e+07\n",
      " 1:  5.5102e+00 -2.2544e+02  2e+02  8e-02  1e+06\n",
      " 2:  1.8893e+00 -2.8892e+01  3e+01  9e-03  1e+05\n",
      " 3:  1.4867e+00 -3.5336e+00  5e+00  1e-03  2e+04\n",
      " 4:  1.1001e+00 -8.0780e-02  1e+00  2e-04  2e+03\n",
      " 5:  4.9247e-01  3.3941e-01  2e-01  1e-05  2e+02\n",
      " 6:  4.2388e-01  3.8429e-01  4e-02  3e-06  4e+01\n",
      " 7:  4.0657e-01  3.9766e-01  9e-03  5e-07  7e+00\n",
      " 8:  4.0255e-01  4.0082e-01  2e-03  8e-08  1e+00\n",
      " 9:  4.0166e-01  4.0152e-01  1e-04  5e-09  8e-02\n",
      "10:  4.0159e-01  4.0158e-01  7e-06  7e-10  3e-03\n",
      "11:  4.0159e-01  4.0159e-01  3e-07  8e-10  1e-04\n",
      "12:  4.0159e-01  4.0159e-01  8e-09  8e-10  2e-06\n",
      "13:  4.0159e-01  4.0159e-01  3e-10  8e-10  2e-08\n",
      "Optimal solution found.\n",
      "lambda = 2.0\n",
      "train : 0.9205\n"
     ]
    }
   ],
   "source": [
    "Y1_t = (Y1 - 0.5) *2\n",
    "w, bias = fit(X_1, Y1_t, lamb=1.)\n",
    "Y_pred1 = predict(w, bias, X_test1)"
   ]
  },
  {
   "cell_type": "code",
   "execution_count": 30,
   "metadata": {},
   "outputs": [
    {
     "name": "stdout",
     "output_type": "stream",
     "text": [
      "     pcost       dcost       gap    pres   dres\n",
      " 0:  1.5420e+01  2.1448e+01  5e+03  2e+00  6e+06\n",
      " 1:  1.0812e+01 -3.7609e+02  4e+02  1e-01  5e+05\n",
      " 2:  2.9521e+00 -5.2604e+01  6e+01  2e-02  6e+04\n",
      " 3:  1.8370e+00 -6.9842e+00  9e+00  2e-03  8e+03\n",
      " 4:  1.5149e+00  1.9806e-01  1e+00  1e-04  5e+02\n",
      " 5:  8.2708e-01  6.2501e-01  2e-01  2e-05  7e+01\n",
      " 6:  7.2171e-01  6.8425e-01  4e-02  3e-06  1e+01\n",
      " 7:  7.0418e-01  6.9742e-01  7e-03  3e-07  1e+00\n",
      " 8:  7.0081e-01  7.0005e-01  8e-04  3e-08  1e-01\n",
      " 9:  7.0044e-01  7.0035e-01  9e-05  3e-09  1e-02\n",
      "10:  7.0039e-01  7.0039e-01  6e-06  7e-10  7e-04\n",
      "11:  7.0039e-01  7.0039e-01  2e-07  8e-10  2e-05\n",
      "12:  7.0039e-01  7.0039e-01  5e-09  8e-10  3e-07\n",
      "13:  7.0039e-01  7.0039e-01  2e-10  8e-10  3e-09\n",
      "Optimal solution found.\n",
      "lambda = 1.8\n",
      "train : 0.769\n"
     ]
    }
   ],
   "source": [
    "Y2_t = (Y2 - 0.5) *2\n",
    "w, bias = fit(X_2, Y2_t, lamb=1.)\n",
    "Y_pred2 = predict(w, bias, X_test2)"
   ]
  },
  {
   "cell_type": "code",
   "execution_count": 33,
   "metadata": {},
   "outputs": [],
   "source": [
    "test0 = np.transpose(Y_pred0)[:][0]\n",
    "test1 = np.transpose(Y_pred1)[:][0]\n",
    "test2 = np.transpose(Y_pred2)[:][0]\n",
    "\n",
    "bound = np.concatenate((test0,test1,test2), axis=0).reshape((-1)).astype(int)\n",
    "final = pd.DataFrame(np.arange(3000), columns=['Id'])\n",
    "final['Bound'] = bound\n",
    "final.to_csv('resultk_fold.csv', index= None)"
   ]
  }
 ],
 "metadata": {
  "kernelspec": {
   "display_name": "Python [conda env:hackathon]",
   "language": "python",
   "name": "conda-env-hackathon-py"
  },
  "language_info": {
   "codemirror_mode": {
    "name": "ipython",
    "version": 3
   },
   "file_extension": ".py",
   "mimetype": "text/x-python",
   "name": "python",
   "nbconvert_exporter": "python",
   "pygments_lexer": "ipython3",
   "version": "3.4.5"
  }
 },
 "nbformat": 4,
 "nbformat_minor": 2
}
