{
 "cells": [
  {
   "cell_type": "code",
   "execution_count": 1,
   "metadata": {},
   "outputs": [],
   "source": [
    "import pandas as pd\n",
    "import numpy as np\n",
    "from utils import *\n",
    "\n",
    "import matplotlib.pyplot as plt\n",
    "from matplotlib import cm\n",
    "from numpy import linalg as LA\n",
    "from tqdm import tqdm\n",
    "\n",
    "from matplotlib import rc\n",
    "rc('font',**{'family':'sans-serif','sans-serif':['Helvetica']})\n",
    "rc('text', usetex=True)"
   ]
  },
  {
   "cell_type": "code",
   "execution_count": 2,
   "metadata": {},
   "outputs": [],
   "source": [
    "X = pd.read_csv('data/Xtr1_mat50.csv', sep=' ', header=None)\n",
    "Y = pd.read_csv('data/Ytr1.csv', sep=',', header=0)\n",
    "X_t = pd.read_csv('data/Xte1_mat50.csv', sep=' ', header=None)\n",
    "# Y_test = pd.read_csv('data/Yte0.csv', sep=',', header=0)\n",
    "Y.columns = [\"idx\", \"bound\"]\n",
    "Y = Y.drop([\"idx\"], axis=1)\n",
    "# Y_test.columns = [\"idx\", \"bound\"]\n",
    "# Y_test = Y_test.drop([\"idx\"], axis=1)"
   ]
  },
  {
   "cell_type": "code",
   "execution_count": 3,
   "metadata": {},
   "outputs": [
    {
     "name": "stdout",
     "output_type": "stream",
     "text": [
      "(2000, 1)\n",
      "(2000, 50)\n"
     ]
    }
   ],
   "source": [
    "print(Y.shape)\n",
    "print(X.shape)"
   ]
  },
  {
   "cell_type": "code",
   "execution_count": 5,
   "metadata": {},
   "outputs": [
    {
     "name": "stdout",
     "output_type": "stream",
     "text": [
      "accuracy for testing : 0.475\n",
      "accuracy for training : 0.529375\n"
     ]
    }
   ],
   "source": [
    "from sklearn import svm\n",
    "\n",
    "clf = svm.SVC(C=0.09) #, kernel='poly', degree=4)\n",
    "X_train, Y_train, X_test, Y_test = preprocessing(X, Y)\n",
    "clf.fit(X_train, Y_train['bound'])\n",
    "Y_pred = clf.predict(X_test)\n",
    "Y_train_pred = clf.predict(X_train)\n",
    "print(\"accuracy for testing : {}\".format(np.sum(Y_test['bound'] == Y_pred)/len(Y_test)))\n",
    "print(\"accuracy for training : {}\".format(np.sum(Y_train_pred == Y_train['bound'])/len(Y_train)))\n",
    "# print(Y_train_pred.shape)"
   ]
  },
  {
   "cell_type": "code",
   "execution_count": 6,
   "metadata": {},
   "outputs": [
    {
     "name": "stdout",
     "output_type": "stream",
     "text": [
      "accuracy for testing : 0.5175\n",
      "accuracy for training : 0.559375\n"
     ]
    }
   ],
   "source": [
    "from sklearn.kernel_ridge import KernelRidge\n",
    "\n",
    "clf = KernelRidge(alpha=.0001)\n",
    "clf.fit(X_train, Y_train['bound'])\n",
    "Y_pred = clf.predict(X_test) > 0.5\n",
    "Y_train_pred = clf.predict(X_train) > 0.5\n",
    "print(\"accuracy for testing : {}\".format(np.sum(Y_test['bound'] == Y_pred)/len(Y_test)))\n",
    "print(\"accuracy for training : {}\".format(np.sum(Y_train_pred == Y_train['bound'])/len(Y_train)))\n"
   ]
  },
  {
   "cell_type": "code",
   "execution_count": 7,
   "metadata": {},
   "outputs": [
    {
     "name": "stdout",
     "output_type": "stream",
     "text": [
      "accuracy for testing : 0.5075\n",
      "accuracy for training : 0.879375\n"
     ]
    }
   ],
   "source": [
    "from sklearn.ensemble import RandomForestClassifier\n",
    "\n",
    "clf = RandomForestClassifier(n_estimators=5, max_depth=None, min_samples_split=10, random_state=0)\n",
    "clf.fit(X_train, Y_train['bound'])\n",
    "Y_pred = clf.predict(X_test)\n",
    "Y_train_pred = clf.predict(X_train)\n",
    "print(\"accuracy for testing : {}\".format(np.sum(Y_test['bound'] == Y_pred)/len(Y_test)))\n",
    "print(\"accuracy for training : {}\".format(np.sum(Y_train_pred == Y_train['bound'])/len(Y_train)))\n"
   ]
  },
  {
   "cell_type": "code",
   "execution_count": 8,
   "metadata": {},
   "outputs": [
    {
     "name": "stdout",
     "output_type": "stream",
     "text": [
      "accuracy for testing : 0.525\n",
      "accuracy for training : 0.685625\n"
     ]
    }
   ],
   "source": [
    "from sklearn.ensemble import GradientBoostingClassifier\n",
    "\n",
    "clf = GradientBoostingClassifier(n_estimators=5, learning_rate=.1, max_depth=5, random_state=0)\n",
    "clf.fit(X_train, Y_train['bound'])\n",
    "Y_pred = clf.predict(X_test)\n",
    "Y_train_pred = clf.predict(X_train)\n",
    "print(\"accuracy for testing : {}\".format(np.sum(Y_test['bound'] == Y_pred)/len(Y_test)))\n",
    "print(\"accuracy for training : {}\".format(np.sum(Y_train_pred == Y_train['bound'])/len(Y_train)))"
   ]
  },
  {
   "cell_type": "code",
   "execution_count": 10,
   "metadata": {
    "scrolled": true
   },
   "outputs": [
    {
     "name": "stdout",
     "output_type": "stream",
     "text": [
      "Epoch 1/20\n",
      "1600/1600 [==============================] - 1s 590us/step - loss: 0.6996 - acc: 0.5038\n",
      "Epoch 2/20\n",
      "1600/1600 [==============================] - 1s 323us/step - loss: 0.6945 - acc: 0.5019\n",
      "Epoch 3/20\n",
      "1600/1600 [==============================] - 1s 346us/step - loss: 0.6937 - acc: 0.5006\n",
      "Epoch 4/20\n",
      "1600/1600 [==============================] - 1s 407us/step - loss: 0.6948 - acc: 0.4825\n",
      "Epoch 5/20\n",
      "1600/1600 [==============================] - 1s 366us/step - loss: 0.6935 - acc: 0.4938\n",
      "Epoch 6/20\n",
      "1600/1600 [==============================] - 1s 332us/step - loss: 0.6938 - acc: 0.4969\n",
      "Epoch 7/20\n",
      "1600/1600 [==============================] - 1s 332us/step - loss: 0.6940 - acc: 0.4944\n",
      "Epoch 8/20\n",
      "1600/1600 [==============================] - 1s 423us/step - loss: 0.6938 - acc: 0.5150\n",
      "Epoch 9/20\n",
      "1600/1600 [==============================] - 1s 435us/step - loss: 0.6933 - acc: 0.4994\n",
      "Epoch 10/20\n",
      "1600/1600 [==============================] - 1s 457us/step - loss: 0.6934 - acc: 0.5213\n",
      "Epoch 11/20\n",
      "1600/1600 [==============================] - 1s 470us/step - loss: 0.6929 - acc: 0.5163\n",
      "Epoch 12/20\n",
      "1600/1600 [==============================] - 1s 452us/step - loss: 0.6927 - acc: 0.5088\n",
      "Epoch 13/20\n",
      "1600/1600 [==============================] - 1s 408us/step - loss: 0.6921 - acc: 0.5119\n",
      "Epoch 14/20\n",
      "1600/1600 [==============================] - 1s 374us/step - loss: 0.6915 - acc: 0.5138\n",
      "Epoch 15/20\n",
      "1600/1600 [==============================] - 1s 346us/step - loss: 0.6914 - acc: 0.5225\n",
      "Epoch 16/20\n",
      "1600/1600 [==============================] - 1s 343us/step - loss: 0.6926 - acc: 0.5088\n",
      "Epoch 17/20\n",
      "1600/1600 [==============================] - 1s 352us/step - loss: 0.6923 - acc: 0.5281\n",
      "Epoch 18/20\n",
      "1600/1600 [==============================] - 1s 359us/step - loss: 0.6915 - acc: 0.5281\n",
      "Epoch 19/20\n",
      "1600/1600 [==============================] - 1s 358us/step - loss: 0.6916 - acc: 0.5381\n",
      "Epoch 20/20\n",
      "1600/1600 [==============================] - 1s 357us/step - loss: 0.6905 - acc: 0.5213\n",
      "accuracy for testing : bound    0.47\n",
      "dtype: float64\n",
      "accuracy for training : bound    0.55\n",
      "dtype: float64\n"
     ]
    }
   ],
   "source": [
    "from keras.models import Sequential\n",
    "from keras.layers import Dense\n",
    "from keras.optimizers import Adam\n",
    "\n",
    "model = Sequential()\n",
    "model.add(Dense(40, input_dim=50, activation='sigmoid', kernel_initializer='zeros'))\n",
    "# model.add(Dense(8, activation='relu'))\n",
    "model.add(Dense(1, activation='sigmoid'))\n",
    "# am = Adam(lr=0.01)\n",
    "model.compile(loss='binary_crossentropy', optimizer='adam', metrics=['accuracy'])\n",
    "model.fit(X_train, Y_train['bound'], epochs=20, batch_size=5)\n",
    "\n",
    "# clf.fit(X_train, )\n",
    "Y_pred = model.predict(X_test)>0.5\n",
    "Y_train_pred = model.predict(X_train)>0.5\n",
    "print(\"accuracy for testing : {}\".format(np.sum(Y_test == Y_pred)/len(Y_test)))\n",
    "print(\"accuracy for training : {}\".format(np.sum(Y_train_pred == Y_train)/len(Y_train)))"
   ]
  },
  {
   "cell_type": "code",
   "execution_count": 11,
   "metadata": {
    "scrolled": true
   },
   "outputs": [
    {
     "data": {
      "text/plain": [
       "matrix([[ 0.08695652,  0.04347826,  0.02173913, ...,  0.0326087 ,\n",
       "          0.02173913,  0.        ],\n",
       "        [ 0.04347826,  0.01086957,  0.        , ...,  0.        ,\n",
       "          0.06521739,  0.04347826],\n",
       "        [ 0.01086957,  0.02173913,  0.05434783, ...,  0.01086957,\n",
       "          0.        ,  0.        ],\n",
       "        ..., \n",
       "        [ 0.02173913,  0.04347826,  0.02173913, ...,  0.02173913,\n",
       "          0.        ,  0.        ],\n",
       "        [ 0.05434783,  0.        ,  0.05434783, ...,  0.05434783,\n",
       "          0.04347826,  0.01086957],\n",
       "        [ 0.02173913,  0.02173913,  0.04347826, ...,  0.02173913,\n",
       "          0.0326087 ,  0.        ]])"
      ]
     },
     "execution_count": 11,
     "metadata": {},
     "output_type": "execute_result"
    }
   ],
   "source": [
    "X_train"
   ]
  },
  {
   "cell_type": "code",
   "execution_count": 12,
   "metadata": {},
   "outputs": [
    {
     "data": {
      "text/plain": [
       "(400, 1)"
      ]
     },
     "execution_count": 12,
     "metadata": {},
     "output_type": "execute_result"
    }
   ],
   "source": [
    "Y_pred.shape"
   ]
  },
  {
   "cell_type": "markdown",
   "metadata": {},
   "source": [
    "Bon en fait j'ai l'impression que a marche pas de ouf cette représentation des ACTG... Faut qu'on trouve notre propre truc.\n"
   ]
  },
  {
   "cell_type": "code",
   "execution_count": 89,
   "metadata": {},
   "outputs": [
    {
     "name": "stdout",
     "output_type": "stream",
     "text": [
      "['AAA', 'AAC', 'AAT', 'AAG', 'ACA', 'ACC', 'ACT', 'ACG', 'ATA', 'ATC', 'ATT', 'ATG', 'AGA', 'AGC', 'AGT', 'AGG', 'CAA', 'CAC', 'CAT', 'CAG', 'CCA', 'CCC', 'CCT', 'CCG', 'CTA', 'CTC', 'CTT', 'CTG', 'CGA', 'CGC', 'CGT', 'CGG', 'TAA', 'TAC', 'TAT', 'TAG', 'TCA', 'TCC', 'TCT', 'TCG', 'TTA', 'TTC', 'TTT', 'TTG', 'TGA', 'TGC', 'TGT', 'TGG', 'GAA', 'GAC', 'GAT', 'GAG', 'GCA', 'GCC', 'GCT', 'GCG', 'GTA', 'GTC', 'GTT', 'GTG', 'GGA', 'GGC', 'GGT', 'GGG']\n"
     ]
    }
   ],
   "source": [
    "# Construction of the proteine\n",
    "\n",
    "from itertools import product\n",
    "from string import ascii_lowercase\n",
    "\n",
    "# Creation of all possible combinations\n",
    "dic_prot = [''.join(i) for i in product(base_azote, repeat = 3)]\n",
    "nb_feat = len(dic_prot)\n",
    "print(dic_prot)"
   ]
  },
  {
   "cell_type": "code",
   "execution_count": 187,
   "metadata": {},
   "outputs": [
    {
     "name": "stdout",
     "output_type": "stream",
     "text": [
      "CGGGCCTCCTCCAGGCTCAGAATCGACCCCCCCCCATCCTGATAGACCACAACGAAAGCCGTAGCGACGGCCGCAGGAGCTGGCGCGACAGCCCAGAGCTC\n"
     ]
    }
   ],
   "source": [
    "X_raw = pd.read_csv('data/Xtr1.csv', sep=' ', header=None)\n",
    "# test on one sequence\n",
    "seq = X_raw[0][0]\n",
    "# print(len(seq))\n",
    "print(seq)\n",
    "# print(Y['bound'][:10])"
   ]
  },
  {
   "cell_type": "code",
   "execution_count": 188,
   "metadata": {},
   "outputs": [
    {
     "name": "stderr",
     "output_type": "stream",
     "text": [
      " 15%|█▍        | 298/2000 [00:14<01:24, 20.11it/s]"
     ]
    },
    {
     "ename": "KeyboardInterrupt",
     "evalue": "",
     "output_type": "error",
     "traceback": [
      "\u001b[0;31m---------------------------------------------------------------------------\u001b[0m",
      "\u001b[0;31mKeyboardInterrupt\u001b[0m                         Traceback (most recent call last)",
      "\u001b[0;32m<ipython-input-188-dc8ff41738ca>\u001b[0m in \u001b[0;36m<module>\u001b[0;34m()\u001b[0m\n\u001b[1;32m     32\u001b[0m     \u001b[0;32mreturn\u001b[0m \u001b[0mX_processed\u001b[0m\u001b[0;34m\u001b[0m\u001b[0m\n\u001b[1;32m     33\u001b[0m \u001b[0;34m\u001b[0m\u001b[0m\n\u001b[0;32m---> 34\u001b[0;31m \u001b[0mtest\u001b[0m \u001b[0;34m=\u001b[0m \u001b[0mfeature_exractor\u001b[0m\u001b[0;34m(\u001b[0m\u001b[0mX_raw\u001b[0m\u001b[0;34m)\u001b[0m\u001b[0;34m\u001b[0m\u001b[0m\n\u001b[0m\u001b[1;32m     35\u001b[0m \u001b[0mprint\u001b[0m\u001b[0;34m(\u001b[0m\u001b[0mtest\u001b[0m\u001b[0;34m[\u001b[0m\u001b[0;34m:\u001b[0m\u001b[0;36m5\u001b[0m\u001b[0;34m]\u001b[0m\u001b[0;34m)\u001b[0m\u001b[0;34m\u001b[0m\u001b[0m\n\u001b[1;32m     36\u001b[0m \u001b[0;34m\u001b[0m\u001b[0m\n",
      "\u001b[0;32m<ipython-input-188-dc8ff41738ca>\u001b[0m in \u001b[0;36mfeature_exractor\u001b[0;34m(X, k)\u001b[0m\n\u001b[1;32m     28\u001b[0m     \u001b[0mX_processed\u001b[0m \u001b[0;34m=\u001b[0m \u001b[0;34m[\u001b[0m\u001b[0;34m]\u001b[0m\u001b[0;34m\u001b[0m\u001b[0m\n\u001b[1;32m     29\u001b[0m     \u001b[0;32mfor\u001b[0m \u001b[0mseq\u001b[0m \u001b[0;32min\u001b[0m \u001b[0mtqdm\u001b[0m\u001b[0;34m(\u001b[0m\u001b[0mX\u001b[0m\u001b[0;34m[\u001b[0m\u001b[0;36m0\u001b[0m\u001b[0;34m]\u001b[0m\u001b[0;34m)\u001b[0m\u001b[0;34m:\u001b[0m\u001b[0;34m\u001b[0m\u001b[0m\n\u001b[0;32m---> 30\u001b[0;31m         \u001b[0mX_processed\u001b[0m\u001b[0;34m.\u001b[0m\u001b[0mappend\u001b[0m\u001b[0;34m(\u001b[0m\u001b[0mcount_kuplet\u001b[0m\u001b[0;34m(\u001b[0m\u001b[0mk_spectre\u001b[0m\u001b[0;34m(\u001b[0m\u001b[0mseq\u001b[0m\u001b[0;34m)\u001b[0m\u001b[0;34m)\u001b[0m\u001b[0;34m)\u001b[0m\u001b[0;34m\u001b[0m\u001b[0m\n\u001b[0m\u001b[1;32m     31\u001b[0m \u001b[0;34m\u001b[0m\u001b[0m\n\u001b[1;32m     32\u001b[0m     \u001b[0;32mreturn\u001b[0m \u001b[0mX_processed\u001b[0m\u001b[0;34m\u001b[0m\u001b[0m\n",
      "\u001b[0;32m<ipython-input-188-dc8ff41738ca>\u001b[0m in \u001b[0;36mcount_kuplet\u001b[0;34m(k_seq)\u001b[0m\n\u001b[1;32m     22\u001b[0m     \u001b[0mnew_feat\u001b[0m \u001b[0;34m=\u001b[0m \u001b[0minit_feat\u001b[0m\u001b[0;34m.\u001b[0m\u001b[0mcopy\u001b[0m\u001b[0;34m(\u001b[0m\u001b[0;34m)\u001b[0m\u001b[0;34m\u001b[0m\u001b[0m\n\u001b[1;32m     23\u001b[0m     \u001b[0;32mfor\u001b[0m \u001b[0mkuplet\u001b[0m \u001b[0;32min\u001b[0m \u001b[0mk_seq\u001b[0m\u001b[0;34m:\u001b[0m\u001b[0;34m\u001b[0m\u001b[0m\n\u001b[0;32m---> 24\u001b[0;31m         \u001b[0mnew_feat\u001b[0m\u001b[0;34m[\u001b[0m\u001b[0mkuplet\u001b[0m\u001b[0;34m]\u001b[0m \u001b[0;34m+=\u001b[0m \u001b[0;36m1.\u001b[0m\u001b[0;34m\u001b[0m\u001b[0m\n\u001b[0m\u001b[1;32m     25\u001b[0m     \u001b[0;32mreturn\u001b[0m \u001b[0mnp\u001b[0m\u001b[0;34m.\u001b[0m\u001b[0marray\u001b[0m\u001b[0;34m(\u001b[0m\u001b[0mnew_feat\u001b[0m\u001b[0;34m)\u001b[0m\u001b[0;34m.\u001b[0m\u001b[0mreshape\u001b[0m\u001b[0;34m(\u001b[0m\u001b[0;36m4\u001b[0m\u001b[0;34m**\u001b[0m\u001b[0mk\u001b[0m\u001b[0;34m)\u001b[0m\u001b[0;34m\u001b[0m\u001b[0m\n\u001b[1;32m     26\u001b[0m \u001b[0;34m\u001b[0m\u001b[0m\n",
      "\u001b[0;32m~/anaconda/envs/hackathon/lib/python3.4/site-packages/pandas/core/ops.py\u001b[0m in \u001b[0;36mf\u001b[0;34m(self, other)\u001b[0m\n\u001b[1;32m    221\u001b[0m \u001b[0;34m\u001b[0m\u001b[0m\n\u001b[1;32m    222\u001b[0m         \u001b[0;32mdef\u001b[0m \u001b[0mf\u001b[0m\u001b[0;34m(\u001b[0m\u001b[0mself\u001b[0m\u001b[0;34m,\u001b[0m \u001b[0mother\u001b[0m\u001b[0;34m)\u001b[0m\u001b[0;34m:\u001b[0m\u001b[0;34m\u001b[0m\u001b[0m\n\u001b[0;32m--> 223\u001b[0;31m             \u001b[0mresult\u001b[0m \u001b[0;34m=\u001b[0m \u001b[0mmethod\u001b[0m\u001b[0;34m(\u001b[0m\u001b[0mself\u001b[0m\u001b[0;34m,\u001b[0m \u001b[0mother\u001b[0m\u001b[0;34m)\u001b[0m\u001b[0;34m\u001b[0m\u001b[0m\n\u001b[0m\u001b[1;32m    224\u001b[0m \u001b[0;34m\u001b[0m\u001b[0m\n\u001b[1;32m    225\u001b[0m             \u001b[0;31m# this makes sure that we are aligned like the input\u001b[0m\u001b[0;34m\u001b[0m\u001b[0;34m\u001b[0m\u001b[0m\n",
      "\u001b[0;32m~/anaconda/envs/hackathon/lib/python3.4/site-packages/pandas/core/ops.py\u001b[0m in \u001b[0;36mwrapper\u001b[0;34m(left, right, name, na_op)\u001b[0m\n\u001b[1;32m    737\u001b[0m                 \u001b[0mlvalues\u001b[0m \u001b[0;34m=\u001b[0m \u001b[0mlvalues\u001b[0m\u001b[0;34m.\u001b[0m\u001b[0mvalues\u001b[0m\u001b[0;34m\u001b[0m\u001b[0m\n\u001b[1;32m    738\u001b[0m \u001b[0;34m\u001b[0m\u001b[0m\n\u001b[0;32m--> 739\u001b[0;31m         \u001b[0mresult\u001b[0m \u001b[0;34m=\u001b[0m \u001b[0mwrap_results\u001b[0m\u001b[0;34m(\u001b[0m\u001b[0msafe_na_op\u001b[0m\u001b[0;34m(\u001b[0m\u001b[0mlvalues\u001b[0m\u001b[0;34m,\u001b[0m \u001b[0mrvalues\u001b[0m\u001b[0;34m)\u001b[0m\u001b[0;34m)\u001b[0m\u001b[0;34m\u001b[0m\u001b[0m\n\u001b[0m\u001b[1;32m    740\u001b[0m         return construct_result(\n\u001b[1;32m    741\u001b[0m             \u001b[0mleft\u001b[0m\u001b[0;34m,\u001b[0m\u001b[0;34m\u001b[0m\u001b[0m\n",
      "\u001b[0;32m~/anaconda/envs/hackathon/lib/python3.4/site-packages/pandas/core/ops.py\u001b[0m in \u001b[0;36msafe_na_op\u001b[0;34m(lvalues, rvalues)\u001b[0m\n\u001b[1;32m    698\u001b[0m         \u001b[0;32mtry\u001b[0m\u001b[0;34m:\u001b[0m\u001b[0;34m\u001b[0m\u001b[0m\n\u001b[1;32m    699\u001b[0m             \u001b[0;32mwith\u001b[0m \u001b[0mnp\u001b[0m\u001b[0;34m.\u001b[0m\u001b[0merrstate\u001b[0m\u001b[0;34m(\u001b[0m\u001b[0mall\u001b[0m\u001b[0;34m=\u001b[0m\u001b[0;34m'ignore'\u001b[0m\u001b[0;34m)\u001b[0m\u001b[0;34m:\u001b[0m\u001b[0;34m\u001b[0m\u001b[0m\n\u001b[0;32m--> 700\u001b[0;31m                 \u001b[0;32mreturn\u001b[0m \u001b[0mna_op\u001b[0m\u001b[0;34m(\u001b[0m\u001b[0mlvalues\u001b[0m\u001b[0;34m,\u001b[0m \u001b[0mrvalues\u001b[0m\u001b[0;34m)\u001b[0m\u001b[0;34m\u001b[0m\u001b[0m\n\u001b[0m\u001b[1;32m    701\u001b[0m         \u001b[0;32mexcept\u001b[0m \u001b[0mException\u001b[0m\u001b[0;34m:\u001b[0m\u001b[0;34m\u001b[0m\u001b[0m\n\u001b[1;32m    702\u001b[0m             \u001b[0;32mif\u001b[0m \u001b[0misinstance\u001b[0m\u001b[0;34m(\u001b[0m\u001b[0mrvalues\u001b[0m\u001b[0;34m,\u001b[0m \u001b[0mABCSeries\u001b[0m\u001b[0;34m)\u001b[0m\u001b[0;34m:\u001b[0m\u001b[0;34m\u001b[0m\u001b[0m\n",
      "\u001b[0;32m~/anaconda/envs/hackathon/lib/python3.4/site-packages/pandas/core/ops.py\u001b[0m in \u001b[0;36mna_op\u001b[0;34m(x, y)\u001b[0m\n\u001b[1;32m    674\u001b[0m \u001b[0;34m\u001b[0m\u001b[0m\n\u001b[1;32m    675\u001b[0m         \u001b[0;32mtry\u001b[0m\u001b[0;34m:\u001b[0m\u001b[0;34m\u001b[0m\u001b[0m\n\u001b[0;32m--> 676\u001b[0;31m             \u001b[0mresult\u001b[0m \u001b[0;34m=\u001b[0m \u001b[0mexpressions\u001b[0m\u001b[0;34m.\u001b[0m\u001b[0mevaluate\u001b[0m\u001b[0;34m(\u001b[0m\u001b[0mop\u001b[0m\u001b[0;34m,\u001b[0m \u001b[0mstr_rep\u001b[0m\u001b[0;34m,\u001b[0m \u001b[0mx\u001b[0m\u001b[0;34m,\u001b[0m \u001b[0my\u001b[0m\u001b[0;34m,\u001b[0m \u001b[0;34m**\u001b[0m\u001b[0meval_kwargs\u001b[0m\u001b[0;34m)\u001b[0m\u001b[0;34m\u001b[0m\u001b[0m\n\u001b[0m\u001b[1;32m    677\u001b[0m         \u001b[0;32mexcept\u001b[0m \u001b[0mTypeError\u001b[0m\u001b[0;34m:\u001b[0m\u001b[0;34m\u001b[0m\u001b[0m\n\u001b[1;32m    678\u001b[0m             \u001b[0;32mif\u001b[0m \u001b[0misinstance\u001b[0m\u001b[0;34m(\u001b[0m\u001b[0my\u001b[0m\u001b[0;34m,\u001b[0m \u001b[0;34m(\u001b[0m\u001b[0mnp\u001b[0m\u001b[0;34m.\u001b[0m\u001b[0mndarray\u001b[0m\u001b[0;34m,\u001b[0m \u001b[0mABCSeries\u001b[0m\u001b[0;34m,\u001b[0m \u001b[0mpd\u001b[0m\u001b[0;34m.\u001b[0m\u001b[0mIndex\u001b[0m\u001b[0;34m)\u001b[0m\u001b[0;34m)\u001b[0m\u001b[0;34m:\u001b[0m\u001b[0;34m\u001b[0m\u001b[0m\n",
      "\u001b[0;32m~/anaconda/envs/hackathon/lib/python3.4/site-packages/pandas/core/computation/expressions.py\u001b[0m in \u001b[0;36mevaluate\u001b[0;34m(op, op_str, a, b, use_numexpr, **eval_kwargs)\u001b[0m\n\u001b[1;32m    202\u001b[0m     \u001b[0muse_numexpr\u001b[0m \u001b[0;34m=\u001b[0m \u001b[0muse_numexpr\u001b[0m \u001b[0;32mand\u001b[0m \u001b[0m_bool_arith_check\u001b[0m\u001b[0;34m(\u001b[0m\u001b[0mop_str\u001b[0m\u001b[0;34m,\u001b[0m \u001b[0ma\u001b[0m\u001b[0;34m,\u001b[0m \u001b[0mb\u001b[0m\u001b[0;34m)\u001b[0m\u001b[0;34m\u001b[0m\u001b[0m\n\u001b[1;32m    203\u001b[0m     \u001b[0;32mif\u001b[0m \u001b[0muse_numexpr\u001b[0m\u001b[0;34m:\u001b[0m\u001b[0;34m\u001b[0m\u001b[0m\n\u001b[0;32m--> 204\u001b[0;31m         \u001b[0;32mreturn\u001b[0m \u001b[0m_evaluate\u001b[0m\u001b[0;34m(\u001b[0m\u001b[0mop\u001b[0m\u001b[0;34m,\u001b[0m \u001b[0mop_str\u001b[0m\u001b[0;34m,\u001b[0m \u001b[0ma\u001b[0m\u001b[0;34m,\u001b[0m \u001b[0mb\u001b[0m\u001b[0;34m,\u001b[0m \u001b[0;34m**\u001b[0m\u001b[0meval_kwargs\u001b[0m\u001b[0;34m)\u001b[0m\u001b[0;34m\u001b[0m\u001b[0m\n\u001b[0m\u001b[1;32m    205\u001b[0m     \u001b[0;32mreturn\u001b[0m \u001b[0m_evaluate_standard\u001b[0m\u001b[0;34m(\u001b[0m\u001b[0mop\u001b[0m\u001b[0;34m,\u001b[0m \u001b[0mop_str\u001b[0m\u001b[0;34m,\u001b[0m \u001b[0ma\u001b[0m\u001b[0;34m,\u001b[0m \u001b[0mb\u001b[0m\u001b[0;34m)\u001b[0m\u001b[0;34m\u001b[0m\u001b[0m\n\u001b[1;32m    206\u001b[0m \u001b[0;34m\u001b[0m\u001b[0m\n",
      "\u001b[0;32m~/anaconda/envs/hackathon/lib/python3.4/site-packages/pandas/core/computation/expressions.py\u001b[0m in \u001b[0;36m_evaluate_standard\u001b[0;34m(op, op_str, a, b, **eval_kwargs)\u001b[0m\n\u001b[1;32m     61\u001b[0m     \u001b[0;32mif\u001b[0m \u001b[0m_TEST_MODE\u001b[0m\u001b[0;34m:\u001b[0m\u001b[0;34m\u001b[0m\u001b[0m\n\u001b[1;32m     62\u001b[0m         \u001b[0m_store_test_result\u001b[0m\u001b[0;34m(\u001b[0m\u001b[0;32mFalse\u001b[0m\u001b[0;34m)\u001b[0m\u001b[0;34m\u001b[0m\u001b[0m\n\u001b[0;32m---> 63\u001b[0;31m     \u001b[0;32mwith\u001b[0m \u001b[0mnp\u001b[0m\u001b[0;34m.\u001b[0m\u001b[0merrstate\u001b[0m\u001b[0;34m(\u001b[0m\u001b[0mall\u001b[0m\u001b[0;34m=\u001b[0m\u001b[0;34m'ignore'\u001b[0m\u001b[0;34m)\u001b[0m\u001b[0;34m:\u001b[0m\u001b[0;34m\u001b[0m\u001b[0m\n\u001b[0m\u001b[1;32m     64\u001b[0m         \u001b[0;32mreturn\u001b[0m \u001b[0mop\u001b[0m\u001b[0;34m(\u001b[0m\u001b[0ma\u001b[0m\u001b[0;34m,\u001b[0m \u001b[0mb\u001b[0m\u001b[0;34m)\u001b[0m\u001b[0;34m\u001b[0m\u001b[0m\n\u001b[1;32m     65\u001b[0m \u001b[0;34m\u001b[0m\u001b[0m\n",
      "\u001b[0;32m~/anaconda/envs/hackathon/lib/python3.4/site-packages/numpy/core/numeric.py\u001b[0m in \u001b[0;36m__init__\u001b[0;34m(self, **kwargs)\u001b[0m\n\u001b[1;32m   3059\u001b[0m \u001b[0;34m\u001b[0m\u001b[0m\n\u001b[1;32m   3060\u001b[0m     \u001b[0;32mdef\u001b[0m \u001b[0m__init__\u001b[0m\u001b[0;34m(\u001b[0m\u001b[0mself\u001b[0m\u001b[0;34m,\u001b[0m \u001b[0;34m**\u001b[0m\u001b[0mkwargs\u001b[0m\u001b[0;34m)\u001b[0m\u001b[0;34m:\u001b[0m\u001b[0;34m\u001b[0m\u001b[0m\n\u001b[0;32m-> 3061\u001b[0;31m         \u001b[0mself\u001b[0m\u001b[0;34m.\u001b[0m\u001b[0mcall\u001b[0m \u001b[0;34m=\u001b[0m \u001b[0mkwargs\u001b[0m\u001b[0;34m.\u001b[0m\u001b[0mpop\u001b[0m\u001b[0;34m(\u001b[0m\u001b[0;34m'call'\u001b[0m\u001b[0;34m,\u001b[0m \u001b[0m_Unspecified\u001b[0m\u001b[0;34m)\u001b[0m\u001b[0;34m\u001b[0m\u001b[0m\n\u001b[0m\u001b[1;32m   3062\u001b[0m         \u001b[0mself\u001b[0m\u001b[0;34m.\u001b[0m\u001b[0mkwargs\u001b[0m \u001b[0;34m=\u001b[0m \u001b[0mkwargs\u001b[0m\u001b[0;34m\u001b[0m\u001b[0m\n\u001b[1;32m   3063\u001b[0m \u001b[0;34m\u001b[0m\u001b[0m\n",
      "\u001b[0;31mKeyboardInterrupt\u001b[0m: "
     ]
    }
   ],
   "source": [
    "from tqdm import tqdm\n",
    "\n",
    "k=3\n",
    "\n",
    "def k_spectre(seq, k=3):\n",
    "    \"\"\"\n",
    "    Combine all the k-successive\n",
    "    \"\"\"\n",
    "    k_seq = []\n",
    "    for i in range(len(seq)-k+1):\n",
    "        tmp = ''\n",
    "        for j in range(k):\n",
    "            tmp += seq[i+j]\n",
    "        k_seq.append(tmp)\n",
    "    return k_seq\n",
    "\n",
    "init_feat = pd.DataFrame(0, index=[0], columns=dic_prot)\n",
    "# init_feat.append(np.zeros(4**k))\n",
    "\n",
    "def count_kuplet(k_seq):\n",
    "    k = len(k_seq[0])\n",
    "    new_feat = init_feat.copy()\n",
    "    for kuplet in k_seq:\n",
    "        new_feat[kuplet] += 1.\n",
    "    return np.array(new_feat).reshape(4**k)\n",
    "\n",
    "def feature_exractor(X, k=3):\n",
    "    X_processed = []\n",
    "    for seq in tqdm(X[0]):\n",
    "        X_processed.append(count_kuplet(k_spectre(seq)))\n",
    "    \n",
    "    return X_processed\n",
    "    \n",
    "test = feature_exractor(X_raw)\n",
    "print(test[:5])\n",
    "\n",
    "# base_azote = ['A', 'C', 'T', 'G']\n",
    "\n",
    "\n",
    "\n",
    "# print(keywords)     \n",
    "    "
   ]
  },
  {
   "cell_type": "code",
   "execution_count": 180,
   "metadata": {},
   "outputs": [
    {
     "name": "stdout",
     "output_type": "stream",
     "text": [
      "we want 1.0 to be less than 0.3\n",
      "we want 0.9090909090909091 to be less than 0.3\n",
      "we want 0.8264462809917353 to be less than 0.3\n",
      "we want 0.7513148009015775 to be less than 0.3\n",
      "we want 0.6830134553650704 to be less than 0.3\n",
      "we want 0.6209213230591548 to be less than 0.3\n",
      "we want 0.5644739300537771 to be less than 0.3\n",
      "we want 0.5131581182307065 to be less than 0.3\n",
      "we want 0.4665073802097331 to be less than 0.3\n",
      "we want 0.42409761837248455 to be less than 0.3\n",
      "we want 0.38554328942953137 to be less than 0.3\n",
      "we want 0.35049389948139215 to be less than 0.3\n",
      "we want 0.31863081771035645 to be less than 0.3\n",
      "etape3\n"
     ]
    }
   ],
   "source": [
    "w_value_hist = []\n",
    "ac_range = []\n",
    "ac_range2 = []\n",
    "# for tau = 0.0001 et tol = 0.1 on obtient acc = 59.5\n",
    "# for tau = [0.005, 0.01, 0.05] on obtient : [53.5, 49.5, 46.5]\n",
    "\n",
    "taurange = [0.0001] # , 0.1, 0.15, 0.2, 0.3]\n",
    "\n",
    "for tau in taurange:\n",
    "    acc_range=[]\n",
    "    it = 0\n",
    "    # while(it < 20):\n",
    "    # for it in tqdm(range(0)):\n",
    "    X_train, Y_train, X_test, Y_test = preprocessing(X, Y)\n",
    "    mu = 1.1\n",
    "    w, w_hist, phi_w_hist = SVM_vector(X_train, Y_train['bound'], tau, mu, tol=0.3)\n",
    "    print('etape3')\n",
    "    w_value_hist.append(w)\n",
    "    Y_train_predicted, acc_train = predict(w, X_train, Y_train['bound'])\n",
    "    Y_predicted, acc = predict(w, X_test, Y_test['bound'])\n",
    "    \n",
    "    ac_range.append(acc_train)\n",
    "    ac_range2.append(acc)"
   ]
  },
  {
   "cell_type": "code",
   "execution_count": 176,
   "metadata": {
    "scrolled": true
   },
   "outputs": [
    {
     "name": "stdout",
     "output_type": "stream",
     "text": [
      "[50.0]\n"
     ]
    }
   ],
   "source": [
    "print(ac_range)"
   ]
  },
  {
   "cell_type": "code",
   "execution_count": 177,
   "metadata": {},
   "outputs": [
    {
     "name": "stdout",
     "output_type": "stream",
     "text": [
      "[50.0]\n"
     ]
    }
   ],
   "source": [
    "print(ac_range2)"
   ]
  },
  {
   "cell_type": "code",
   "execution_count": 12,
   "metadata": {},
   "outputs": [
    {
     "data": {
      "image/png": "[encoded data removed]",
      "text/plain": [
       "<matplotlib.figure.Figure at 0x10599b940>"
      ]
     },
     "metadata": {},
     "output_type": "display_data"
    }
   ],
   "source": [
    "fig = plt.figure()\n",
    "ax = fig.gca()\n",
    "line1, = ax.plot(taurange, ac_range2)\n",
    "ax.set_xscale('log')\n",
    "ax.set_ylabel(r'Accuracy', fontsize=16)\n",
    "ax.set_xlabel(r'$\\tau$', fontsize=16)\n",
    "plt.show()"
   ]
  },
  {
   "cell_type": "code",
   "execution_count": null,
   "metadata": {},
   "outputs": [],
   "source": []
  }
 ],
 "metadata": {
  "kernelspec": {
   "display_name": "Python [conda env:hackathon]",
   "language": "python",
   "name": "conda-env-hackathon-py"
  }
 },
 "nbformat": 4,
 "nbformat_minor": 2
}
