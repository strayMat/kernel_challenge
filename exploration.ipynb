{
 "cells": [
  {
   "cell_type": "code",
   "execution_count": 1,
   "metadata": {},
   "outputs": [],
   "source": [
    "import pandas as pd\n",
    "import numpy as np\n",
    "from utils import *\n",
    "\n",
    "import matplotlib.pyplot as plt\n",
    "from matplotlib import cm\n",
    "from numpy import linalg as LA\n",
    "from tqdm import tqdm\n",
    "\n",
    "from matplotlib import rc\n",
    "rc('font',**{'family':'sans-serif','sans-serif':['Helvetica']})\n",
    "rc('text', usetex=True)"
   ]
  },
  {
   "cell_type": "code",
   "execution_count": 24,
   "metadata": {},
   "outputs": [],
   "source": [
    "X = pd.read_csv('data/Xtr0_mat50.csv', sep=' ', header=None)\n",
    "Y = pd.read_csv('data/Ytr0.csv', sep=',', header=0)\n",
    "X_t = pd.read_csv('data/Xte0_mat50.csv', sep=' ', header=None)\n",
    "# Y_test = pd.read_csv('data/Yte0.csv', sep=',', header=0)\n",
    "Y.columns = [\"idx\", \"bound\"]\n",
    "Y = Y.drop([\"idx\"], axis=1)\n",
    "# Y_test.columns = [\"idx\", \"bound\"]\n",
    "# Y_test = Y_test.drop([\"idx\"], axis=1)"
   ]
  },
  {
   "cell_type": "code",
   "execution_count": 25,
   "metadata": {},
   "outputs": [
    {
     "name": "stdout",
     "output_type": "stream",
     "text": [
      "(2000, 1)\n",
      "(2000, 50)\n"
     ]
    }
   ],
   "source": [
    "print(Y.shape)\n",
    "print(X.shape)"
   ]
  },
  {
   "cell_type": "code",
   "execution_count": 31,
   "metadata": {},
   "outputs": [
    {
     "name": "stdout",
     "output_type": "stream",
     "text": [
      "0.47\n"
     ]
    }
   ],
   "source": [
    "from sklearn import svm\n",
    "\n",
    "clf = svm.SVC(C=0.0005, kernel='poly', degree=4)\n",
    "X_train, Y_train, X_test, Y_test = preprocessing(X, Y)\n",
    "clf.fit(X_train, Y_train)\n",
    "Y_pred = clf.predict(X_test)\n",
    "print(np.sum(Y_test == Y_pred)/len(Y_test))"
   ]
  },
  {
   "cell_type": "code",
   "execution_count": 17,
   "metadata": {},
   "outputs": [
    {
     "name": "stdout",
     "output_type": "stream",
     "text": [
      "0.49\n"
     ]
    }
   ],
   "source": []
  },
  {
   "cell_type": "code",
   "execution_count": 13,
   "metadata": {},
   "outputs": [
    {
     "name": "stdout",
     "output_type": "stream",
     "text": [
      "we want 1.0 to be less than 0.1\n",
      "we want 0.9090909090909091 to be less than 0.1\n",
      "we want 0.8264462809917353 to be less than 0.1\n",
      "we want 0.7513148009015775 to be less than 0.1\n",
      "we want 0.6830134553650704 to be less than 0.1\n",
      "we want 0.6209213230591548 to be less than 0.1\n",
      "we want 0.5644739300537771 to be less than 0.1\n",
      "we want 0.5131581182307065 to be less than 0.1\n",
      "we want 0.4665073802097331 to be less than 0.1\n",
      "we want 0.42409761837248455 to be less than 0.1\n",
      "we want 0.38554328942953137 to be less than 0.1\n",
      "we want 0.35049389948139215 to be less than 0.1\n",
      "we want 0.31863081771035645 to be less than 0.1\n",
      "we want 0.2896643797366877 to be less than 0.1\n",
      "we want 0.26333125430607973 to be less than 0.1\n",
      "we want 0.23939204936916336 to be less than 0.1\n",
      "we want 0.2176291357901485 to be less than 0.1\n",
      "we want 0.197844668900135 to be less than 0.1\n",
      "we want 0.1798587899092136 to be less than 0.1\n",
      "we want 0.16350799082655781 to be less than 0.1\n",
      "we want 0.14864362802414346 to be less than 0.1\n",
      "we want 0.1351305709310395 to be less than 0.1\n",
      "we want 0.12284597357367227 to be less than 0.1\n",
      "we want 0.11167815779424752 to be less than 0.1\n",
      "we want 0.10152559799477047 to be less than 0.1\n",
      "etape3\n",
      "we want 1.0 to be less than 0.1\n",
      "we want 0.9090909090909091 to be less than 0.1\n",
      "we want 0.8264462809917353 to be less than 0.1\n",
      "we want 0.7513148009015775 to be less than 0.1\n",
      "we want 0.6830134553650704 to be less than 0.1\n",
      "we want 0.6209213230591548 to be less than 0.1\n",
      "we want 0.5644739300537771 to be less than 0.1\n",
      "we want 0.5131581182307065 to be less than 0.1\n",
      "we want 0.4665073802097331 to be less than 0.1\n",
      "we want 0.42409761837248455 to be less than 0.1\n",
      "we want 0.38554328942953137 to be less than 0.1\n",
      "we want 0.35049389948139215 to be less than 0.1\n",
      "we want 0.31863081771035645 to be less than 0.1\n",
      "we want 0.2896643797366877 to be less than 0.1\n",
      "we want 0.26333125430607973 to be less than 0.1\n",
      "we want 0.23939204936916336 to be less than 0.1\n",
      "we want 0.2176291357901485 to be less than 0.1\n",
      "we want 0.197844668900135 to be less than 0.1\n",
      "we want 0.1798587899092136 to be less than 0.1\n",
      "we want 0.16350799082655781 to be less than 0.1\n",
      "we want 0.14864362802414346 to be less than 0.1\n",
      "we want 0.1351305709310395 to be less than 0.1\n",
      "we want 0.12284597357367227 to be less than 0.1\n",
      "we want 0.11167815779424752 to be less than 0.1\n",
      "we want 0.10152559799477047 to be less than 0.1\n",
      "etape3\n"
     ]
    }
   ],
   "source": [
    "w_value_hist = []\n",
    "ac_range2 = []\n",
    "# for tau = 0.0001 et tol = 0.1 on obtient acc = 59.5\n",
    "# for tau = [0.005, 0.01, 0.05] on obtient : [53.5, 49.5, 46.5]\n",
    "\n",
    "taurange = [5e-5, 1e-5] # , 0.1, 0.15, 0.2, 0.3]\n",
    "\n",
    "for tau in taurange:\n",
    "    acc_range=[]\n",
    "    it = 0\n",
    "    # while(it < 20):\n",
    "    # for it in tqdm(range(0)):\n",
    "    X_train, Y_train, X_test, Y_test = preprocessing(X, Y)\n",
    "    mu = 1.1\n",
    "    w, w_hist, phi_w_hist = SVM_vector(X_train, Y_train, tau, mu, tol=0.1)\n",
    "    print('etape3')\n",
    "    w_value_hist.append(w)\n",
    "    Y_predicted, acc = predict(w, X_test, Y_test)\n",
    "        \n",
    "    ac_range2.append(acc)"
   ]
  },
  {
   "cell_type": "code",
   "execution_count": 9,
   "metadata": {
    "scrolled": true
   },
   "outputs": [
    {
     "name": "stdout",
     "output_type": "stream",
     "text": [
      "55.50000000000001\n"
     ]
    }
   ],
   "source": [
    "print(acc)"
   ]
  },
  {
   "cell_type": "code",
   "execution_count": 14,
   "metadata": {},
   "outputs": [
    {
     "name": "stdout",
     "output_type": "stream",
     "text": [
      "[60.0, 59.0]\n"
     ]
    }
   ],
   "source": [
    "print(ac_range2)"
   ]
  },
  {
   "cell_type": "code",
   "execution_count": 12,
   "metadata": {},
   "outputs": [
    {
     "data": {
      "image/png": "[encoded data removed]",
      "text/plain": [
       "<matplotlib.figure.Figure at 0x10599b940>"
      ]
     },
     "metadata": {},
     "output_type": "display_data"
    }
   ],
   "source": [
    "fig = plt.figure()\n",
    "ax = fig.gca()\n",
    "line1, = ax.plot(taurange, ac_range2)\n",
    "ax.set_xscale('log')\n",
    "ax.set_ylabel(r'Accuracy', fontsize=16)\n",
    "ax.set_xlabel(r'$\\tau$', fontsize=16)\n",
    "plt.show()"
   ]
  },
  {
   "cell_type": "code",
   "execution_count": null,
   "metadata": {},
   "outputs": [],
   "source": []
  }
 ],
 "metadata": {
  "kernelspec": {
   "display_name": "Python [conda env:hackathon]",
   "language": "python",
   "name": "conda-env-hackathon-py"
  },
  "language_info": {
   "codemirror_mode": {
    "name": "ipython",
    "version": 3
   },
   "file_extension": ".py",
   "mimetype": "text/x-python",
   "name": "python",
   "nbconvert_exporter": "python",
   "pygments_lexer": "ipython3",
   "version": "3.4.5"
  }
 },
 "nbformat": 4,
 "nbformat_minor": 2
}
