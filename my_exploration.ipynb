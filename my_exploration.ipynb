{
 "cells": [
  {
   "cell_type": "code",
   "execution_count": 1,
   "metadata": {},
   "outputs": [],
   "source": [
    "import pandas as pd\n",
    "import numpy as np\n",
    "\n",
    "import matplotlib.pyplot as plt\n",
    "from matplotlib import cm\n",
    "from numpy import linalg as LA\n",
    "from tqdm import tqdm\n",
    "\n",
    "from sklearn import svm\n",
    "\n",
    "from matplotlib import rc\n",
    "rc('font',**{'family':'sans-serif','sans-serif':['Helvetica']})\n",
    "rc('text', usetex=True)\n",
    "\n",
    "from kernel_functions import gram_phi, count_kuplet\n",
    "from preprocessing import preprocessing"
   ]
  },
  {
   "cell_type": "code",
   "execution_count": 2,
   "metadata": {},
   "outputs": [
    {
     "name": "stdout",
     "output_type": "stream",
     "text": [
      "numerical features shape (2000, 50)\n",
      "numerical features first row [ 0.          0.02173913  0.01086957  0.          0.02173913  0.0326087   0.\n",
      "  0.0326087   0.06521739  0.01086957  0.          0.          0.\n",
      "  0.05434783  0.01086957  0.          0.          0.04347826  0.\n",
      "  0.08695652  0.0326087   0.01086957  0.0326087   0.01086957  0.01086957\n",
      "  0.          0.          0.          0.02173913  0.          0.02173913\n",
      "  0.02173913  0.01086957  0.02173913  0.02173913  0.0326087   0.01086957\n",
      "  0.01086957  0.08695652  0.04347826  0.01086957  0.01086957  0.0326087\n",
      "  0.01086957  0.04347826  0.01086957  0.0326087   0.0326087   0.02173913\n",
      "  0.        ]\n",
      "sequences shape:  (2000,)\n",
      "sequence first row:  CGGGCCTCCTCCAGGCTCAGAATCGACCCCCCCCCATCCTGATAGACCACAACGAAAGCCGTAGCGACGGCCGCAGGAGCTGGCGCGACAGCCCAGAGCTC\n",
      "labels shape (2000,)\n"
     ]
    }
   ],
   "source": [
    "# load all data as the numpy array type\n",
    "X = pd.read_csv('data/Xtr1_mat50.csv', sep=' ', header=None).values\n",
    "X_raw = pd.read_csv('data/Xtr1.csv', sep=' ', header=None).values\n",
    "# transform to an array of string\n",
    "X_raw = np.array([x[0] for x in X_raw])\n",
    "Y = pd.read_csv('data/Ytr1.csv', sep=',', header=0)['Bound'].values\n",
    "\n",
    "print('numerical features shape', X.shape)\n",
    "print('numerical features first row', X[0])\n",
    "print('sequences shape: ', X_raw.shape)\n",
    "print('sequence first row: ', X_raw[0])\n",
    "print('labels shape', Y.shape)"
   ]
  },
  {
   "cell_type": "code",
   "execution_count": 3,
   "metadata": {},
   "outputs": [
    {
     "name": "stdout",
     "output_type": "stream",
     "text": [
      "train shape (1600,)\n",
      "test shape (1600,)\n"
     ]
    }
   ],
   "source": [
    "X_train, Y_train, X_test, Y_test = preprocessing(X_raw, Y)\n",
    "print('train shape', X_train.shape)\n",
    "print('test shape', Y_train.shape)"
   ]
  },
  {
   "cell_type": "code",
   "execution_count": 4,
   "metadata": {},
   "outputs": [],
   "source": [
    "K = gram_phi(X_train, count_kuplet)"
   ]
  },
  {
   "cell_type": "code",
   "execution_count": null,
   "metadata": {},
   "outputs": [],
   "source": []
  }
 ],
 "metadata": {
  "kernelspec": {
   "display_name": "Python 3",
   "language": "python",
   "name": "python3"
  },
  "language_info": {
   "codemirror_mode": {
    "name": "ipython",
    "version": 3
   },
   "file_extension": ".py",
   "mimetype": "text/x-python",
   "name": "python",
   "nbconvert_exporter": "python",
   "pygments_lexer": "ipython3",
   "version": "3.5.2"
  }
 },
 "nbformat": 4,
 "nbformat_minor": 2
}
