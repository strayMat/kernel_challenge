{
 "cells": [
  {
   "cell_type": "code",
   "execution_count": 1,
   "metadata": {},
   "outputs": [],
   "source": [
    "import pandas as pd\n",
    "from kernel_functions import *\n",
    "from utils import *"
   ]
  },
  {
   "cell_type": "code",
   "execution_count": 2,
   "metadata": {},
   "outputs": [],
   "source": [
    "# load all data as the numpy array type\n",
    "# test inputs\n",
    "X_raw0 = pd.read_csv('data/Xtr0.csv', sep=' ',\n",
    "                     header=None).values.reshape((-1))\n",
    "X_raw1 = pd.read_csv('data/Xtr1.csv', sep=' ',\n",
    "                     header=None).values.reshape((-1))\n",
    "X_raw2 = pd.read_csv('data/Xtr2.csv', sep=' ',\n",
    "                     header=None).values.reshape((-1))\n",
    "# test inputs\n",
    "X_test0 = pd.read_csv('data/Xte0.csv', sep=' ',\n",
    "                       header=None).values.reshape((-1))\n",
    "X_test1 = pd.read_csv('data/Xte1.csv', sep=' ',\n",
    "                       header=None).values.reshape((-1))\n",
    "X_test2 = pd.read_csv('data/Xte1.csv', sep=' ',\n",
    "                       header=None).values.reshape((-1))\n",
    "# train outputs\n",
    "Y0 = pd.read_csv('data/Ytr0.csv', sep=',', header=0)['Bound'].values\n",
    "Y1 = pd.read_csv('data/Ytr1.csv', sep=',', header=0)['Bound'].values\n",
    "Y2 = pd.read_csv('data/Ytr2.csv', sep=',', header=0)['Bound'].values"
   ]
  },
  {
   "cell_type": "code",
   "execution_count": 3,
   "metadata": {},
   "outputs": [],
   "source": [
    "def toFeatures(XX, kernelFeat, kwargs):\n",
    "    return kernelFeat(XX[0], **kwargs), kernelFeat(XX[1], **kwargs), kernelFeat(XX[2], **kwargs)\n",
    "            \n",
    "XX = [X_raw0, X_raw1, X_raw2]\n",
    "XXtest = [X_test0, X_test1, X_test2]"
   ]
  },
  {
   "cell_type": "markdown",
   "metadata": {},
   "source": [
    "## Explore various kernels"
   ]
  },
  {
   "cell_type": "markdown",
   "metadata": {},
   "source": [
    "### Kfold kernel"
   ]
  },
  {
   "cell_type": "code",
   "execution_count": 7,
   "metadata": {},
   "outputs": [
    {
     "name": "stderr",
     "output_type": "stream",
     "text": [
      "100%|██████████| 2000/2000 [00:18<00:00, 107.05it/s]\n",
      "100%|██████████| 2000/2000 [00:18<00:00, 106.79it/s]\n",
      "100%|██████████| 2000/2000 [00:21<00:00, 93.77it/s] \n"
     ]
    }
   ],
   "source": [
    "# Kernel computation, default is k_fold\n",
    "params = {'fold':32}\n",
    "X_0, X_1, X_2 = toFeatures(XX, to_k_fold, params)\n",
    "#X_test0, X_test1, X_test2 = toFeatures(XXtest, to_k_fold, params)"
   ]
  },
  {
   "cell_type": "code",
   "execution_count": 8,
   "metadata": {},
   "outputs": [
    {
     "name": "stdout",
     "output_type": "stream",
     "text": [
      "lamb = 1.5e-05, acc train = 0.8758333333333334, acc_test = 0.7325\n",
      "lamb = 1.6e-05, acc train = 0.88, acc_test = 0.73125\n",
      "lamb = 1.7e-05, acc train = 0.8808333333333334, acc_test = 0.725\n",
      "lamb = 1.7999999999999997e-05, acc train = 0.8816666666666667, acc_test = 0.72\n",
      "lamb = 1.8999999999999994e-05, acc train = 0.89, acc_test = 0.71875\n",
      "lamb = 1.9999999999999995e-05, acc train = 0.8916666666666667, acc_test = 0.72\n",
      "lamb = 2.0999999999999995e-05, acc train = 0.8933333333333333, acc_test = 0.71875\n",
      "lamb = 2.1999999999999993e-05, acc train = 0.8941666666666667, acc_test = 0.72\n",
      "lamb = 2.299999999999999e-05, acc train = 0.8958333333333334, acc_test = 0.7175\n",
      "lamb = 2.399999999999999e-05, acc train = 0.8941666666666667, acc_test = 0.71375\n",
      "lamb = 2.499999999999999e-05, acc train = 0.8958333333333334, acc_test = 0.71\n"
     ]
    }
   ],
   "source": [
    "X_train, Y_train, X_test, Y_test = preprocessing(X_0, Y0, percent=0.6)\n",
    "\n",
    "for lamb in np.arange(1.5e-5, 2.5e-5, 1e-6):\n",
    "    acc_train, acc_test = testing_lambda(X_train, Y_train, X_test, Y_test, \n",
    "                                         lamb=lamb, gamma = 1000,\n",
    "                                         kernel='linear'\n",
    "                                        )\n",
    "    print(\"lamb = {}, acc train = {}, acc_test = {}\".format(lamb, acc_train, acc_test))"
   ]
  },
  {
   "cell_type": "markdown",
   "metadata": {},
   "source": [
    "## Explore k_spectrum"
   ]
  },
  {
   "cell_type": "code",
   "execution_count": 4,
   "metadata": {},
   "outputs": [
    {
     "name": "stderr",
     "output_type": "stream",
     "text": [
      "100%|██████████| 2000/2000 [00:03<00:00, 564.56it/s]\n",
      "100%|██████████| 2000/2000 [00:03<00:00, 578.96it/s]\n",
      "100%|██████████| 2000/2000 [00:03<00:00, 570.01it/s]\n"
     ]
    }
   ],
   "source": [
    "params = {'k':6}\n",
    "\n",
    "X_0, X_1, X_2 = toFeatures(XX, count_kuplet_k, params)\n",
    "#X_test0, X_test1, X_test2 = toFeatures(XXtest, count_kuplet_k, params)"
   ]
  },
  {
   "cell_type": "code",
   "execution_count": 10,
   "metadata": {},
   "outputs": [
    {
     "name": "stdout",
     "output_type": "stream",
     "text": [
      "test Toute les valeurs sont TRUE\n",
      "lamb = 0.0001, acc train = 0.5108333333333334, acc_test = 0.48375\n",
      "test Toute les valeurs sont TRUE\n",
      "lamb = 0.0002, acc train = 0.7516666666666667, acc_test = 0.48375\n",
      "lamb = 0.00030000000000000003, acc train = 0.965, acc_test = 0.485\n",
      "lamb = 0.0004, acc train = 0.9933333333333333, acc_test = 0.49375\n",
      "lamb = 0.0005, acc train = 0.9975, acc_test = 0.51\n",
      "lamb = 0.0006000000000000001, acc train = 0.9983333333333333, acc_test = 0.53875\n",
      "lamb = 0.0007000000000000001, acc train = 1.0, acc_test = 0.55625\n",
      "lamb = 0.0008, acc train = 1.0, acc_test = 0.57\n",
      "lamb = 0.0009000000000000001, acc train = 1.0, acc_test = 0.59375\n"
     ]
    }
   ],
   "source": [
    "X_train, Y_train, X_test, Y_test = preprocessing(X_0, Y0, percent=0.6)\n",
    "#classic_lambdas 1e-3, 1e-2, 1e-3\n",
    "for lamb in np.arange(1e-4, 1e-3, 1e-4):\n",
    "    acc_train, acc_test = testing_lambda(X_train, Y_train, X_test, Y_test, \n",
    "                                         lamb=lamb, gamma = 1000,\n",
    "                                         kernel='linear'\n",
    "                                        )\n",
    "    print(\"lamb = {}, acc train = {}, acc_test = {}\".format(lamb, acc_train, acc_test))"
   ]
  },
  {
   "cell_type": "code",
   "execution_count": 6,
   "metadata": {},
   "outputs": [
    {
     "name": "stdout",
     "output_type": "stream",
     "text": [
      "lamb = 0.001, acc train = 0.9158333333333334, acc_test = 0.72875\n",
      "lamb = 0.002, acc train = 0.9775, acc_test = 0.7775\n",
      "lamb = 0.003, acc train = 0.9975, acc_test = 0.815\n",
      "lamb = 0.004, acc train = 1.0, acc_test = 0.83375\n",
      "lamb = 0.005, acc train = 1.0, acc_test = 0.84375\n",
      "lamb = 0.006, acc train = 1.0, acc_test = 0.8475\n",
      "lamb = 0.007, acc train = 1.0, acc_test = 0.8475\n",
      "lamb = 0.008, acc train = 1.0, acc_test = 0.8475\n",
      "lamb = 0.009000000000000001, acc train = 1.0, acc_test = 0.84875\n"
     ]
    }
   ],
   "source": [
    "X_train, Y_train, X_test, Y_test = preprocessing(X_1, Y1, percent=0.6)\n",
    "\n",
    "for lamb in np.arange(1e-3, 1e-2, 1e-3):\n",
    "    acc_train, acc_test = testing_lambda(X_train, Y_train, X_test, Y_test, \n",
    "                                         lamb=lamb, gamma = 1000,\n",
    "                                         kernel='linear'\n",
    "                                        )\n",
    "    print(\"lamb = {}, acc train = {}, acc_test = {}\".format(lamb, acc_train, acc_test))"
   ]
  },
  {
   "cell_type": "code",
   "execution_count": 9,
   "metadata": {},
   "outputs": [],
   "source": [
    "X_train, Y_train, X_test, Y_test = preprocessing(X_2, Y2, percent=0.6)\n",
    "\n",
    "for lamb in np.arange(1e-2, 1e-3, 1e-2):\n",
    "    acc_train, acc_test = testing_lambda(X_train, Y_train, X_test, Y_test, \n",
    "                                         lamb=lamb, gamma = 1000,\n",
    "                                         kernel='linear'\n",
    "                                        )\n",
    "    print(\"lamb = {}, acc train = {}, acc_test = {}\".format(lamb, acc_train, acc_test))"
   ]
  },
  {
   "cell_type": "markdown",
   "metadata": {},
   "source": [
    "### Di-mismatch"
   ]
  },
  {
   "cell_type": "code",
   "execution_count": 23,
   "metadata": {},
   "outputs": [
    {
     "name": "stderr",
     "output_type": "stream",
     "text": [
      "100%|██████████| 64/64 [00:00<00:00, 12561.91it/s]\n",
      "100%|██████████| 256/256 [00:00<00:00, 4174.69it/s]\n",
      "100%|██████████| 1024/1024 [00:00<00:00, 1137.13it/s]\n",
      "100%|██████████| 4096/4096 [00:14<00:00, 275.97it/s]\n",
      "  0%|          | 0/2000 [00:00<?, ?it/s]"
     ]
    },
    {
     "name": "stdout",
     "output_type": "stream",
     "text": [
      "Building Mismatch table for substrings...\n"
     ]
    },
    {
     "name": "stderr",
     "output_type": "stream",
     "text": [
      "100%|██████████| 2000/2000 [00:06<00:00, 297.14it/s]\n",
      "  0%|          | 0/2000 [00:00<?, ?it/s]"
     ]
    },
    {
     "name": "stdout",
     "output_type": "stream",
     "text": [
      "Building Mismatch table for substrings...\n"
     ]
    },
    {
     "name": "stderr",
     "output_type": "stream",
     "text": [
      "100%|██████████| 2000/2000 [00:07<00:00, 261.60it/s]\n",
      "  0%|          | 0/2000 [00:00<?, ?it/s]"
     ]
    },
    {
     "name": "stdout",
     "output_type": "stream",
     "text": [
      "Building Mismatch table for substrings...\n"
     ]
    },
    {
     "name": "stderr",
     "output_type": "stream",
     "text": [
      "100%|██████████| 2000/2000 [00:07<00:00, 269.51it/s]\n"
     ]
    }
   ],
   "source": [
    "diDist = dynDiMismatchDist(6)\n",
    "params = {'k':6, 'm':3, 'diMismatchDist': diDist}\n",
    "\n",
    "X_0, X_1, X_2 = toFeatures(XX, diMismatchFeatures, params)\n",
    "#X_test0, X_test1, X_test2 = toFeatures(XXtest, count_kuplet_k, params)"
   ]
  },
  {
   "cell_type": "code",
   "execution_count": 25,
   "metadata": {},
   "outputs": [
    {
     "name": "stdout",
     "output_type": "stream",
     "text": [
      "lamb = 0.0001, acc train = 0.7766666666666666, acc_test = 0.68\n",
      "lamb = 0.0002, acc train = 0.8158333333333333, acc_test = 0.6975\n",
      "lamb = 0.00030000000000000003, acc train = 0.835, acc_test = 0.705\n",
      "lamb = 0.0004, acc train = 0.8516666666666667, acc_test = 0.7175\n",
      "lamb = 0.0005, acc train = 0.87, acc_test = 0.72125\n",
      "lamb = 0.0006000000000000001, acc train = 0.8766666666666667, acc_test = 0.7325\n",
      "lamb = 0.0007000000000000001, acc train = 0.8825, acc_test = 0.73375\n",
      "lamb = 0.0008, acc train = 0.8908333333333334, acc_test = 0.72875\n",
      "lamb = 0.0009000000000000001, acc train = 0.8966666666666666, acc_test = 0.73125\n"
     ]
    }
   ],
   "source": [
    "X_train, Y_train, X_test, Y_test = preprocessing(X_0, Y0, percent=0.6)\n",
    "#classic_lambdas 1e-3, 1e-2, 1e-3\n",
    "for lamb in np.arange(1e-4, 1e-3, 1e-4):\n",
    "    acc_train, acc_test = testing_lambda(X_train, Y_train, X_test, Y_test, \n",
    "                                         lamb=lamb, gamma = 1000,\n",
    "                                         kernel='linear'\n",
    "                                        )\n",
    "    print(\"lamb = {}, acc train = {}, acc_test = {}\".format(lamb, acc_train, acc_test))"
   ]
  },
  {
   "cell_type": "code",
   "execution_count": 26,
   "metadata": {},
   "outputs": [
    {
     "name": "stdout",
     "output_type": "stream",
     "text": [
      "lamb = 0.0001, acc train = 0.8683333333333333, acc_test = 0.8075\n",
      "lamb = 0.0002, acc train = 0.9, acc_test = 0.8375\n",
      "lamb = 0.00030000000000000003, acc train = 0.91, acc_test = 0.85125\n",
      "lamb = 0.0004, acc train = 0.925, acc_test = 0.84375\n",
      "lamb = 0.0005, acc train = 0.9366666666666666, acc_test = 0.8475\n",
      "lamb = 0.0006000000000000001, acc train = 0.9441666666666667, acc_test = 0.85625\n",
      "lamb = 0.0007000000000000001, acc train = 0.9475, acc_test = 0.85\n",
      "lamb = 0.0008, acc train = 0.9516666666666667, acc_test = 0.85\n",
      "lamb = 0.0009000000000000001, acc train = 0.9525, acc_test = 0.84625\n"
     ]
    }
   ],
   "source": [
    "X_train, Y_train, X_test, Y_test = preprocessing(X_1, Y1, percent=0.6)\n",
    "#classic_lambdas 1e-3, 1e-2, 1e-3\n",
    "for lamb in np.arange(1e-4, 1e-3, 1e-4):\n",
    "    acc_train, acc_test = testing_lambda(X_train, Y_train, X_test, Y_test, \n",
    "                                         lamb=lamb, gamma = 1000,\n",
    "                                         kernel='linear'\n",
    "                                        )\n",
    "    print(\"lamb = {}, acc train = {}, acc_test = {}\".format(lamb, acc_train, acc_test))"
   ]
  },
  {
   "cell_type": "code",
   "execution_count": 22,
   "metadata": {},
   "outputs": [
    {
     "name": "stdout",
     "output_type": "stream",
     "text": [
      "lamb = 0.001, acc train = 0.8341666666666666, acc_test = 0.64625\n",
      "lamb = 0.002, acc train = 0.92, acc_test = 0.6425\n",
      "lamb = 0.003, acc train = 0.9583333333333334, acc_test = 0.6275\n",
      "lamb = 0.004, acc train = 0.9808333333333333, acc_test = 0.6225\n",
      "lamb = 0.005, acc train = 0.9908333333333333, acc_test = 0.61125\n",
      "lamb = 0.006, acc train = 0.9958333333333333, acc_test = 0.6\n",
      "lamb = 0.007, acc train = 0.9991666666666666, acc_test = 0.60125\n",
      "lamb = 0.008, acc train = 0.9991666666666666, acc_test = 0.6\n",
      "lamb = 0.009000000000000001, acc train = 1.0, acc_test = 0.60375\n"
     ]
    }
   ],
   "source": [
    "X_train, Y_train, X_test, Y_test = preprocessing(X_2, Y2, percent=0.6)\n",
    "#classic_lambdas 1e-3, 1e-2, 1e-3\n",
    "for lamb in np.arange(1e-3, 1e-2, 1e-3):\n",
    "    acc_train, acc_test = testing_lambda(X_train, Y_train, X_test, Y_test, \n",
    "                                         lamb=lamb, gamma = 1000,\n",
    "                                         kernel='linear'\n",
    "                                        )\n",
    "    print(\"lamb = {}, acc train = {}, acc_test = {}\".format(lamb, acc_train, acc_test))"
   ]
  },
  {
   "cell_type": "markdown",
   "metadata": {},
   "source": [
    "### Concatenated kspectrum"
   ]
  },
  {
   "cell_type": "code",
   "execution_count": 17,
   "metadata": {},
   "outputs": [
    {
     "name": "stderr",
     "output_type": "stream",
     "text": [
      "100%|██████████| 2000/2000 [00:00<00:00, 79025.24it/s]\n",
      "100%|██████████| 2000/2000 [00:00<00:00, 83599.33it/s]\n",
      "100%|██████████| 2000/2000 [00:00<00:00, 73571.37it/s]\n",
      "100%|██████████| 2000/2000 [00:00<00:00, 24195.86it/s]\n",
      "100%|██████████| 2000/2000 [00:00<00:00, 25917.16it/s]\n",
      "100%|██████████| 2000/2000 [00:00<00:00, 24725.46it/s]\n",
      "100%|██████████| 2000/2000 [00:00<00:00, 2061.75it/s]\n",
      "100%|██████████| 2000/2000 [00:00<00:00, 2098.50it/s]\n",
      "100%|██████████| 2000/2000 [00:00<00:00, 2117.28it/s]\n",
      "100%|██████████| 2000/2000 [00:12<00:00, 157.62it/s]\n",
      "100%|██████████| 2000/2000 [00:12<00:00, 156.56it/s]\n",
      "100%|██████████| 2000/2000 [00:13<00:00, 148.14it/s]\n"
     ]
    }
   ],
   "source": [
    "X_0, X_1, X_2 = toFeatures(XX, count_kuplet_k, {'k':2})\n",
    "klist = [3,5,7]\n",
    "for k in klist:\n",
    "    params = {'k':k}\n",
    "    xx_0, xx_1, xx_2 = toFeatures(XX, count_kuplet_k, params)\n",
    "    X_0 = np.concatenate((X_0, xx_0), axis = 1)\n",
    "    X_1 = np.concatenate((X_1, xx_1), axis = 1)\n",
    "    X_2 = np.concatenate((X_2, xx_2), axis = 1)\n"
   ]
  },
  {
   "cell_type": "code",
   "execution_count": 18,
   "metadata": {},
   "outputs": [
    {
     "name": "stdout",
     "output_type": "stream",
     "text": [
      "lamb = 0.001, acc train = 0.8833333333333333, acc_test = 0.71875\n",
      "lamb = 0.002, acc train = 0.9466666666666667, acc_test = 0.73125\n",
      "lamb = 0.003, acc train = 0.9675, acc_test = 0.72625\n",
      "lamb = 0.004, acc train = 0.9866666666666667, acc_test = 0.71375\n",
      "lamb = 0.005, acc train = 0.9925, acc_test = 0.71875\n",
      "lamb = 0.006, acc train = 0.9958333333333333, acc_test = 0.71875\n",
      "lamb = 0.007, acc train = 0.9975, acc_test = 0.72\n",
      "lamb = 0.008, acc train = 1.0, acc_test = 0.7225\n",
      "lamb = 0.009000000000000001, acc train = 1.0, acc_test = 0.72625\n"
     ]
    }
   ],
   "source": [
    "X_train, Y_train, X_test, Y_test = preprocessing(X_0, Y0, percent=0.6)\n",
    "#classic_lambdas 1e-3, 1e-2, 1e-3\n",
    "for lamb in np.arange(1e-3, 1e-2, 1e-3):\n",
    "    acc_train, acc_test = testing_lambda(X_train, Y_train, X_test, Y_test, \n",
    "                                         lamb=lamb, gamma = 1000,\n",
    "                                         kernel='linear'\n",
    "                                        )\n",
    "    print(\"lamb = {}, acc train = {}, acc_test = {}\".format(lamb, acc_train, acc_test))"
   ]
  },
  {
   "cell_type": "code",
   "execution_count": 19,
   "metadata": {},
   "outputs": [
    {
     "name": "stdout",
     "output_type": "stream",
     "text": [
      "lamb = 0.001, acc train = 0.9425, acc_test = 0.845\n",
      "lamb = 0.002, acc train = 0.9675, acc_test = 0.8575\n",
      "lamb = 0.003, acc train = 0.985, acc_test = 0.8625\n",
      "lamb = 0.004, acc train = 0.9958333333333333, acc_test = 0.86\n",
      "lamb = 0.005, acc train = 1.0, acc_test = 0.85875\n",
      "lamb = 0.006, acc train = 1.0, acc_test = 0.85625\n",
      "lamb = 0.007, acc train = 1.0, acc_test = 0.8525\n",
      "lamb = 0.008, acc train = 1.0, acc_test = 0.8525\n",
      "lamb = 0.009000000000000001, acc train = 1.0, acc_test = 0.8525\n"
     ]
    }
   ],
   "source": [
    "X_train, Y_train, X_test, Y_test = preprocessing(X_1, Y1, percent=0.6)\n",
    "#classic_lambdas 1e-3, 1e-2, 1e-3\n",
    "for lamb in np.arange(1e-3, 1e-2, 1e-3):\n",
    "    acc_train, acc_test = testing_lambda(X_train, Y_train, X_test, Y_test, \n",
    "                                         lamb=lamb, gamma = 1000,\n",
    "                                         kernel='linear'\n",
    "                                        )\n",
    "    print(\"lamb = {}, acc train = {}, acc_test = {}\".format(lamb, acc_train, acc_test))"
   ]
  },
  {
   "cell_type": "code",
   "execution_count": 21,
   "metadata": {},
   "outputs": [
    {
     "name": "stdout",
     "output_type": "stream",
     "text": [
      "lamb = 0.0001, acc train = 0.6225, acc_test = 0.59\n",
      "lamb = 0.0002, acc train = 0.6925, acc_test = 0.6175\n",
      "lamb = 0.00030000000000000003, acc train = 0.7308333333333333, acc_test = 0.63625\n",
      "lamb = 0.0004, acc train = 0.7558333333333334, acc_test = 0.6425\n",
      "lamb = 0.0005, acc train = 0.7716666666666666, acc_test = 0.64875\n",
      "lamb = 0.0006000000000000001, acc train = 0.7866666666666666, acc_test = 0.655\n",
      "lamb = 0.0007000000000000001, acc train = 0.8025, acc_test = 0.65375\n",
      "lamb = 0.0008, acc train = 0.8175, acc_test = 0.65\n",
      "lamb = 0.0009000000000000001, acc train = 0.8333333333333334, acc_test = 0.645\n"
     ]
    }
   ],
   "source": [
    "X_train, Y_train, X_test, Y_test = preprocessing(X_2, Y2, percent=0.6)\n",
    "#classic_lambdas 1e-3, 1e-2, 1e-3\n",
    "for lamb in np.arange(1e-4, 1e-3, 1e-4):\n",
    "    acc_train, acc_test = testing_lambda(X_train, Y_train, X_test, Y_test, \n",
    "                                         lamb=lamb, gamma = 1000,\n",
    "                                         kernel='linear'\n",
    "                                        )\n",
    "    print(\"lamb = {}, acc train = {}, acc_test = {}\".format(lamb, acc_train, acc_test))"
   ]
  },
  {
   "cell_type": "markdown",
   "metadata": {},
   "source": [
    "## Computing final results"
   ]
  },
  {
   "cell_type": "code",
   "execution_count": 4,
   "metadata": {},
   "outputs": [
    {
     "name": "stderr",
     "output_type": "stream",
     "text": [
      "100%|██████████| 2000/2000 [00:03<00:00, 605.39it/s]\n",
      "100%|██████████| 1000/1000 [00:01<00:00, 597.11it/s]\n",
      "100%|██████████| 2000/2000 [00:17<00:00, 115.04it/s]\n",
      "100%|██████████| 1000/1000 [00:08<00:00, 111.48it/s]\n",
      "100%|██████████| 2000/2000 [00:18<00:00, 107.43it/s]\n",
      "100%|██████████| 1000/1000 [00:09<00:00, 109.32it/s]\n"
     ]
    },
    {
     "name": "stdout",
     "output_type": "stream",
     "text": [
      "fitting TF0....\n",
      "fitting TF1....\n",
      "fitting TF2....\n"
     ]
    },
    {
     "ename": "NameError",
     "evalue": "name 'X_2' is not defined",
     "output_type": "error",
     "traceback": [
      "\u001b[0;31m---------------------------------------------------------------------------\u001b[0m",
      "\u001b[0;31mNameError\u001b[0m                                 Traceback (most recent call last)",
      "\u001b[0;32m<ipython-input-4-dafdd04add4e>\u001b[0m in \u001b[0;36m<module>\u001b[0;34m()\u001b[0m\n\u001b[1;32m     21\u001b[0m \u001b[0;34m\u001b[0m\u001b[0m\n\u001b[1;32m     22\u001b[0m \u001b[0mprint\u001b[0m\u001b[0;34m(\u001b[0m\u001b[0;34m'fitting TF2....'\u001b[0m\u001b[0;34m)\u001b[0m\u001b[0;34m\u001b[0m\u001b[0m\n\u001b[0;32m---> 23\u001b[0;31m \u001b[0mK2\u001b[0m\u001b[0;34m,\u001b[0m \u001b[0mKtest2\u001b[0m \u001b[0;34m=\u001b[0m \u001b[0mkernelize\u001b[0m\u001b[0;34m(\u001b[0m\u001b[0mX_2\u001b[0m\u001b[0;34m,\u001b[0m \u001b[0mX_test2\u001b[0m\u001b[0;34m)\u001b[0m\u001b[0;34m\u001b[0m\u001b[0m\n\u001b[0m\u001b[1;32m     24\u001b[0m \u001b[0mw2\u001b[0m\u001b[0;34m,\u001b[0m \u001b[0mbias2\u001b[0m \u001b[0;34m=\u001b[0m \u001b[0mfit\u001b[0m\u001b[0;34m(\u001b[0m\u001b[0mK2\u001b[0m\u001b[0;34m,\u001b[0m \u001b[0mY2\u001b[0m\u001b[0;34m,\u001b[0m \u001b[0mlamb\u001b[0m\u001b[0;34m=\u001b[0m\u001b[0;36m7e-4\u001b[0m\u001b[0;34m,\u001b[0m \u001b[0mverbose\u001b[0m\u001b[0;34m=\u001b[0m\u001b[0;32mFalse\u001b[0m\u001b[0;34m)\u001b[0m\u001b[0;34m\u001b[0m\u001b[0m\n\u001b[1;32m     25\u001b[0m \u001b[0mY_pred2\u001b[0m \u001b[0;34m=\u001b[0m \u001b[0mpredict\u001b[0m\u001b[0;34m(\u001b[0m\u001b[0mw2\u001b[0m\u001b[0;34m,\u001b[0m \u001b[0mbias2\u001b[0m\u001b[0;34m,\u001b[0m \u001b[0mKtest2\u001b[0m\u001b[0;34m)\u001b[0m\u001b[0;34m\u001b[0m\u001b[0m\n",
      "\u001b[0;31mNameError\u001b[0m: name 'X_2' is not defined"
     ]
    }
   ],
   "source": [
    "FOLD = 32\n",
    "X_0 = count_kuplet_k(X_raw0, k=6)\n",
    "X_test0 = count_kuplet_k(X_test0, k=6)\n",
    "\n",
    "X_1 = to_k_fold(X_raw1, fold=FOLD)\n",
    "X_test1 = to_k_fold(X_test1, fold=FOLD)\n",
    "\n",
    "X_2 = to_k_fold(X_raw2, fold=FOLD)\n",
    "X_test2 = to_k_fold(X_test2, fold=FOLD)\n",
    "\n",
    "# Train and predict for the three TFs\n",
    "print('fitting TF0....')\n",
    "K0, Ktest0 = kernelize(X_0, X_test0)\n",
    "w0, bias0 = fit(K0, Y0, lamb=1.2e-4, verbose=False)\n",
    "Y_pred0 = predict(w0, bias0, Ktest0)\n",
    "\n",
    "print('fitting TF1....')\n",
    "K1, Ktest1 = kernelize(X_1, X_test1)\n",
    "w1, bias1 = fit(K1, Y1, lamb=3e-5, verbose=False)\n",
    "Y_pred1 = predict(w1, bias1, Ktest1)\n",
    "\n",
    "print('fitting TF2....')\n",
    "K2, Ktest2 = kernelize(X_2, X_test2)\n",
    "w2, bias2 = fit(K2, Y2, lamb=7e-4, verbose=False)\n",
    "Y_pred2 = predict(w2, bias2, Ktest2)"
   ]
  },
  {
   "cell_type": "code",
   "execution_count": 14,
   "metadata": {},
   "outputs": [],
   "source": [
    "test0 = np.transpose(Y_pred0)\n",
    "test1 = np.transpose(Y_pred1)\n",
    "test2 = np.transpose(Y_pred2)"
   ]
  },
  {
   "cell_type": "code",
   "execution_count": 15,
   "metadata": {},
   "outputs": [],
   "source": [
    "bound = np.concatenate((test0, test1, test2), axis=0).reshape((-1)).astype(int)\n",
    "final = pd.DataFrame(np.arange(3000), columns=['Id'])\n",
    "final['Bound'] = bound"
   ]
  },
  {
   "cell_type": "code",
   "execution_count": 17,
   "metadata": {},
   "outputs": [],
   "source": [
    "#final"
   ]
  },
  {
   "cell_type": "code",
   "execution_count": null,
   "metadata": {},
   "outputs": [],
   "source": []
  }
 ],
 "metadata": {
  "kernelspec": {
   "display_name": "Python 3",
   "language": "python",
   "name": "python3"
  },
  "language_info": {
   "codemirror_mode": {
    "name": "ipython",
    "version": 3
   },
   "file_extension": ".py",
   "mimetype": "text/x-python",
   "name": "python",
   "nbconvert_exporter": "python",
   "pygments_lexer": "ipython3",
   "version": "3.5.2"
  }
 },
 "nbformat": 4,
 "nbformat_minor": 2
}
