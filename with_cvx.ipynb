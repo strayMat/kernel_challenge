{
 "cells": [
  {
   "cell_type": "code",
   "execution_count": 1,
   "metadata": {},
   "outputs": [],
   "source": [
    "import pandas as pd\n",
    "import numpy as np\n",
    "\n",
    "import matplotlib.pyplot as plt\n",
    "from matplotlib import cm\n",
    "from numpy import linalg as LA\n",
    "from tqdm import tqdm\n",
    "\n",
    "from sklearn import svm\n",
    "\n",
    "from kernel_functions import gram_phi, count_kuplet_k, count_kuplet_3\n",
    "from preprocessing import preprocessing"
   ]
  },
  {
   "cell_type": "code",
   "execution_count": 2,
   "metadata": {
    "scrolled": true
   },
   "outputs": [
    {
     "name": "stdout",
     "output_type": "stream",
     "text": [
      "numerical features shape (2000, 50)\n",
      "numerical features first row [ 0.          0.02173913  0.01086957  0.          0.02173913  0.0326087   0.\n",
      "  0.0326087   0.06521739  0.01086957  0.          0.          0.\n",
      "  0.05434783  0.01086957  0.          0.          0.04347826  0.\n",
      "  0.08695652  0.0326087   0.01086957  0.0326087   0.01086957  0.01086957\n",
      "  0.          0.          0.          0.02173913  0.          0.02173913\n",
      "  0.02173913  0.01086957  0.02173913  0.02173913  0.0326087   0.01086957\n",
      "  0.01086957  0.08695652  0.04347826  0.01086957  0.01086957  0.0326087\n",
      "  0.01086957  0.04347826  0.01086957  0.0326087   0.0326087   0.02173913\n",
      "  0.        ]\n",
      "sequences shape:  (2000,)\n",
      "sequence first row:  CGGGCCTCCTCCAGGCTCAGAATCGACCCCCCCCCATCCTGATAGACCACAACGAAAGCCGTAGCGACGGCCGCAGGAGCTGGCGCGACAGCCCAGAGCTC\n",
      "labels shape (2000,)\n"
     ]
    }
   ],
   "source": [
    "# load all data as the numpy array type\n",
    "X = pd.read_csv('data/Xtr1_mat50.csv', sep=' ', header=None).values\n",
    "X_raw = pd.read_csv('data/Xtr1.csv', sep=' ', header=None).values\n",
    "# transform to an array of string\n",
    "X_raw = np.array([x[0] for x in X_raw])\n",
    "Y = pd.read_csv('data/Ytr1.csv', sep=',', header=0)['Bound'].values\n",
    "\n",
    "print('numerical features shape', X.shape)\n",
    "print('numerical features first row', X[0])\n",
    "print('sequences shape: ', X_raw.shape)\n",
    "print('sequence first row: ', X_raw[0])\n",
    "print('labels shape', Y.shape)"
   ]
  },
  {
   "cell_type": "code",
   "execution_count": 3,
   "metadata": {
    "scrolled": true
   },
   "outputs": [
    {
     "name": "stdout",
     "output_type": "stream",
     "text": [
      "train shape (1600,)\n",
      "test shape (400,)\n"
     ]
    }
   ],
   "source": [
    "X_train, Y_train, X_test, Y_test = preprocessing(X_raw, Y)\n",
    "print('train shape', X_train.shape)\n",
    "print('test shape', X_test.shape)\n"
   ]
  },
  {
   "cell_type": "code",
   "execution_count": 6,
   "metadata": {},
   "outputs": [],
   "source": [
    "from kernel import *\n",
    "\n",
    "def solve_svm_kernel(X_train, X_test, Y_train, Y_test, kernel='k_gram_gaussian', k=3, lamb=0.1, gamma=0.1, kktreg=1e-9):\n",
    "    \"\"\"\n",
    "    kernel in [k_gram, k_gram_gaussian]\n",
    "    \"\"\"\n",
    "    if kernel in ['k_gram', 'k_gram_gaussian']:\n",
    "        if k == 3:\n",
    "            X_train_process = np.array([count_kuplet_3(x) for x in X_train])\n",
    "            X_test_process = np.array([count_kuplet_3(x) for x in X_test])\n",
    "        else:\n",
    "            X_train_process = np.array([count_kuplet_k(x,k=k) for x in X_train])\n",
    "            X_test_process = np.array([count_kuplet_k(x,k=k) for x in X_test])\n",
    "        \n",
    "        # Adding 1 for the sake of the bias\n",
    "        X_train_process = np.concatenate((X_train_process, np.ones((X_train_process.shape[0], 1))), axis=1)\n",
    "        X_test_process = np.concatenate((X_test_process, np.ones((X_test_process.shape[0], 1))), axis=1)\n",
    "        \n",
    "    if kernel==\"k_gram\":\n",
    "        # Computing the Gram-Matrix\n",
    "        K = X_train_process.dot(X_train_process.T)\n",
    "        w = solve_svm(K, Y_train, lamb=lamb, kktreg=kktreg)\n",
    "        K_test = np.dot(X_test_process, np.transpose(X_train_process))\n",
    "    \n",
    "    if kernel==\"k_gram_gaussian\":\n",
    "        # Computing the Gram-Matrix\n",
    "        K = np.array([LA.norm(X_train_process - y, axis=1) for y in X_train_process])\n",
    "        K = np.exp(-K/gamma)\n",
    "        # K = X_train_process.dot(X_train_process.T)\n",
    "        w = solve_svm(K, Y_train, lamb=lamb)\n",
    "        K_test = np.array([LA.norm(X_train_process - y, axis=1) for y in X_test_process])\n",
    "        K_test = np.exp(-K_test/gamma)\n",
    "    \n",
    "    n = K.shape[0]\n",
    "    Y_predicted = np.dot(K_test, w[:n]) > 0.\n",
    "    result = ((Y_test+1)/ 2 == np.transpose(Y_predicted))\n",
    "    Y_predicted_train = np.dot(K, w[:n]) > 0.\n",
    "    result_train = ((Y_train+1)/ 2 == np.transpose(Y_predicted_train))\n",
    "    if np.alltrue(Y_predicted):\n",
    "        print(\"Toute les valeurs sont TRUE\")\n",
    "    if np.alltrue(Y_predicted==False):\n",
    "        print(\"Toute les valeurs sont FALSE\")\n",
    "    return np.mean(result), np.mean(result_train)\n",
    "\n",
    "    "
   ]
  },
  {
   "cell_type": "code",
   "execution_count": 15,
   "metadata": {},
   "outputs": [
    {
     "name": "stdout",
     "output_type": "stream",
     "text": [
      "     pcost       dcost       gap    pres   dres\n",
      " 0:  3.8091e-01  5.2402e+02  1e+04  3e+00  1e+06\n",
      " 1:  2.4769e+00 -1.8882e+02  2e+02  4e-02  1e+04\n",
      " 2:  2.4345e+00 -8.2675e+00  1e+01  2e-03  7e+02\n",
      " 3:  1.8661e+00 -3.1729e-01  2e+00  2e-04  7e+01\n",
      " 4:  6.8717e-01  4.6789e-01  2e-01  6e-06  2e+00\n",
      " 5:  6.0234e-01  5.4354e-01  6e-02  1e-06  5e-01\n",
      " 6:  5.8274e-01  5.6256e-01  2e-02  4e-07  1e-01\n",
      " 7:  5.7657e-01  5.6861e-01  8e-03  9e-08  3e-02\n",
      " 8:  5.7346e-01  5.7142e-01  2e-03  2e-08  7e-03\n",
      " 9:  5.7269e-01  5.7212e-01  6e-04  2e-09  1e-03\n",
      "10:  5.7243e-01  5.7235e-01  8e-05  9e-10  1e-04\n",
      "11:  5.7240e-01  5.7239e-01  6e-06  1e-09  9e-06\n",
      "12:  5.7239e-01  5.7239e-01  3e-07  1e-09  4e-07\n",
      "13:  5.7239e-01  5.7239e-01  4e-09  1e-09  6e-09\n",
      "Optimal solution found.\n",
      "accuracy for train : 0.768125\n",
      "accuracy for test : 0.7675\n"
     ]
    }
   ],
   "source": [
    "acc_test, acc_train = solve_svm_kernel(X_train, \n",
    "                                       X_test, \n",
    "                                       Y_train, \n",
    "                                       Y_test, \n",
    "                                       kernel='k_gram', \n",
    "                                       k=3, lamb=.05, gamma=3.)\n",
    "\n",
    "print('accuracy for train : {}'.format(acc_train))\n",
    "print('accuracy for test : {}'.format(acc_test))\n",
    "\n"
   ]
  },
  {
   "cell_type": "code",
   "execution_count": null,
   "metadata": {},
   "outputs": [],
   "source": []
  }
 ],
 "metadata": {
  "kernelspec": {
   "display_name": "Python [conda env:hackathon]",
   "language": "python",
   "name": "conda-env-hackathon-py"
  },
  "language_info": {
   "codemirror_mode": {
    "name": "ipython",
    "version": 3
   },
   "file_extension": ".py",
   "mimetype": "text/x-python",
   "name": "python",
   "nbconvert_exporter": "python",
   "pygments_lexer": "ipython3",
   "version": "3.4.5"
  }
 },
 "nbformat": 4,
 "nbformat_minor": 2
}
