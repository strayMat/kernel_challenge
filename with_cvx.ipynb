{
 "cells": [
  {
   "cell_type": "code",
   "execution_count": 65,
   "metadata": {},
   "outputs": [],
   "source": [
    "import pandas as pd\n",
    "import numpy as np\n",
    "\n",
    "import matplotlib.pyplot as plt\n",
    "from matplotlib import cm\n",
    "from numpy import linalg as LA\n",
    "from tqdm import tqdm\n",
    "\n",
    "from sklearn import svm\n",
    "\n",
    "from kernel_functions import gram_phi, count_kuplet_k, count_kuplet_3\n",
    "from preprocessing import preprocessing"
   ]
  },
  {
   "cell_type": "code",
   "execution_count": 66,
   "metadata": {
    "scrolled": true
   },
   "outputs": [
    {
     "name": "stdout",
     "output_type": "stream",
     "text": [
      "numerical features shape (2000, 50)\n",
      "numerical features first row [ 0.          0.04347826  0.          0.04347826  0.02173913  0.02173913\n",
      "  0.          0.02173913  0.01086957  0.0326087   0.02173913  0.02173913\n",
      "  0.04347826  0.02173913  0.04347826  0.01086957  0.02173913  0.02173913\n",
      "  0.02173913  0.02173913  0.          0.          0.01086957  0.\n",
      "  0.01086957  0.01086957  0.01086957  0.0326087   0.01086957  0.\n",
      "  0.02173913  0.06521739  0.02173913  0.01086957  0.04347826  0.\n",
      "  0.01086957  0.          0.01086957  0.0326087   0.02173913  0.0326087\n",
      "  0.02173913  0.02173913  0.04347826  0.05434783  0.01086957  0.02173913\n",
      "  0.01086957  0.01086957]\n",
      "sequences shape:  (2000,)\n",
      "sequence first row:  TCCTCAACTTTTATTGGGCCGCTGTGGCACCAGAATCTACGAATGGCGCCCTCTAGAGTTGTGTAAAGAAGTGGCGTCACCTCATTATAAATAAAAGGTTG\n",
      "labels shape (2000,)\n"
     ]
    }
   ],
   "source": [
    "# load all data as the numpy array type\n",
    "X = pd.read_csv('data/Xtr0_mat50.csv', sep=' ', header=None).values\n",
    "X_raw = pd.read_csv('data/Xtr0.csv', sep=' ', header=None).values\n",
    "# transform to an array of string\n",
    "X_raw = X_raw.reshape((-1))\n",
    "Y = pd.read_csv('data/Ytr0.csv', sep=',', header=0)['Bound'].values\n",
    "\n",
    "print('numerical features shape', X.shape)\n",
    "print('numerical features first row', X[0])\n",
    "print('sequences shape: ', X_raw.shape)\n",
    "print('sequence first row: ', X_raw[0])\n",
    "print('labels shape', Y.shape)"
   ]
  },
  {
   "cell_type": "code",
   "execution_count": 67,
   "metadata": {},
   "outputs": [],
   "source": [
    "from kernel import *\n",
    "\n",
    "def solve_svm_kernel(X_train, X_test, Y_train, Y_test, kernel='k_gram_gaussian', k=3, lamb=0.1, gamma=0.1, kktreg=1e-9):\n",
    "    \"\"\"\n",
    "    kernel in [k_gram, k_gram_gaussian]\n",
    "    \"\"\"\n",
    "    if kernel in ['k_gram', 'k_gram_gaussian']:\n",
    "        if k == 3:\n",
    "            X_train_process = np.array([count_kuplet_3(x) for x in X_train])\n",
    "            X_test_process = np.array([count_kuplet_3(x) for x in X_test])\n",
    "        else:\n",
    "            X_train_process = np.array([count_kuplet_k(x,k=k) for x in X_train])\n",
    "            X_test_process = np.array([count_kuplet_k(x,k=k) for x in X_test])\n",
    "        \n",
    "        # Adding 1 for the sake of the bias\n",
    "        X_train_process = np.concatenate((X_train_process, np.ones((X_train_process.shape[0], 1))), axis=1)\n",
    "        X_test_process = np.concatenate((X_test_process, np.ones((X_test_process.shape[0], 1))), axis=1)\n",
    "        \n",
    "    if kernel==\"k_gram\":\n",
    "        # Computing the Gram-Matrix\n",
    "        K = X_train_process.dot(X_train_process.T)\n",
    "        w = solve_svm(K, Y_train, lamb=lamb, kktreg=kktreg)\n",
    "        K_test = np.dot(X_test_process, np.transpose(X_train_process))\n",
    "    \n",
    "    if kernel==\"k_gram_gaussian\":\n",
    "        # Computing the Gram-Matrix\n",
    "        K = np.array([LA.norm(X_train_process - y, axis=1) for y in X_train_process])\n",
    "        K = np.exp(-K/gamma)\n",
    "        # K = X_train_process.dot(X_train_process.T)\n",
    "        w = solve_svm(K, Y_train, lamb=lamb)\n",
    "        K_test = np.array([LA.norm(X_train_process - y, axis=1) for y in X_test_process])\n",
    "        K_test = np.exp(-K_test/gamma)\n",
    "    \n",
    "    n = K.shape[0]\n",
    "    Y_predicted = np.dot(K_test, w[:n]) > 0.\n",
    "    result = ((Y_test+1.)/ 2. == np.transpose(Y_predicted))\n",
    "    Y_predicted_train = np.dot(K, w[:n]) > 0.\n",
    "    result_train = ((Y_train+1)/ 2 == np.transpose(Y_predicted_train))\n",
    "    if np.alltrue(Y_predicted):\n",
    "        print(\"Toute les valeurs sont TRUE\")\n",
    "    if np.alltrue(Y_predicted==False):\n",
    "        print(\"Toute les valeurs sont FALSE\")\n",
    "    return np.mean(result), np.mean(result_train)\n",
    "\n",
    "    "
   ]
  },
  {
   "cell_type": "code",
   "execution_count": null,
   "metadata": {},
   "outputs": [
    {
     "name": "stdout",
     "output_type": "stream",
     "text": [
      "train shape (1600,)\n",
      "test shape (400,)\n",
      "     pcost       dcost       gap    pres   dres\n",
      " 0:  3.9190e-01  6.3001e+02  1e+04  3e+00  2e+05\n",
      " 1:  2.3523e+00 -1.1935e+02  1e+02  3e-02  2e+03\n",
      " 2:  2.3054e+00 -2.4594e+00  5e+00  7e-04  5e+01\n",
      " 3:  1.3713e+00  3.9868e-01  1e+00  6e-05  5e+00\n",
      " 4:  7.5952e-01  6.0768e-01  2e-01  1e-05  7e-01\n",
      " 5:  7.0354e-01  6.5582e-01  5e-02  3e-06  2e-01\n",
      " 6:  6.8799e-01  6.6861e-01  2e-02  9e-07  6e-02\n",
      " 7:  6.8178e-01  6.7381e-01  8e-03  2e-07  2e-02\n",
      " 8:  6.7874e-01  6.7633e-01  2e-03  5e-08  4e-03\n",
      " 9:  6.7799e-01  6.7696e-01  1e-03  2e-08  1e-03\n",
      "10:  6.7761e-01  6.7728e-01  3e-04  4e-09  3e-04\n",
      "11:  6.7749e-01  6.7739e-01  1e-04  1e-09  8e-05\n",
      "12:  6.7747e-01  6.7740e-01  7e-05  6e-10  3e-05\n"
     ]
    }
   ],
   "source": [
    "# With Cross validation\n",
    "\n",
    "X_train, Y_train, X_test, Y_test = preprocessing(X_raw, Y)\n",
    "print('train shape', X_train.shape)\n",
    "print('test shape', X_test.shape)\n",
    "\n",
    "acc_test, acc_train = solve_svm_kernel(X_train, \n",
    "                                       X_test, \n",
    "                                       Y_train, \n",
    "                                       Y_test, \n",
    "                                       kernel='k_gram', \n",
    "                                       k=3, lamb=.000005, gamma=3.)\n",
    "\n",
    "print('accuracy for train : {}'.format(acc_train))\n",
    "print('accuracy for test : {}'.format(acc_test))\n",
    "\n"
   ]
  },
  {
   "cell_type": "code",
   "execution_count": 63,
   "metadata": {
    "scrolled": false
   },
   "outputs": [],
   "source": [
    "\n",
    "\n",
    "def solve_svm_test(X_train, X_test, Y_train, kernel='k_gram_gaussian', k=3, lamb=0.1, gamma=0.1, kktreg=1e-9):\n",
    "    \"\"\"\n",
    "    kernel in [k_gram, k_gram_gaussian]\n",
    "    \"\"\"\n",
    "    if kernel in ['k_gram', 'k_gram_gaussian']:\n",
    "        if k == 3:\n",
    "            X_train_process = np.array([count_kuplet_3(x) for x in X_train])\n",
    "            X_test_process = np.array([count_kuplet_3(x) for x in X_test])\n",
    "        else:\n",
    "            X_train_process = np.array([count_kuplet_k(x,k=k) for x in X_train])\n",
    "            X_test_process = np.array([count_kuplet_k(x,k=k) for x in X_test])\n",
    "        \n",
    "        # Adding 1 for the sake of the bias\n",
    "        X_train_process = np.concatenate((X_train_process, np.ones((X_train_process.shape[0], 1))), axis=1)\n",
    "        X_test_process = np.concatenate((X_test_process, np.ones((X_test_process.shape[0], 1))), axis=1)\n",
    "        \n",
    "    if kernel==\"k_gram\":\n",
    "        # Computing the Gram-Matrix\n",
    "        K = X_train_process.dot(X_train_process.T)\n",
    "        w = solve_svm(K, Y_train, lamb=lamb, kktreg=kktreg)\n",
    "        K_test = np.dot(X_test_process, np.transpose(X_train_process))\n",
    "    \n",
    "    if kernel==\"k_gram_gaussian\":\n",
    "        # Computing the Gram-Matrix\n",
    "        K = np.array([LA.norm(X_train_process - y, axis=1) for y in X_train_process])\n",
    "        K = np.exp(-K/gamma)\n",
    "        # K = X_train_process.dot(X_train_process.T)\n",
    "        w = solve_svm(K, Y_train, lamb=lamb)\n",
    "        K_test = np.array([LA.norm(X_train_process - y, axis=1) for y in X_test_process])\n",
    "        K_test = np.exp(-K_test/gamma)\n",
    "    \n",
    "    n = K.shape[0]\n",
    "    Y_predicted = np.dot(K_test, w[:n]) > 0.\n",
    "    Y_predicted = (Y_predicted + 0.)\n",
    "    Y_predicted_train = np.dot(K, w[:n]) > 0.\n",
    "    result_train = ((Y_train+1.)/ 2. == np.transpose(Y_predicted_train))\n",
    "    print('accuracy on train : {}'.format(np.mean(result_train)))\n",
    "    # result = ((Y_test+1)/ 2 == np.transpose(Y_predicted))\n",
    "    \n",
    "    return np.transpose(Y_predicted)\n"
   ]
  },
  {
   "cell_type": "code",
   "execution_count": 64,
   "metadata": {},
   "outputs": [
    {
     "name": "stdout",
     "output_type": "stream",
     "text": [
      "train shape : (2000,)\n",
      "train shape 2 : (2000,)\n",
      "test shape : (1000,)\n",
      "     pcost       dcost       gap    pres   dres\n",
      " 0:  4.9121e-01  9.7050e+02  1e+04  3e+00  2e+05\n",
      " 1:  2.2651e+00 -1.2016e+02  1e+02  3e-02  2e+03\n",
      " 2:  2.2372e+00 -1.5330e+00  4e+00  5e-04  3e+01\n",
      " 3:  1.2963e+00  7.7630e-01  5e-01  3e-06  2e-01\n",
      " 4:  1.0060e+00  8.6479e-01  1e-01  7e-07  4e-02\n",
      " 5:  9.4800e-01  8.9451e-01  5e-02  2e-07  1e-02\n",
      " 6:  9.2826e-01  9.0596e-01  2e-02  8e-08  5e-03\n",
      " 7:  9.1899e-01  9.1176e-01  7e-03  2e-08  1e-03\n",
      " 8:  9.1611e-01  9.1362e-01  2e-03  5e-09  3e-04\n",
      " 9:  9.1520e-01  9.1427e-01  9e-04  1e-09  9e-05\n",
      "10:  9.1481e-01  9.1456e-01  3e-04  8e-10  2e-05\n",
      "11:  9.1471e-01  9.1464e-01  7e-05  8e-10  2e-10\n",
      "12:  9.1468e-01  9.1467e-01  3e-06  1e-09  6e-11\n",
      "13:  9.1468e-01  9.1468e-01  5e-08  1e-09  2e-11\n",
      "Optimal solution found.\n",
      "accuracy on train : 0.557\n"
     ]
    }
   ],
   "source": [
    "X_raw = pd.read_csv('data/Xtr0.csv', sep=' ', header=None).values.reshape((-1))\n",
    "Y = pd.read_csv('data/Ytr0.csv', sep=',', header=0)['Bound'].values\n",
    "Y_train = (Y[:] - 0.5) * 2\n",
    "X_test = pd.read_csv('data/Xte0.csv', sep=' ', header=None).values.reshape((-1))\n",
    "\n",
    "print('train shape : {}'.format(X_train.shape))\n",
    "print('train shape 2 : {}'.format(Y_train.shape))\n",
    "print('test shape : {}'.format(X_test.shape))\n",
    "\n",
    "Y_predict0 = solve_svm_test(X_train, \n",
    "                           X_test, \n",
    "                           Y_train, \n",
    "                           kernel='k_gram', \n",
    "                           k=3, lamb=.001, gamma=3.)"
   ]
  },
  {
   "cell_type": "code",
   "execution_count": 36,
   "metadata": {},
   "outputs": [
    {
     "name": "stdout",
     "output_type": "stream",
     "text": [
      "train shape : (2000,)\n",
      "train shape 2 : (2000,)\n",
      "test shape : (1000,)\n",
      "     pcost       dcost       gap    pres   dres\n",
      " 0:  3.2913e-01  6.5896e+02  2e+04  3e+00  2e+06\n",
      " 1:  2.5184e+00 -1.9498e+02  2e+02  3e-02  2e+04\n",
      " 2:  2.4821e+00 -9.1002e+00  1e+01  2e-03  8e+02\n",
      " 3:  1.9370e+00 -6.8985e-01  3e+00  2e-04  1e+02\n",
      " 4:  8.0824e-01  4.0574e-01  4e-01  1e-05  6e+00\n",
      " 5:  5.9208e-01  4.8932e-01  1e-01  3e-06  1e+00\n",
      " 6:  5.5668e-01  5.1376e-01  4e-02  1e-06  5e-01\n",
      " 7:  5.4229e-01  5.2354e-01  2e-02  3e-07  2e-01\n",
      " 8:  5.3606e-01  5.2789e-01  8e-03  1e-07  7e-02\n",
      " 9:  5.3319e-01  5.2986e-01  3e-03  3e-08  2e-02\n",
      "10:  5.3210e-01  5.3071e-01  1e-03  1e-08  6e-03\n",
      "11:  5.3163e-01  5.3107e-01  6e-04  1e-09  8e-04\n",
      "12:  5.3140e-01  5.3127e-01  1e-04  1e-09  2e-05\n",
      "13:  5.3135e-01  5.3131e-01  4e-05  1e-09  7e-06\n",
      "14:  5.3133e-01  5.3133e-01  5e-06  1e-09  5e-07\n",
      "15:  5.3133e-01  5.3133e-01  3e-07  1e-09  8e-12\n",
      "Optimal solution found.\n"
     ]
    }
   ],
   "source": [
    "X_raw = pd.read_csv('data/Xtr1.csv', sep=' ', header=None).values.reshape((-1))\n",
    "Y = pd.read_csv('data/Ytr1.csv', sep=',', header=0)['Bound'].values\n",
    "Y_train = (Y[:] - 0.5) * 2\n",
    "X_test = pd.read_csv('data/Xte1.csv', sep=' ', header=None).values.reshape((-1))\n",
    "\n",
    "print('train shape : {}'.format(X_train.shape))\n",
    "print('train shape 2 : {}'.format(Y_train.shape))\n",
    "print('test shape : {}'.format(X_test.shape))\n",
    "\n",
    "Y_predict1 = solve_svm_test(X_train, \n",
    "                           X_test, \n",
    "                           Y_train, \n",
    "                           kernel='k_gram', \n",
    "                           k=3, lamb=.001, gamma=3.)"
   ]
  },
  {
   "cell_type": "code",
   "execution_count": 37,
   "metadata": {},
   "outputs": [
    {
     "name": "stdout",
     "output_type": "stream",
     "text": [
      "train shape : (2000,)\n",
      "train shape 2 : (2000,)\n",
      "test shape : (1000,)\n",
      "     pcost       dcost       gap    pres   dres\n",
      " 0:  4.8686e-01  9.7281e+02  1e+04  2e+00  6e+04\n",
      " 1:  2.2059e+00 -1.1041e+02  1e+02  2e-02  6e+02\n",
      " 2:  2.1801e+00 -9.0260e-01  3e+00  4e-04  9e+00\n",
      " 3:  1.1754e+00  7.9545e-01  4e-01  2e-09  5e-08\n",
      " 4:  9.8075e-01  8.7471e-01  1e-01  1e-09  2e-08\n",
      " 5:  9.4197e-01  8.9847e-01  4e-02  1e-09  1e-08\n",
      " 6:  9.2764e-01  9.0771e-01  2e-02  1e-09  5e-09\n",
      " 7:  9.2159e-01  9.1147e-01  1e-02  8e-10  3e-09\n",
      " 8:  9.1750e-01  9.1444e-01  3e-03  9e-10  1e-09\n",
      " 9:  9.1625e-01  9.1541e-01  8e-04  9e-10  4e-10\n",
      "10:  9.1591e-01  9.1570e-01  2e-04  1e-09  4e-10\n",
      "11:  9.1581e-01  9.1579e-01  2e-05  1e-09  2e-10\n",
      "12:  9.1580e-01  9.1580e-01  9e-07  1e-09  5e-11\n",
      "Optimal solution found.\n"
     ]
    }
   ],
   "source": [
    "X_raw = pd.read_csv('data/Xtr2.csv', sep=' ', header=None).values.reshape((-1))\n",
    "Y = pd.read_csv('data/Ytr2.csv', sep=',', header=0)['Bound'].values\n",
    "Y_train = (Y[:] - 0.5) * 2\n",
    "X_test = pd.read_csv('data/Xte2.csv', sep=' ', header=None).values.reshape((-1))\n",
    "\n",
    "print('train shape : {}'.format(X_train.shape))\n",
    "print('train shape 2 : {}'.format(Y_train.shape))\n",
    "print('test shape : {}'.format(X_test.shape))\n",
    "\n",
    "Y_predict2 = solve_svm_test(X_train, \n",
    "                           X_test, \n",
    "                           Y_train, \n",
    "                           kernel='k_gram', \n",
    "                           k=3, lamb=.001, gamma=3.)"
   ]
  },
  {
   "cell_type": "code",
   "execution_count": 74,
   "metadata": {},
   "outputs": [
    {
     "ename": "ValueError",
     "evalue": "all the input array dimensions except for the concatenation axis must match exactly",
     "output_type": "error",
     "traceback": [
      "\u001b[0;31m---------------------------------------------------------------------------\u001b[0m",
      "\u001b[0;31mValueError\u001b[0m                                Traceback (most recent call last)",
      "\u001b[0;32m<ipython-input-74-f1fdc2584363>\u001b[0m in \u001b[0;36m<module>\u001b[0;34m()\u001b[0m\n\u001b[1;32m      2\u001b[0m \u001b[0mtest1\u001b[0m \u001b[0;34m=\u001b[0m \u001b[0mY_predict1\u001b[0m\u001b[0;34m[\u001b[0m\u001b[0;34m:\u001b[0m\u001b[0;34m]\u001b[0m\u001b[0;34m\u001b[0m\u001b[0m\n\u001b[1;32m      3\u001b[0m \u001b[0mtest2\u001b[0m \u001b[0;34m=\u001b[0m \u001b[0mY_predict2\u001b[0m\u001b[0;34m[\u001b[0m\u001b[0;34m:\u001b[0m\u001b[0;34m]\u001b[0m\u001b[0;34m\u001b[0m\u001b[0m\n\u001b[0;32m----> 4\u001b[0;31m \u001b[0mtest\u001b[0m \u001b[0;34m=\u001b[0m \u001b[0mnp\u001b[0m\u001b[0;34m.\u001b[0m\u001b[0mconcatenate\u001b[0m\u001b[0;34m(\u001b[0m\u001b[0;34m(\u001b[0m\u001b[0mtest0\u001b[0m\u001b[0;34m,\u001b[0m\u001b[0mtest1\u001b[0m\u001b[0;34m,\u001b[0m\u001b[0mtest2\u001b[0m\u001b[0;34m)\u001b[0m\u001b[0;34m,\u001b[0m \u001b[0maxis\u001b[0m\u001b[0;34m=\u001b[0m\u001b[0;36m1\u001b[0m\u001b[0;34m)\u001b[0m\u001b[0;34m.\u001b[0m\u001b[0mreshape\u001b[0m\u001b[0;34m(\u001b[0m\u001b[0;34m-\u001b[0m\u001b[0;36m1\u001b[0m\u001b[0;34m)\u001b[0m\u001b[0;34m.\u001b[0m\u001b[0mastype\u001b[0m\u001b[0;34m(\u001b[0m\u001b[0mint\u001b[0m\u001b[0;34m)\u001b[0m\u001b[0;34m\u001b[0m\u001b[0m\n\u001b[0m\u001b[1;32m      5\u001b[0m \u001b[0mfinal\u001b[0m \u001b[0;34m=\u001b[0m \u001b[0mpd\u001b[0m\u001b[0;34m.\u001b[0m\u001b[0mDataFrame\u001b[0m\u001b[0;34m(\u001b[0m\u001b[0mtest\u001b[0m\u001b[0;34m,\u001b[0m \u001b[0mcolumns\u001b[0m\u001b[0;34m=\u001b[0m\u001b[0;34m[\u001b[0m\u001b[0;34m'bound'\u001b[0m\u001b[0;34m]\u001b[0m\u001b[0;34m)\u001b[0m\u001b[0;34m\u001b[0m\u001b[0m\n\u001b[1;32m      6\u001b[0m \u001b[0mfinal\u001b[0m\u001b[0;34m.\u001b[0m\u001b[0mto_csv\u001b[0m\u001b[0;34m(\u001b[0m\u001b[0;34m'result.csv'\u001b[0m\u001b[0;34m)\u001b[0m\u001b[0;34m\u001b[0m\u001b[0m\n",
      "\u001b[0;31mValueError\u001b[0m: all the input array dimensions except for the concatenation axis must match exactly"
     ]
    }
   ],
   "source": [
    "test0 = Y_predict0[:]\n",
    "test1 = Y_predict1[:]\n",
    "test2 = Y_predict2[:]\n",
    "test = np.concatenate((test0,test1,test2), axis=1).reshape(-1).astype(int)\n",
    "final = pd.DataFrame(test, columns=['bound'])\n",
    "final.to_csv('result.csv')"
   ]
  },
  {
   "cell_type": "code",
   "execution_count": 55,
   "metadata": {},
   "outputs": [
    {
     "data": {
      "text/plain": [
       "(3000,)"
      ]
     },
     "execution_count": 55,
     "metadata": {},
     "output_type": "execute_result"
    }
   ],
   "source": [
    "test.shape"
   ]
  },
  {
   "cell_type": "code",
   "execution_count": 56,
   "metadata": {},
   "outputs": [],
   "source": []
  },
  {
   "cell_type": "code",
   "execution_count": 57,
   "metadata": {},
   "outputs": [],
   "source": [
    "final = pd.DataFrame(test, columns=['bound'])"
   ]
  },
  {
   "cell_type": "code",
   "execution_count": null,
   "metadata": {},
   "outputs": [],
   "source": []
  }
 ],
 "metadata": {
  "kernelspec": {
   "display_name": "Python [conda env:hackathon]",
   "language": "python",
   "name": "conda-env-hackathon-py"
  },
  "language_info": {
   "codemirror_mode": {
    "name": "ipython",
    "version": 3
   },
   "file_extension": ".py",
   "mimetype": "text/x-python",
   "name": "python",
   "nbconvert_exporter": "python",
   "pygments_lexer": "ipython3",
   "version": "3.4.5"
  }
 },
 "nbformat": 4,
 "nbformat_minor": 2
}
